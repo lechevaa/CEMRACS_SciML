{
 "cells": [
  {
   "cell_type": "code",
   "execution_count": 1,
   "id": "def45360-f674-4c36-8c2c-1c1fb9f7965f",
   "metadata": {
    "tags": []
   },
   "outputs": [],
   "source": [
    "import os\n",
    "import sys\n",
    "sys.path.insert(1, '../../../..')"
   ]
  },
  {
   "cell_type": "code",
   "execution_count": 2,
   "id": "25383d53-9203-44a4-8b87-bf002ea1288b",
   "metadata": {
    "tags": []
   },
   "outputs": [],
   "source": [
    "import optuna\n",
    "from optuna.trial import TrialState\n",
    "from optuna.samplers import TPESampler\n",
    "\n",
    "import torch\n",
    "import torch.optim as optim\n",
    "import torch.nn as nn\n",
    "\n",
    "import numpy as np\n",
    "import sklearn\n",
    "import copy\n",
    "\n",
    "from methods.MLP import MLP\n",
    "from methods.methodsDataset.MLPDataset import MLPDataset\n",
    "from methods.DataDrivenMethods import DDMethod\n",
    "from solvers.PoissonSolver import PoissonSolver"
   ]
  },
  {
   "cell_type": "code",
   "execution_count": 3,
   "id": "5d2af12a-bbb6-4639-aca5-398a6c3b3009",
   "metadata": {
    "tags": []
   },
   "outputs": [],
   "source": [
    "params_solver = {'equation': 'Poisson', 'domain': [0., 1.], 'D': 1., 'nx': 101}\n",
    "device = torch.device('cuda' if torch.cuda.is_available() else 'cpu')\n",
    "params_MLP = {'layer_dims': None, 'activations': None, 'device': device, 'seed': 123}"
   ]
  },
  {
   "cell_type": "code",
   "execution_count": 4,
   "id": "5a7ff2ec-6d4f-4196-8311-618b7f57862d",
   "metadata": {
    "tags": []
   },
   "outputs": [],
   "source": [
    "def logn_fct(grid, num_fct, sigma=0.1, centers=None):\n",
    "    D_logs = []\n",
    "\n",
    "    if centers is None:\n",
    "         centers = np.random.uniform(0.2, 0.8, num_fct)\n",
    "        \n",
    "    for c in centers:\n",
    "        D_log = np.exp(-(grid - c)**2 / (2 * sigma**2)) + 1e-1\n",
    "        D_logs.append(D_log)\n",
    "    \n",
    "    return np.stack(D_logs)"
   ]
  },
  {
   "cell_type": "code",
   "execution_count": 5,
   "id": "368ca2cf-7b2a-404e-9ffc-909d8e55fa99",
   "metadata": {
    "tags": []
   },
   "outputs": [],
   "source": [
    "def delta(y, x, dy = 1., dx = 0.) :\n",
    "    \"\"\"    \n",
    "    y : int, float or ndarray of size 1\n",
    "    x : ndarray\n",
    "    \n",
    "    return dy if x = y and dx otherwise\n",
    "    \"\"\"\n",
    "    if torch.is_tensor(y):\n",
    "        return torch.where(torch.isclose(torch.Tensor(x), y), dy, dx)\n",
    "    if not isinstance(y, np.ndarray):\n",
    "        y = np.array(y)\n",
    "    return np.where(np.isclose(np.array(x), y), dy, dx)"
   ]
  },
  {
   "cell_type": "code",
   "execution_count": 6,
   "id": "2540da5d-ac2f-4f37-83b9-6e5f22424bdf",
   "metadata": {
    "tags": []
   },
   "outputs": [],
   "source": [
    "solver = PoissonSolver(params=params_solver)"
   ]
  },
  {
   "cell_type": "code",
   "execution_count": 8,
   "id": "d17baebb-ed24-4b27-ae01-a7e78f4064db",
   "metadata": {
    "tags": []
   },
   "outputs": [],
   "source": [
    "Y_list = solver.x[20:81].reshape(-1, 1)\n",
    "VD = logn_fct(solver.x, num_fct=61, centers=Y_list)\n",
    "VF = delta(Y_list, solver.x)"
   ]
  },
  {
   "cell_type": "code",
   "execution_count": 10,
   "id": "a697db5b-9087-4d4b-85fa-601a524defcd",
   "metadata": {
    "tags": []
   },
   "outputs": [],
   "source": [
    "# Vectorized solver\n",
    "VU = solver.Vsolve(vect = 'DF', D=VD, F=VF)"
   ]
  },
  {
   "cell_type": "code",
   "execution_count": 11,
   "id": "eb601c89-9a7f-4ead-8f80-cc3b8c9b31f5",
   "metadata": {
    "tags": []
   },
   "outputs": [
    {
     "name": "stdout",
     "output_type": "stream",
     "text": [
      "(61, 101) (61, 101) (61, 101)\n"
     ]
    }
   ],
   "source": [
    "print(VD.shape, VF.shape, VU.shape)"
   ]
  },
  {
   "cell_type": "code",
   "execution_count": 12,
   "id": "20df73bf-0c3e-41d8-87fe-65a2f0eb639a",
   "metadata": {
    "tags": []
   },
   "outputs": [
    {
     "name": "stdout",
     "output_type": "stream",
     "text": [
      "(61, 101, 2)\n"
     ]
    }
   ],
   "source": [
    "VDF = np.concatenate([np.expand_dims(VD, -1), np.expand_dims(VF, -1)], axis=-1)\n",
    "\n",
    "print(VDF.shape)"
   ]
  },
  {
   "cell_type": "code",
   "execution_count": 19,
   "id": "b3f0645f-775b-49eb-9da8-723ad99ec9a2",
   "metadata": {
    "tags": []
   },
   "outputs": [],
   "source": [
    "df_train, df_val, u_train, u_val = sklearn.model_selection.train_test_split(VDF, VU, test_size=0.2, random_state=123)"
   ]
  },
  {
   "cell_type": "code",
   "execution_count": 21,
   "id": "6036d9e7-4fac-43b5-be4d-f7ad5c1259f4",
   "metadata": {
    "tags": []
   },
   "outputs": [],
   "source": [
    "nx = params_solver['nx']\n",
    "DF_train = torch.Tensor(df_train.reshape(df_train.shape[0]* df_train.shape[1], df_train.shape[2]))\n",
    "DF_val = torch.Tensor(df_val.reshape(df_val.shape[0] * df_val.shape[1], df_val.shape[2]))\n",
    "\n",
    "x = torch.Tensor(solver.x).view(-1, 1)\n",
    "X_train = x.repeat(df_train.shape[0], 1)\n",
    "X_val = x.repeat(df_val.shape[0], 1)"
   ]
  },
  {
   "cell_type": "code",
   "execution_count": 22,
   "id": "62b027b1-4188-415c-a819-ff65645e56f4",
   "metadata": {
    "tags": []
   },
   "outputs": [],
   "source": [
    "DFX_train = torch.cat((DF_train, X_train), dim=1)\n",
    "DFX_val = torch.cat((DF_val, X_val), dim=1)\n",
    "\n",
    "U_train = torch.Tensor(u_train).view(-1, 1)\n",
    "U_val = torch.Tensor(u_val).view(-1, 1)"
   ]
  },
  {
   "cell_type": "code",
   "execution_count": 18,
   "id": "474d49a0-6bea-4502-b5f3-59bea8c2335e",
   "metadata": {
    "tags": []
   },
   "outputs": [],
   "source": [
    "def get_dataset():\n",
    "    return DX_train, DX_val, U_train, U_val"
   ]
  },
  {
   "cell_type": "code",
   "execution_count": 19,
   "id": "b6b993f9-cd86-4d12-922f-4eec7fc94725",
   "metadata": {
    "tags": []
   },
   "outputs": [],
   "source": [
    "def loss_fn(x, y = 0):\n",
    "    return torch.square(y - x).mean()"
   ]
  },
  {
   "cell_type": "code",
   "execution_count": 20,
   "id": "a78ed795-0daf-4689-890d-8f5cc74da211",
   "metadata": {
    "tags": []
   },
   "outputs": [],
   "source": [
    "def define_model(trial, input_size, output_size):\n",
    "    n_layers = trial.suggest_int(\"n_layers\", 1, 10)\n",
    "    layers = [input_size]\n",
    "    activations = []\n",
    "    for i in range(n_layers):\n",
    "        out_features = trial.suggest_int(\"units_l{}\".format(i), 52, 512)\n",
    "        activation = trial.suggest_categorical(\"activation_l{}\".format(i), [\"tanh\", \"softplus\", \"relu\"])\n",
    "        layers += [out_features]\n",
    "        activations.append(activation)\n",
    "    layers += [output_size]\n",
    "    params_MLP_trial = copy.deepcopy(params_MLP)\n",
    "    params_MLP_trial['layer_dims'] = layers\n",
    "    params_MLP_trial['activations'] = activations\n",
    "    return MLP(params={'solver':None, 'method':params_MLP_trial})"
   ]
  },
  {
   "cell_type": "code",
   "execution_count": 9,
   "id": "26daf0bc-d997-407d-842e-98700cfaff64",
   "metadata": {},
   "outputs": [],
   "source": [
    "def objective(trial):\n",
    "    # Generate the model.\n",
    "    model = define_model(trial, 1, 101)\n",
    "\n",
    "    # Generate the optimizers.\n",
    "    optimizer_name = trial.suggest_categorical(\"optimizer\", [\"Adam\", \"RMSprop\", \"SGD\"])\n",
    "    lr = trial.suggest_float(\"lr\", 1e-5, 1e-1, log=True)\n",
    "    optimizer = getattr(optim, optimizer_name)(model.parameters(), lr=lr)\n",
    "    \n",
    "    D_train, D_val, U_train, U_val = get_dataset()\n",
    "\n",
    "    trainDataset = MLPDataset(x=D_train, y=U_train)\n",
    "    valDataset = MLPDataset(x=D_val, y=U_val)\n",
    "\n",
    "    batch_size = trial.suggest_int(\"batch_size\", 32, 256)\n",
    "    torch.manual_seed(params_MLP['seed'])\n",
    "    trainLoader = torch.utils.data.DataLoader(trainDataset, batch_size=batch_size, shuffle=True)\n",
    "    valLoader = torch.utils.data.DataLoader(valDataset, batch_size=batch_size, shuffle=False)\n",
    "\n",
    "    # Training of the model.\n",
    "    loss_vals = []\n",
    "    for epoch in range(1000):\n",
    "        model.train()\n",
    "        for i, data in enumerate(trainLoader):\n",
    "            inputs, label = data\n",
    "            optimizer.zero_grad()\n",
    "            output = model(inputs)\n",
    "            loss = loss_fn(output, label)\n",
    "            loss.backward()\n",
    "            optimizer.step()\n",
    "            \n",
    "        # Validation of the model.\n",
    "        model.eval()\n",
    "        loss_val = 0.\n",
    "        with torch.no_grad():\n",
    "            for i, data in enumerate(valLoader):\n",
    "                inputs, label = data\n",
    "                optimizer.zero_grad()\n",
    "                output = model(inputs)\n",
    "                loss_val += loss_fn(output, label).item()\n",
    "        loss_val /= (i+1)\n",
    "        loss_vals.append(loss_val)\n",
    "\n",
    "        trial.report(min(loss_vals), epoch)\n",
    "\n",
    "        # Handle pruning based on the intermediate value.\n",
    "        if trial.should_prune():\n",
    "            raise optuna.exceptions.TrialPruned()\n",
    "\n",
    "    return min(loss_vals)"
   ]
  },
  {
   "cell_type": "code",
   "execution_count": 10,
   "id": "8cd87a54-d252-4a6e-be68-716555ed1845",
   "metadata": {},
   "outputs": [
    {
     "name": "stderr",
     "output_type": "stream",
     "text": [
      "[I 2023-08-01 16:15:36,039] A new study created in memory with name: no-name-1d625898-a44d-4df8-8063-35c0bedbca63\n"
     ]
    }
   ],
   "source": [
    "sampler = TPESampler(seed=params_MLP['seed'])\n",
    "study = optuna.create_study(direction=\"minimize\", sampler=sampler)"
   ]
  },
  {
   "cell_type": "code",
   "execution_count": null,
   "id": "7c7c221c-438c-44a0-b5c2-5772892fe31d",
   "metadata": {},
   "outputs": [],
   "source": [
    "study.optimize(objective, n_trials=10, timeout=600)"
   ]
  },
  {
   "cell_type": "code",
   "execution_count": null,
   "id": "57a2edad-074d-47e1-83be-a963dfd84a70",
   "metadata": {},
   "outputs": [],
   "source": [
    "pruned_trials = study.get_trials(deepcopy=False, states=[TrialState.PRUNED])\n",
    "complete_trials = study.get_trials(deepcopy=False, states=[TrialState.COMPLETE])\n",
    "\n",
    "print(\"Study statistics: \")\n",
    "print(\"  Number of finished trials: \", len(study.trials))\n",
    "print(\"  Number of pruned trials: \", len(pruned_trials))\n",
    "print(\"  Number of complete trials: \", len(complete_trials))\n",
    "\n",
    "print(\"Best trial:\")\n",
    "trial = study.best_trial\n",
    "\n",
    "print(\"  Value: \", trial.value)\n",
    "\n",
    "print(\"  Params: \")\n",
    "for key, value in trial.params.items():\n",
    "    print(\"    {}: {}\".format(key, value))"
   ]
  },
  {
   "cell_type": "code",
   "execution_count": null,
   "id": "14791500-59c8-4a11-b468-47ca5369e6d6",
   "metadata": {},
   "outputs": [],
   "source": [
    "activations = []\n",
    "layer_dims = []\n",
    "\n",
    "for key, value in trial.params.items():\n",
    "    if key.split('_')[0] == 'activation':\n",
    "        activations.append(value)\n",
    "    elif key.split('_')[0] == 'units':\n",
    "        layer_dims.append(value)\n",
    "    elif key == 'optimizer':\n",
    "        optimizer = value\n",
    "    elif key == 'lr':\n",
    "        lr = value"
   ]
  },
  {
   "cell_type": "markdown",
   "id": "6101b79c-43b3-44a6-b42a-8a0827585b54",
   "metadata": {},
   "source": [
    "Use this to fill config_step_1.py"
   ]
  },
  {
   "cell_type": "code",
   "execution_count": null,
   "id": "93c794c9-5dbb-4ef3-9f68-ca238d67fea3",
   "metadata": {},
   "outputs": [],
   "source": [
    "print(activations, '\\n', layer_dims, '\\n', optimizer, '\\n', lr)"
   ]
  },
  {
   "cell_type": "code",
   "execution_count": null,
   "id": "2c0cebce-6df1-44cc-aa1e-51e3834853ed",
   "metadata": {},
   "outputs": [],
   "source": []
  }
 ],
 "metadata": {
  "kernelspec": {
   "display_name": "cemracs",
   "language": "python",
   "name": "cemracs"
  },
  "language_info": {
   "codemirror_mode": {
    "name": "ipython",
    "version": 3
   },
   "file_extension": ".py",
   "mimetype": "text/x-python",
   "name": "python",
   "nbconvert_exporter": "python",
   "pygments_lexer": "ipython3",
   "version": "3.11.4"
  }
 },
 "nbformat": 4,
 "nbformat_minor": 5
}
