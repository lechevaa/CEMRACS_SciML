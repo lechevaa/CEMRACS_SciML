{
 "cells": [
  {
   "cell_type": "code",
   "execution_count": 1,
   "id": "def45360-f674-4c36-8c2c-1c1fb9f7965f",
   "metadata": {
    "tags": []
   },
   "outputs": [],
   "source": [
    "import os\n",
    "import sys\n",
    "sys.path.insert(1, '../../../..')"
   ]
  },
  {
   "cell_type": "code",
   "execution_count": 2,
   "id": "25383d53-9203-44a4-8b87-bf002ea1288b",
   "metadata": {
    "tags": []
   },
   "outputs": [],
   "source": [
    "import optuna\n",
    "from optuna.trial import TrialState\n",
    "from optuna.samplers import TPESampler\n",
    "\n",
    "import torch\n",
    "import torch.optim as optim\n",
    "import torch.nn as nn\n",
    "\n",
    "import numpy as np\n",
    "import sklearn\n",
    "import copy\n",
    "\n",
    "from methods.FNO import FNO1d\n",
    "from methods.methodsDataset.FNODataset import FNODataset\n",
    "from methods.DataDrivenMethods import DDMethod\n",
    "from solvers.Solver import Solver"
   ]
  },
  {
   "cell_type": "code",
   "execution_count": 3,
   "id": "5d2af12a-bbb6-4639-aca5-398a6c3b3009",
   "metadata": {
    "tags": []
   },
   "outputs": [],
   "source": [
    "params_solver = {'equation': 'Poisson', 'domain': [0., 1.], 'D': 1e-3, 'nx': 101}\n",
    "device = torch.device('cuda' if torch.cuda.is_available() else 'cpu')\n",
    "params_FNO = {'layer_dims': None, 'FourierLayers_modes': None, 'device': device, 'seed': 123}"
   ]
  },
  {
   "cell_type": "code",
   "execution_count": 4,
   "id": "5b85eba0-e667-4ab7-baa5-11400c272a90",
   "metadata": {
    "tags": []
   },
   "outputs": [],
   "source": [
    "def delta(y, x, dy = 1., dx = 0.) :\n",
    "    \"\"\"    \n",
    "    y : int, float or ndarray of size 1\n",
    "    x : ndarray\n",
    "    \n",
    "    return dy if x = y and dx otherwise\n",
    "    \"\"\"\n",
    "    if torch.is_tensor(y) or torch.is_tensor(y):\n",
    "        return torch.where(x == y, dy, dx)\n",
    "    return np.where(x == y, dy, dx)"
   ]
  },
  {
   "cell_type": "code",
   "execution_count": 5,
   "id": "13da300f-13f6-4f8a-b756-a3f45005bf2e",
   "metadata": {
    "tags": []
   },
   "outputs": [],
   "source": [
    "params_solver['source_term'] = lambda y, x : delta(y, x)\n",
    "params_solver['y'] = None"
   ]
  },
  {
   "cell_type": "code",
   "execution_count": 6,
   "id": "802e61eb-d600-4dc7-9988-0760371ca837",
   "metadata": {
    "tags": []
   },
   "outputs": [],
   "source": [
    "solver = Solver(params={'solver': params_solver})"
   ]
  },
  {
   "cell_type": "code",
   "execution_count": 7,
   "id": "9ad79b57-1247-4cbc-a6ea-d69c010818d5",
   "metadata": {
    "tags": []
   },
   "outputs": [],
   "source": [
    "Y_list = solver.x[20:81].reshape(-1, 1)"
   ]
  },
  {
   "cell_type": "code",
   "execution_count": 8,
   "id": "159e6fb1-3f8f-4255-b553-fd252a93331b",
   "metadata": {
    "tags": []
   },
   "outputs": [],
   "source": [
    "U_sols = []\n",
    "for y in Y_list:\n",
    "    solver.change_y(new_y= y)\n",
    "    U_sols.append(solver.solve())\n",
    "U_sols = np.stack(U_sols)"
   ]
  },
  {
   "cell_type": "code",
   "execution_count": 9,
   "id": "012807db-7d7a-4990-9f49-d9cfe77b9f87",
   "metadata": {
    "tags": []
   },
   "outputs": [],
   "source": [
    "Y_train, Y_val, U_train, U_val = sklearn.model_selection.train_test_split(Y_list, U_sols, test_size=0.2, random_state=123)"
   ]
  },
  {
   "cell_type": "code",
   "execution_count": 10,
   "id": "da9a5074-6a65-4aae-98a3-58d675df2784",
   "metadata": {
    "tags": []
   },
   "outputs": [],
   "source": [
    "delta_Y_train = delta(Y_train, solver.x)\n",
    "delta_Y_val = delta(Y_val, solver.x)"
   ]
  },
  {
   "cell_type": "code",
   "execution_count": 11,
   "id": "a5ada668-5224-4204-a01f-ff8c24ef0884",
   "metadata": {
    "tags": []
   },
   "outputs": [],
   "source": [
    "Y_fno_train = torch.Tensor(delta_Y_train).unsqueeze(-1)\n",
    "Y_fno_val = torch.Tensor(delta_Y_val).unsqueeze(-1)"
   ]
  },
  {
   "cell_type": "code",
   "execution_count": 12,
   "id": "474d49a0-6bea-4502-b5f3-59bea8c2335e",
   "metadata": {
    "tags": []
   },
   "outputs": [],
   "source": [
    "def get_dataset():\n",
    "    return Y_fno_train, Y_fno_val, U_train, U_val"
   ]
  },
  {
   "cell_type": "code",
   "execution_count": 13,
   "id": "b6b993f9-cd86-4d12-922f-4eec7fc94725",
   "metadata": {
    "tags": []
   },
   "outputs": [],
   "source": [
    "def loss_fn(x, y = 0):\n",
    "    return torch.square(y - x).mean()"
   ]
  },
  {
   "cell_type": "code",
   "execution_count": 14,
   "id": "a78ed795-0daf-4689-890d-8f5cc74da211",
   "metadata": {
    "tags": []
   },
   "outputs": [],
   "source": [
    "def define_model(trial, input_chanel):\n",
    "    n_fourier_layers = trial.suggest_int(\"n_fourier_layers\", 1, 5)\n",
    "    lifting_layer = trial.suggest_int(\"lifting_layer\", 32, 64)\n",
    "    layers = [input_chanel, lifting_layer]\n",
    "    fourier_modes = []\n",
    "    for i in range(n_fourier_layers):\n",
    "        out_features = trial.suggest_int(\"Fourier_units_l{}\".format(i), 32, 64)\n",
    "        fourier_mode = trial.suggest_int(\"Fourier_modes_l{}\".format(i), 12, 16)\n",
    "        layers += [out_features]\n",
    "        fourier_modes.append(fourier_mode)\n",
    "    \n",
    "    params_FNO_trial = copy.deepcopy(params_FNO)\n",
    "    params_FNO_trial['layers_dim'] = layers\n",
    "    params_FNO_trial['FourierLayers_modes'] = fourier_modes\n",
    "    return FNO1d(params={'solver':params_solver, 'method':params_FNO_trial})"
   ]
  },
  {
   "cell_type": "code",
   "execution_count": 15,
   "id": "26daf0bc-d997-407d-842e-98700cfaff64",
   "metadata": {
    "tags": []
   },
   "outputs": [],
   "source": [
    "def objective(trial):\n",
    "    # Generate the model.\n",
    "    model = define_model(trial, 1)\n",
    "\n",
    "    # Generate the optimizers.\n",
    "    lr = trial.suggest_float(\"lr\", 1e-5, 1e-2, log=True)\n",
    "\n",
    "    Y_train, Y_val, U_train, U_val = get_dataset()\n",
    "    \n",
    "    batch_size = trial.suggest_int(\"batch_size\", 128, 1024)\n",
    "    \n",
    "    n_epochs = 10000\n",
    "    hyperparameters = {'lr': lr, 'epochs': n_epochs, 'optimizer': 'Adam', 'batch_size': batch_size}\n",
    "    \n",
    "    torch.manual_seed(params_FNO['seed'])\n",
    "    model.fit(hyperparameters=hyperparameters, \n",
    "                            D_train=Y_train, D_val=Y_val, U_train=U_train, U_val=U_val)\n",
    "\n",
    "            \n",
    "    val_loss = model.loss_dict['val']\n",
    "    trial.report(min(val_loss), n_epochs)\n",
    "    \n",
    "    return min(val_loss)"
   ]
  },
  {
   "cell_type": "code",
   "execution_count": 16,
   "id": "8cd87a54-d252-4a6e-be68-716555ed1845",
   "metadata": {
    "tags": []
   },
   "outputs": [
    {
     "name": "stderr",
     "output_type": "stream",
     "text": [
      "[I 2023-08-10 17:42:47,121] A new study created in memory with name: no-name-d5df1679-1c4b-4819-b68c-166ef61c3736\n"
     ]
    }
   ],
   "source": [
    "sampler = TPESampler(seed=params_FNO['seed'])\n",
    "study = optuna.create_study(direction=\"minimize\", sampler=sampler)"
   ]
  },
  {
   "cell_type": "code",
   "execution_count": 17,
   "id": "7c7c221c-438c-44a0-b5c2-5772892fe31d",
   "metadata": {
    "tags": []
   },
   "outputs": [
    {
     "name": "stderr",
     "output_type": "stream",
     "text": [
      "[tr : 1.1e-06, val : 1.4e-06]: 100%|\u001b[34m█████\u001b[0m| 10000/10000 [00:52<00:00, 190.00it/s]\u001b[0m\n",
      "[I 2023-08-10 17:43:40,500] Trial 0 finished with value: 1.264178536075633e-06 and parameters: {'n_fourier_layers': 4, 'lifting_layer': 41, 'Fourier_units_l0': 39, 'Fourier_modes_l0': 14, 'Fourier_units_l1': 55, 'Fourier_modes_l1': 14, 'Fourier_units_l2': 64, 'Fourier_modes_l2': 15, 'Fourier_units_l3': 47, 'Fourier_modes_l3': 13, 'lr': 0.00010703702960745551, 'batch_size': 781}. Best is trial 0 with value: 1.264178536075633e-06.\n",
      "[tr : 6.5e-07, val : 8.2e-07]: 100%|\u001b[34m█████\u001b[0m| 10000/10000 [00:43<00:00, 228.10it/s]\u001b[0m\n",
      "[I 2023-08-10 17:44:24,347] Trial 1 finished with value: 7.380872375506442e-07 and parameters: {'n_fourier_layers': 3, 'lifting_layer': 33, 'Fourier_units_l0': 45, 'Fourier_modes_l0': 15, 'Fourier_units_l1': 38, 'Fourier_modes_l1': 12, 'Fourier_units_l2': 49, 'Fourier_modes_l2': 14, 'lr': 0.0008002079756292469, 'batch_size': 889}. Best is trial 1 with value: 7.380872375506442e-07.\n",
      "[tr : 5.1e-07, val : 7.1e-07]: 100%|\u001b[34m█████\u001b[0m| 10000/10000 [00:53<00:00, 186.01it/s]\u001b[0m\n",
      "[I 2023-08-10 17:45:18,114] Trial 2 finished with value: 6.042875497769273e-07 and parameters: {'n_fourier_layers': 4, 'lifting_layer': 52, 'Fourier_units_l0': 55, 'Fourier_modes_l0': 13, 'Fourier_units_l1': 43, 'Fourier_modes_l1': 13, 'Fourier_units_l2': 41, 'Fourier_modes_l2': 15, 'Fourier_units_l3': 35, 'Fourier_modes_l3': 14, 'lr': 0.00019614998984838697, 'batch_size': 570}. Best is trial 2 with value: 6.042875497769273e-07.\n",
      "[tr : 1.5e-06, val : 1.9e-06]: 100%|\u001b[34m█████\u001b[0m| 10000/10000 [00:46<00:00, 215.07it/s]\u001b[0m\n",
      "[I 2023-08-10 17:46:04,618] Trial 3 finished with value: 1.7203208244609414e-06 and parameters: {'n_fourier_layers': 3, 'lifting_layer': 42, 'Fourier_units_l0': 46, 'Fourier_modes_l0': 16, 'Fourier_units_l1': 63, 'Fourier_modes_l1': 14, 'Fourier_units_l2': 52, 'Fourier_modes_l2': 12, 'lr': 8.950688547316978e-05, 'batch_size': 500}. Best is trial 2 with value: 6.042875497769273e-07.\n",
      "[tr : 6.8e-07, val : 1.0e-06]: 100%|\u001b[34m█████\u001b[0m| 10000/10000 [00:59<00:00, 168.03it/s]\u001b[0m\n",
      "[I 2023-08-10 17:47:04,139] Trial 4 finished with value: 4.832523359254992e-07 and parameters: {'n_fourier_layers': 5, 'lifting_layer': 40, 'Fourier_units_l0': 47, 'Fourier_modes_l0': 16, 'Fourier_units_l1': 49, 'Fourier_modes_l1': 15, 'Fourier_units_l2': 35, 'Fourier_modes_l2': 16, 'Fourier_units_l3': 51, 'Fourier_modes_l3': 14, 'Fourier_units_l4': 43, 'Fourier_modes_l4': 13, 'lr': 0.0001782652255813462, 'batch_size': 739}. Best is trial 4 with value: 4.832523359254992e-07.\n"
     ]
    }
   ],
   "source": [
    "study.optimize(objective, n_trials=5)"
   ]
  },
  {
   "cell_type": "code",
   "execution_count": 18,
   "id": "57a2edad-074d-47e1-83be-a963dfd84a70",
   "metadata": {
    "tags": []
   },
   "outputs": [
    {
     "name": "stdout",
     "output_type": "stream",
     "text": [
      "Study statistics: \n",
      "  Number of finished trials:  5\n",
      "  Number of pruned trials:  0\n",
      "  Number of complete trials:  5\n",
      "Best trial:\n",
      "  Value:  4.832523359254992e-07\n",
      "  Params: \n",
      "    n_fourier_layers: 5\n",
      "    lifting_layer: 40\n",
      "    Fourier_units_l0: 47\n",
      "    Fourier_modes_l0: 16\n",
      "    Fourier_units_l1: 49\n",
      "    Fourier_modes_l1: 15\n",
      "    Fourier_units_l2: 35\n",
      "    Fourier_modes_l2: 16\n",
      "    Fourier_units_l3: 51\n",
      "    Fourier_modes_l3: 14\n",
      "    Fourier_units_l4: 43\n",
      "    Fourier_modes_l4: 13\n",
      "    lr: 0.0001782652255813462\n",
      "    batch_size: 739\n"
     ]
    }
   ],
   "source": [
    "pruned_trials = study.get_trials(deepcopy=False, states=[TrialState.PRUNED])\n",
    "complete_trials = study.get_trials(deepcopy=False, states=[TrialState.COMPLETE])\n",
    "\n",
    "print(\"Study statistics: \")\n",
    "print(\"  Number of finished trials: \", len(study.trials))\n",
    "print(\"  Number of pruned trials: \", len(pruned_trials))\n",
    "print(\"  Number of complete trials: \", len(complete_trials))\n",
    "\n",
    "print(\"Best trial:\")\n",
    "trial = study.best_trial\n",
    "\n",
    "print(\"  Value: \", trial.value)\n",
    "\n",
    "print(\"  Params: \")\n",
    "for key, value in trial.params.items():\n",
    "    print(\"    {}: {}\".format(key, value))"
   ]
  },
  {
   "cell_type": "code",
   "execution_count": 19,
   "id": "14791500-59c8-4a11-b468-47ca5369e6d6",
   "metadata": {
    "tags": []
   },
   "outputs": [],
   "source": [
    "modes = []\n",
    "layer_dims = []\n",
    "\n",
    "for key, value in trial.params.items():\n",
    "    if key.split('_')[0] == 'Fourier':\n",
    "        if key.split('_')[1] == 'modes':\n",
    "            modes.append(value)\n",
    "        if key.split('_')[1] == 'units':\n",
    "            layer_dims.append(value)\n",
    "    elif key.split('_')[0] == 'lifting':\n",
    "        lifting = value\n",
    "    elif key == 'optimizer':\n",
    "        optimizer = value\n",
    "    elif key == 'lr':\n",
    "        lr = value\n",
    "    elif key == 'batch_size':\n",
    "        batch_size = value"
   ]
  },
  {
   "cell_type": "markdown",
   "id": "6101b79c-43b3-44a6-b42a-8a0827585b54",
   "metadata": {},
   "source": [
    "Use this to fill config_step_1.py"
   ]
  },
  {
   "cell_type": "code",
   "execution_count": 20,
   "id": "93c794c9-5dbb-4ef3-9f68-ca238d67fea3",
   "metadata": {
    "tags": []
   },
   "outputs": [
    {
     "name": "stdout",
     "output_type": "stream",
     "text": [
      "[47, 49, 35, 51, 43] \n",
      " [16, 15, 16, 14, 13] \n",
      " 40 \n",
      " \n",
      " 0.0001782652255813462 \n",
      " 739\n"
     ]
    }
   ],
   "source": [
    "print(layer_dims, '\\n', modes, '\\n', lifting, '\\n', '\\n', lr, '\\n', batch_size)"
   ]
  },
  {
   "cell_type": "code",
   "execution_count": null,
   "id": "2c0cebce-6df1-44cc-aa1e-51e3834853ed",
   "metadata": {},
   "outputs": [],
   "source": []
  }
 ],
 "metadata": {
  "kernelspec": {
   "display_name": "cemracs",
   "language": "python",
   "name": "cemracs"
  },
  "language_info": {
   "codemirror_mode": {
    "name": "ipython",
    "version": 3
   },
   "file_extension": ".py",
   "mimetype": "text/x-python",
   "name": "python",
   "nbconvert_exporter": "python",
   "pygments_lexer": "ipython3",
   "version": "3.11.4"
  }
 },
 "nbformat": 4,
 "nbformat_minor": 5
}
