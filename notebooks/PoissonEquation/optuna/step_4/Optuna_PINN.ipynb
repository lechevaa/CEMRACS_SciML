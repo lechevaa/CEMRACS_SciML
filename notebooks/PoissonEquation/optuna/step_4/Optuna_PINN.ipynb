{
 "cells": [
  {
   "cell_type": "code",
   "execution_count": 1,
   "id": "def45360-f674-4c36-8c2c-1c1fb9f7965f",
   "metadata": {
    "tags": []
   },
   "outputs": [],
   "source": [
    "import sys\n",
    "sys.path.insert(1, '../../../..')"
   ]
  },
  {
   "cell_type": "code",
   "execution_count": 2,
   "id": "25383d53-9203-44a4-8b87-bf002ea1288b",
   "metadata": {
    "tags": []
   },
   "outputs": [],
   "source": [
    "import optuna\n",
    "from optuna.trial import TrialState\n",
    "from optuna.samplers import TPESampler\n",
    "\n",
    "import torch\n",
    "import torch.optim as optim\n",
    "import torch.nn as nn\n",
    "\n",
    "import numpy as np\n",
    "import sklearn\n",
    "import copy\n",
    "\n",
    "from methods.PINN import PINN\n",
    "from methods.methodsDataset.PINNDataset import PINNDataset\n",
    "from methods.DataDrivenMethods import DDMethod\n",
    "from solvers.PoissonSolver import PoissonSolver"
   ]
  },
  {
   "cell_type": "code",
   "execution_count": 3,
   "id": "5d2af12a-bbb6-4639-aca5-398a6c3b3009",
   "metadata": {
    "tags": []
   },
   "outputs": [],
   "source": [
    "params_solver = {'equation': 'Poisson', 'domain': [0., 1.], 'D': None, 'nx': 101}\n",
    "device = torch.device('cuda' if torch.cuda.is_available() else 'cpu')\n",
    "params_PINN = {'layer_dims': None, 'activations': None, 'device': device, 'seed': 123}"
   ]
  },
  {
   "cell_type": "code",
   "execution_count": 4,
   "id": "91721845-d82e-471a-8caf-bf1588da541a",
   "metadata": {
    "tags": []
   },
   "outputs": [],
   "source": [
    "def logn_fct(grid, num_fct, sigma=0.1, centers=None):\n",
    "    D_logs = []\n",
    "\n",
    "    if centers is None:\n",
    "         centers = np.random.uniform(0.2, 0.8, num_fct)\n",
    "        \n",
    "    for c in centers:\n",
    "        D_log = np.exp(-(grid - c)**2 / (2 * sigma**2)) + 1e-1\n",
    "        D_logs.append(D_log)\n",
    "    \n",
    "    return np.stack(D_logs)"
   ]
  },
  {
   "cell_type": "code",
   "execution_count": 5,
   "id": "080b7c37-a6eb-4f00-8f6c-5ce3baa217cd",
   "metadata": {
    "tags": []
   },
   "outputs": [],
   "source": [
    "def delta(y, x, dy = 1., dx = 0.) :\n",
    "    \"\"\"    \n",
    "    y : int, float or ndarray of size 1\n",
    "    x : ndarray\n",
    "    \n",
    "    return dy if x = y and dx otherwise\n",
    "    \"\"\"\n",
    "    if torch.is_tensor(y):\n",
    "        return torch.where(torch.isclose(torch.Tensor(x), y), dy, dx)\n",
    "    if not isinstance(y, np.ndarray):\n",
    "        y = np.array(y)\n",
    "    return np.where(np.isclose(np.array(x), y), dy, dx)"
   ]
  },
  {
   "cell_type": "code",
   "execution_count": 6,
   "id": "2bd8ef81-8a76-4169-b7a7-a2450fc130a6",
   "metadata": {
    "tags": []
   },
   "outputs": [],
   "source": [
    "solver = PoissonSolver(params=params_solver)"
   ]
  },
  {
   "cell_type": "code",
   "execution_count": 7,
   "id": "a9060395-4ff5-4cb1-9e7e-c5967352aab9",
   "metadata": {
    "tags": []
   },
   "outputs": [],
   "source": [
    "Y_list = solver.x[20:81].reshape(-1, 1)\n",
    "VD = logn_fct(solver.x, num_fct=61, centers=Y_list)\n",
    "VF = delta(Y_list, solver.x)"
   ]
  },
  {
   "cell_type": "code",
   "execution_count": 8,
   "id": "3e89e21d-89a2-476f-ac21-22ce9572232e",
   "metadata": {
    "tags": []
   },
   "outputs": [],
   "source": [
    "# Vectorized solver\n",
    "VU = solver.Vsolve(vect = 'DF', D=VD, F=VF)"
   ]
  },
  {
   "cell_type": "code",
   "execution_count": 9,
   "id": "77c90f3d-5d1d-4c4a-8396-235a3a8cb41f",
   "metadata": {
    "tags": []
   },
   "outputs": [
    {
     "name": "stdout",
     "output_type": "stream",
     "text": [
      "(61, 101) (61, 101) (61, 101)\n"
     ]
    }
   ],
   "source": [
    "print(VD.shape, VF.shape, VU.shape)"
   ]
  },
  {
   "cell_type": "code",
   "execution_count": 10,
   "id": "28e502cd-1c11-4e2f-a967-61e25f782f6d",
   "metadata": {
    "tags": []
   },
   "outputs": [
    {
     "name": "stdout",
     "output_type": "stream",
     "text": [
      "(61, 101, 2)\n"
     ]
    }
   ],
   "source": [
    "VDF = np.concatenate([np.expand_dims(VD, -1), np.expand_dims(VF, -1)], axis=-1)\n",
    "\n",
    "print(VDF.shape)"
   ]
  },
  {
   "cell_type": "code",
   "execution_count": 11,
   "id": "3f5cdc50-a28a-49b0-a021-59dd980c127f",
   "metadata": {
    "tags": []
   },
   "outputs": [],
   "source": [
    "df_train, df_val, u_train, u_val = sklearn.model_selection.train_test_split(VDF, VU, test_size=0.2, random_state=123)"
   ]
  },
  {
   "cell_type": "code",
   "execution_count": 12,
   "id": "80b6e349-f027-49d0-8635-237a8ebcd15e",
   "metadata": {
    "tags": []
   },
   "outputs": [],
   "source": [
    "nx = params_solver['nx']\n",
    "DF_train = torch.Tensor(df_train.reshape(df_train.shape[0]* df_train.shape[1], df_train.shape[2]))\n",
    "DF_val = torch.Tensor(df_val.reshape(df_val.shape[0] * df_val.shape[1], df_val.shape[2]))\n",
    "\n",
    "x = torch.Tensor(solver.x).view(-1, 1)\n",
    "X_train = x.repeat(df_train.shape[0], 1)\n",
    "X_val = x.repeat(df_val.shape[0], 1)"
   ]
  },
  {
   "cell_type": "code",
   "execution_count": 23,
   "id": "1ab34949-c03c-469a-a3f5-f6923feb489b",
   "metadata": {
    "tags": []
   },
   "outputs": [
    {
     "data": {
      "text/plain": [
       "torch.Size([4848, 2])"
      ]
     },
     "execution_count": 23,
     "metadata": {},
     "output_type": "execute_result"
    }
   ],
   "source": [
    "DF_train.shape"
   ]
  },
  {
   "cell_type": "raw",
   "id": "1ad29d3a-d547-4a92-a321-8e377d68a54b",
   "metadata": {
    "tags": []
   },
   "source": [
    "import matplotlib.pyplot as plt"
   ]
  },
  {
   "cell_type": "raw",
   "id": "289c6144-9fca-4971-ba04-cd1f139d51e8",
   "metadata": {
    "tags": []
   },
   "source": [
    "plt.plot(solver.x, DF_train[0:nx, 0])\n",
    "plt.plot(solver.x, DF_train[0:nx, 1])"
   ]
  },
  {
   "cell_type": "code",
   "execution_count": 13,
   "id": "87bcb82e-8a2f-4fa4-8f3f-ac8021dc2a84",
   "metadata": {
    "tags": []
   },
   "outputs": [],
   "source": [
    "DFX_train = torch.cat((DF_train, X_train), dim=1)\n",
    "DFX_val = torch.cat((DF_val, X_val), dim=1)\n",
    "\n",
    "U_train = torch.Tensor(u_train).view(-1, 1)\n",
    "U_val = torch.Tensor(u_val).view(-1, 1)"
   ]
  },
  {
   "cell_type": "code",
   "execution_count": 14,
   "id": "a35f22ec-88f3-4ff3-8223-e475d01d55ce",
   "metadata": {
    "tags": []
   },
   "outputs": [],
   "source": [
    "def get_dataset():\n",
    "    return U_train, U_val, DFX_train, DFX_val"
   ]
  },
  {
   "cell_type": "code",
   "execution_count": 15,
   "id": "b6b993f9-cd86-4d12-922f-4eec7fc94725",
   "metadata": {
    "tags": []
   },
   "outputs": [],
   "source": [
    "def loss_fn(x, y = 0):\n",
    "    return torch.square(y - x).mean()"
   ]
  },
  {
   "cell_type": "code",
   "execution_count": 16,
   "id": "a78ed795-0daf-4689-890d-8f5cc74da211",
   "metadata": {
    "tags": []
   },
   "outputs": [],
   "source": [
    "def define_model(trial, input_size, output_size):\n",
    "    n_layers = trial.suggest_int(\"n_layers\", 2, 8)\n",
    "    layers = [input_size]\n",
    "    activations = []\n",
    "    for i in range(n_layers):\n",
    "        out_features = trial.suggest_int(\"units_l{}\".format(i), 8, 120)\n",
    "        activation = trial.suggest_categorical(\"activation_l{}\".format(i), [\"tanh\", \"relu\"])\n",
    "        layers += [out_features]\n",
    "        activations.append(activation)\n",
    "        \n",
    "    layers += [output_size]\n",
    "    params_PINN_trial = copy.deepcopy(params_PINN)\n",
    "    params_PINN_trial['layer_dims'] = layers\n",
    "    params_PINN_trial['activations'] = activations\n",
    "    return PINN(params={'solver':params_solver, 'method':params_PINN_trial})"
   ]
  },
  {
   "cell_type": "code",
   "execution_count": 17,
   "id": "26daf0bc-d997-407d-842e-98700cfaff64",
   "metadata": {
    "tags": []
   },
   "outputs": [],
   "source": [
    "def objective(trial):\n",
    "    # Generate the model.\n",
    "    \n",
    "    model = define_model(trial, 3, 1)\n",
    "    # Generate the optimizers.\n",
    "    lr = trial.suggest_float(\"lr\", 1e-5, 1e-2, log=True)\n",
    "    \n",
    "    U_train, U_val, DFX_train, DFX_val = get_dataset()\n",
    "    \n",
    "    torch.manual_seed(params_PINN['seed'])\n",
    "    \n",
    "    n_epochs = 20000\n",
    "    hyperparameters = {'lr': lr, 'epochs': n_epochs, 'optimizer': 'Adam'}\n",
    "    # Training of the model.\n",
    "    \n",
    "    # w_r = trial.suggest_float(\"w_r\", 1e-1, 1e+3, log=True)\n",
    "    model.fit(hyperparameters = hyperparameters, \n",
    "              U_train=U_train, U_val=U_val, DX_train=DFX_train, DX_val=DFX_val,\n",
    "              physics_ratio = 0.,\n",
    "              data_ratio = 1.)\n",
    "    \n",
    "    V = model.loss_dict['val']\n",
    "    # R = model.loss_dict['train']['residual']\n",
    "    # B = model.loss_dict['train']['ic_bc']\n",
    "    \n",
    "    # S = [r + b for r, b in zip(R, B)]\n",
    "    m = min(V)\n",
    "    \n",
    "    trial.report(m, n_epochs)\n",
    "\n",
    "    return m"
   ]
  },
  {
   "cell_type": "code",
   "execution_count": 18,
   "id": "8cd87a54-d252-4a6e-be68-716555ed1845",
   "metadata": {
    "tags": []
   },
   "outputs": [
    {
     "name": "stderr",
     "output_type": "stream",
     "text": [
      "[I 2023-08-18 15:23:35,059] A new study created in memory with name: no-name-d9af4310-5c79-4b48-aff4-7a6d92e58a46\n"
     ]
    }
   ],
   "source": [
    "sampler = TPESampler(seed=params_PINN['seed'])\n",
    "study = optuna.create_study(direction=\"minimize\", sampler=sampler)"
   ]
  },
  {
   "cell_type": "code",
   "execution_count": 19,
   "id": "7c7c221c-438c-44a0-b5c2-5772892fe31d",
   "metadata": {
    "tags": []
   },
   "outputs": [
    {
     "name": "stderr",
     "output_type": "stream",
     "text": [
      "[tr : 2.6e-06, val : 2.7e-06]: 100%|\u001b[34m████████████████████████████████████████████████████████████████████████████████████████\u001b[0m| 20000/20000 [00:38<00:00, 521.70it/s]\u001b[0m\n",
      "[I 2023-08-18 15:24:14,128] Trial 0 finished with value: 2.5335914415336447e-06 and parameters: {'n_layers': 6, 'units_l0': 40, 'activation_l0': 'relu', 'units_l1': 89, 'activation_l1': 'relu', 'units_l2': 85, 'activation_l2': 'tanh', 'units_l3': 46, 'activation_l3': 'tanh', 'units_l4': 14, 'activation_l4': 'relu', 'units_l5': 28, 'activation_l5': 'relu', 'lr': 0.0003939877885425333}. Best is trial 0 with value: 2.5335914415336447e-06.\n",
      "[tr : 2.7e-06, val : 3.0e-06]: 100%|\u001b[34m████████████████████████████████████████████████████████████████████████████████████████\u001b[0m| 20000/20000 [00:39<00:00, 512.77it/s]\u001b[0m\n",
      "[I 2023-08-18 15:24:53,138] Trial 1 finished with value: 2.4259891233668895e-06 and parameters: {'n_layers': 6, 'units_l0': 103, 'activation_l0': 'tanh', 'units_l1': 89, 'activation_l1': 'relu', 'units_l2': 33, 'activation_l2': 'relu', 'units_l3': 18, 'activation_l3': 'tanh', 'units_l4': 63, 'activation_l4': 'tanh', 'units_l5': 56, 'activation_l5': 'relu', 'lr': 0.00032026540415337605}. Best is trial 1 with value: 2.4259891233668895e-06.\n",
      "[tr : 2.5e-06, val : 2.6e-06]: 100%|\u001b[34m████████████████████████████████████████████████████████████████████████████████████████\u001b[0m| 20000/20000 [00:38<00:00, 513.97it/s]\u001b[0m\n",
      "[I 2023-08-18 15:25:32,056] Trial 2 finished with value: 2.354245680180611e-06 and parameters: {'n_layers': 6, 'units_l0': 21, 'activation_l0': 'relu', 'units_l1': 105, 'activation_l1': 'relu', 'units_l2': 119, 'activation_l2': 'relu', 'units_l3': 21, 'activation_l3': 'tanh', 'units_l4': 69, 'activation_l4': 'tanh', 'units_l5': 55, 'activation_l5': 'relu', 'lr': 0.00033983414481272844}. Best is trial 2 with value: 2.354245680180611e-06.\n",
      "[tr : 2.6e-06, val : 3.2e-06]: 100%|\u001b[34m████████████████████████████████████████████████████████████████████████████████████████\u001b[0m| 20000/20000 [00:37<00:00, 528.70it/s]\u001b[0m\n",
      "[I 2023-08-18 15:26:09,890] Trial 3 finished with value: 2.5208107672369806e-06 and parameters: {'n_layers': 6, 'units_l0': 74, 'activation_l0': 'relu', 'units_l1': 103, 'activation_l1': 'relu', 'units_l2': 35, 'activation_l2': 'relu', 'units_l3': 18, 'activation_l3': 'tanh', 'units_l4': 89, 'activation_l4': 'relu', 'units_l5': 70, 'activation_l5': 'tanh', 'lr': 0.001220642779043217}. Best is trial 2 with value: 2.354245680180611e-06.\n",
      "[tr : 1.9e-05, val : 2.1e-05]: 100%|\u001b[34m████████████████████████████████████████████████████████████████████████████████████████\u001b[0m| 20000/20000 [00:31<00:00, 630.10it/s]\u001b[0m\n",
      "[I 2023-08-18 15:26:41,636] Trial 4 finished with value: 7.890224878792651e-06 and parameters: {'n_layers': 4, 'units_l0': 86, 'activation_l0': 'tanh', 'units_l1': 112, 'activation_l1': 'tanh', 'units_l2': 12, 'activation_l2': 'relu', 'units_l3': 87, 'activation_l3': 'tanh', 'lr': 0.0019392930513928567}. Best is trial 2 with value: 2.354245680180611e-06.\n",
      "[tr : 3.2e-06, val : 4.0e-06]: 100%|\u001b[34m████████████████████████████████████████████████████████████████████████████████████████\u001b[0m| 20000/20000 [00:37<00:00, 537.25it/s]\u001b[0m\n",
      "[I 2023-08-18 15:27:18,867] Trial 5 finished with value: 2.49010804509453e-06 and parameters: {'n_layers': 6, 'units_l0': 86, 'activation_l0': 'relu', 'units_l1': 35, 'activation_l1': 'relu', 'units_l2': 83, 'activation_l2': 'relu', 'units_l3': 44, 'activation_l3': 'relu', 'units_l4': 70, 'activation_l4': 'tanh', 'units_l5': 43, 'activation_l5': 'tanh', 'lr': 0.0030714107749620955}. Best is trial 2 with value: 2.354245680180611e-06.\n",
      "[tr : 3.2e-06, val : 3.0e-06]: 100%|\u001b[34m████████████████████████████████████████████████████████████████████████████████████████\u001b[0m| 20000/20000 [00:31<00:00, 629.29it/s]\u001b[0m\n",
      "[I 2023-08-18 15:27:50,654] Trial 6 finished with value: 2.7805212994280737e-06 and parameters: {'n_layers': 4, 'units_l0': 70, 'activation_l0': 'tanh', 'units_l1': 8, 'activation_l1': 'tanh', 'units_l2': 31, 'activation_l2': 'relu', 'units_l3': 109, 'activation_l3': 'tanh', 'lr': 0.0004932613972136662}. Best is trial 2 with value: 2.354245680180611e-06.\n",
      "[tr : 3.2e-06, val : 2.7e-06]: 100%|\u001b[34m████████████████████████████████████████████████████████████████████████████████████████\u001b[0m| 20000/20000 [00:41<00:00, 486.13it/s]\u001b[0m\n",
      "[I 2023-08-18 15:28:31,801] Trial 7 finished with value: 2.479921022313647e-06 and parameters: {'n_layers': 7, 'units_l0': 52, 'activation_l0': 'tanh', 'units_l1': 75, 'activation_l1': 'relu', 'units_l2': 16, 'activation_l2': 'tanh', 'units_l3': 58, 'activation_l3': 'tanh', 'units_l4': 41, 'activation_l4': 'tanh', 'units_l5': 59, 'activation_l5': 'tanh', 'units_l6': 13, 'activation_l6': 'relu', 'lr': 3.1463979657846226e-05}. Best is trial 2 with value: 2.354245680180611e-06.\n",
      "[tr : 1.9e-05, val : 2.1e-05]: 100%|\u001b[34m████████████████████████████████████████████████████████████████████████████████████████\u001b[0m| 20000/20000 [00:40<00:00, 496.43it/s]\u001b[0m\n",
      "[I 2023-08-18 15:29:12,094] Trial 8 finished with value: 2.611510126371286e-06 and parameters: {'n_layers': 7, 'units_l0': 40, 'activation_l0': 'relu', 'units_l1': 20, 'activation_l1': 'relu', 'units_l2': 86, 'activation_l2': 'tanh', 'units_l3': 94, 'activation_l3': 'tanh', 'units_l4': 73, 'activation_l4': 'tanh', 'units_l5': 112, 'activation_l5': 'tanh', 'units_l6': 92, 'activation_l6': 'relu', 'lr': 0.0029141529333718916}. Best is trial 2 with value: 2.354245680180611e-06.\n",
      "[tr : 3.0e-06, val : 2.9e-06]: 100%|\u001b[34m████████████████████████████████████████████████████████████████████████████████████████\u001b[0m| 20000/20000 [00:45<00:00, 443.01it/s]\u001b[0m\n",
      "[I 2023-08-18 15:29:57,246] Trial 9 finished with value: 2.7473492991703097e-06 and parameters: {'n_layers': 8, 'units_l0': 22, 'activation_l0': 'relu', 'units_l1': 53, 'activation_l1': 'relu', 'units_l2': 21, 'activation_l2': 'relu', 'units_l3': 60, 'activation_l3': 'tanh', 'units_l4': 70, 'activation_l4': 'tanh', 'units_l5': 31, 'activation_l5': 'tanh', 'units_l6': 83, 'activation_l6': 'relu', 'units_l7': 11, 'activation_l7': 'tanh', 'lr': 2.318798797179885e-05}. Best is trial 2 with value: 2.354245680180611e-06.\n"
     ]
    }
   ],
   "source": [
    "study.optimize(objective, n_trials=10)"
   ]
  },
  {
   "cell_type": "code",
   "execution_count": 20,
   "id": "57a2edad-074d-47e1-83be-a963dfd84a70",
   "metadata": {
    "tags": []
   },
   "outputs": [
    {
     "name": "stdout",
     "output_type": "stream",
     "text": [
      "Study statistics: \n",
      "  Number of finished trials:  10\n",
      "  Number of pruned trials:  0\n",
      "  Number of complete trials:  10\n",
      "Best trial:\n",
      "  Value:  2.354245680180611e-06\n",
      "  Params: \n",
      "    n_layers: 6\n",
      "    units_l0: 21\n",
      "    activation_l0: relu\n",
      "    units_l1: 105\n",
      "    activation_l1: relu\n",
      "    units_l2: 119\n",
      "    activation_l2: relu\n",
      "    units_l3: 21\n",
      "    activation_l3: tanh\n",
      "    units_l4: 69\n",
      "    activation_l4: tanh\n",
      "    units_l5: 55\n",
      "    activation_l5: relu\n",
      "    lr: 0.00033983414481272844\n"
     ]
    }
   ],
   "source": [
    "pruned_trials = study.get_trials(deepcopy=False, states=[TrialState.PRUNED])\n",
    "complete_trials = study.get_trials(deepcopy=False, states=[TrialState.COMPLETE])\n",
    "\n",
    "print(\"Study statistics: \")\n",
    "print(\"  Number of finished trials: \", len(study.trials))\n",
    "print(\"  Number of pruned trials: \", len(pruned_trials))\n",
    "print(\"  Number of complete trials: \", len(complete_trials))\n",
    "\n",
    "print(\"Best trial:\")\n",
    "trial = study.best_trial\n",
    "\n",
    "print(\"  Value: \", trial.value)\n",
    "\n",
    "print(\"  Params: \")\n",
    "for key, value in trial.params.items():\n",
    "    print(\"    {}: {}\".format(key, value))"
   ]
  },
  {
   "cell_type": "code",
   "execution_count": 21,
   "id": "14791500-59c8-4a11-b468-47ca5369e6d6",
   "metadata": {
    "tags": []
   },
   "outputs": [],
   "source": [
    "activations = []\n",
    "layer_dims = []\n",
    "\n",
    "for key, value in trial.params.items():\n",
    "    if key.split('_')[0] == 'activation':\n",
    "        activations.append(value)\n",
    "    elif key.split('_')[0] == 'units':\n",
    "        layer_dims.append(value)\n",
    "    elif key == 'optimizer':\n",
    "        optimizer = value\n",
    "    elif key == 'lr':\n",
    "        lr = value\n",
    "    elif key == 'w_r':\n",
    "        w_r = value"
   ]
  },
  {
   "cell_type": "markdown",
   "id": "6101b79c-43b3-44a6-b42a-8a0827585b54",
   "metadata": {},
   "source": [
    "Use this to fill config_step_1.py"
   ]
  },
  {
   "cell_type": "code",
   "execution_count": 22,
   "id": "93c794c9-5dbb-4ef3-9f68-ca238d67fea3",
   "metadata": {
    "tags": []
   },
   "outputs": [
    {
     "name": "stdout",
     "output_type": "stream",
     "text": [
      "['relu', 'relu', 'relu', 'tanh', 'tanh', 'relu'] \n",
      " [21, 105, 119, 21, 69, 55] \n",
      " 0.00033983414481272844 \n",
      "\n"
     ]
    }
   ],
   "source": [
    "print(activations, '\\n', layer_dims, '\\n', lr, '\\n')"
   ]
  },
  {
   "cell_type": "code",
   "execution_count": null,
   "id": "2c0cebce-6df1-44cc-aa1e-51e3834853ed",
   "metadata": {},
   "outputs": [],
   "source": []
  }
 ],
 "metadata": {
  "kernelspec": {
   "display_name": "cemracs",
   "language": "python",
   "name": "cemracs"
  },
  "language_info": {
   "codemirror_mode": {
    "name": "ipython",
    "version": 3
   },
   "file_extension": ".py",
   "mimetype": "text/x-python",
   "name": "python",
   "nbconvert_exporter": "python",
   "pygments_lexer": "ipython3",
   "version": "3.11.4"
  }
 },
 "nbformat": 4,
 "nbformat_minor": 5
}
