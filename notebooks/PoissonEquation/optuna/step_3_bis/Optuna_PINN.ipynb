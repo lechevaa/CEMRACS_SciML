{
 "cells": [
  {
   "cell_type": "code",
   "execution_count": 1,
   "id": "def45360-f674-4c36-8c2c-1c1fb9f7965f",
   "metadata": {
    "tags": []
   },
   "outputs": [],
   "source": [
    "import sys\n",
    "sys.path.insert(1, '../../../..')"
   ]
  },
  {
   "cell_type": "code",
   "execution_count": 2,
   "id": "25383d53-9203-44a4-8b87-bf002ea1288b",
   "metadata": {
    "tags": []
   },
   "outputs": [],
   "source": [
    "import optuna\n",
    "from optuna.trial import TrialState\n",
    "from optuna.samplers import TPESampler\n",
    "\n",
    "import torch\n",
    "import torch.optim as optim\n",
    "import torch.nn as nn\n",
    "\n",
    "import numpy as np\n",
    "import sklearn\n",
    "from scipy import interpolate\n",
    "import copy\n",
    "\n",
    "from methods.PINN import PINN\n",
    "from methods.methodsDataset.PINNDataset import PINNDataset\n",
    "from methods.DataDrivenMethods import DDMethod\n",
    "from solvers.PoissonSolver import PoissonSolver"
   ]
  },
  {
   "cell_type": "code",
   "execution_count": 3,
   "id": "5d2af12a-bbb6-4639-aca5-398a6c3b3009",
   "metadata": {
    "tags": []
   },
   "outputs": [],
   "source": [
    "params_solver = {'equation': 'Poisson', 'domain': [0., 1.], 'D': None, 'nx': 101}\n",
    "device = torch.device('cuda' if torch.cuda.is_available() else 'cpu')\n",
    "params_PINN = {'layer_dims': None, 'activations': None, 'device': device, 'seed': 123}"
   ]
  },
  {
   "cell_type": "code",
   "execution_count": 4,
   "id": "91721845-d82e-471a-8caf-bf1588da541a",
   "metadata": {
    "tags": []
   },
   "outputs": [],
   "source": [
    "def logn_fct(grid, num_fct, num_sample = 5, mean = 0., sigma = 1.):\n",
    "    \n",
    "    assert num_sample < len(grid)\n",
    "    \n",
    "    idx = np.arange(0, len(grid), int(len(grid)/num_sample) + 1)\n",
    "    idx[-1] = len(grid) - 1\n",
    "    \n",
    "    x = grid[idx]\n",
    "    \n",
    "    U = []\n",
    "    for _ in range(num_fct):\n",
    "        \n",
    "        u = np.random.lognormal(mean, sigma, size = num_sample)\n",
    "        f = interpolate.interp1d(x, u, kind = 'quadratic')\n",
    "        min_D = np.abs(np.min(np.minimum(f(grid), 0)))\n",
    "        new_D = f(grid) + min_D + 1e-1\n",
    "        U.append(new_D)\n",
    "    \n",
    "    return np.stack(U)"
   ]
  },
  {
   "cell_type": "code",
   "execution_count": 5,
   "id": "a9060395-4ff5-4cb1-9e7e-c5967352aab9",
   "metadata": {
    "tags": []
   },
   "outputs": [],
   "source": [
    "solver = PoissonSolver(params=params_solver)\n",
    "VD = logn_fct(solver.x, num_fct=100)\n",
    "VU = solver.Vsolve(vect = 'D', D = VD)"
   ]
  },
  {
   "cell_type": "code",
   "execution_count": 6,
   "id": "3e89e21d-89a2-476f-ac21-22ce9572232e",
   "metadata": {
    "tags": []
   },
   "outputs": [],
   "source": [
    "d_train, d_val, u_train, u_val = sklearn.model_selection.train_test_split(VD, VU, \n",
    "                                                                          test_size=0.2, \n",
    "                                                                          random_state=123)"
   ]
  },
  {
   "cell_type": "code",
   "execution_count": 7,
   "id": "77c90f3d-5d1d-4c4a-8396-235a3a8cb41f",
   "metadata": {
    "tags": []
   },
   "outputs": [],
   "source": [
    "nx = params_solver['nx']\n",
    "D_train = torch.Tensor(d_train).view(-1, 1)\n",
    "D_val = torch.Tensor(d_val).view(-1, 1)"
   ]
  },
  {
   "cell_type": "code",
   "execution_count": 8,
   "id": "28e502cd-1c11-4e2f-a967-61e25f782f6d",
   "metadata": {
    "tags": []
   },
   "outputs": [],
   "source": [
    "x = torch.Tensor(solver.x).view(-1, 1)\n",
    "X_train = x.repeat(d_train.shape[0], 1)\n",
    "X_val = x.repeat(d_val.shape[0], 1)"
   ]
  },
  {
   "cell_type": "code",
   "execution_count": 9,
   "id": "3f5cdc50-a28a-49b0-a021-59dd980c127f",
   "metadata": {
    "tags": []
   },
   "outputs": [],
   "source": [
    "DX_train = torch.cat((D_train, X_train), dim=1)\n",
    "DX_val = torch.cat((D_val, X_val), dim=1)\n",
    "U_train = torch.Tensor(u_train).view(-1, 1)\n",
    "U_val = torch.Tensor(u_val).view(-1, 1)"
   ]
  },
  {
   "cell_type": "code",
   "execution_count": 10,
   "id": "a35f22ec-88f3-4ff3-8223-e475d01d55ce",
   "metadata": {
    "tags": []
   },
   "outputs": [],
   "source": [
    "def get_dataset():\n",
    "    return DX_train, DX_val, U_train, U_val"
   ]
  },
  {
   "cell_type": "code",
   "execution_count": 11,
   "id": "b6b993f9-cd86-4d12-922f-4eec7fc94725",
   "metadata": {
    "tags": []
   },
   "outputs": [],
   "source": [
    "def loss_fn(x, y = 0):\n",
    "    return torch.square(y - x).mean()"
   ]
  },
  {
   "cell_type": "code",
   "execution_count": 12,
   "id": "a78ed795-0daf-4689-890d-8f5cc74da211",
   "metadata": {
    "tags": []
   },
   "outputs": [],
   "source": [
    "def define_model(trial, input_size, output_size):\n",
    "    n_layers = trial.suggest_int(\"n_layers\", 2, 8)\n",
    "    layers = [input_size]\n",
    "    activations = []\n",
    "    for i in range(n_layers):\n",
    "        out_features = trial.suggest_int(\"units_l{}\".format(i), 8, 120)\n",
    "        layers += [out_features]\n",
    "        \n",
    "    layers += [output_size]\n",
    "    params_PINN_trial = copy.deepcopy(params_PINN)\n",
    "    params_PINN_trial['layer_dims'] = layers\n",
    "    params_PINN_trial['activations'] = 'tanh'\n",
    "    return PINN(params={'solver':params_solver, 'method':params_PINN_trial})"
   ]
  },
  {
   "cell_type": "code",
   "execution_count": 13,
   "id": "26daf0bc-d997-407d-842e-98700cfaff64",
   "metadata": {
    "tags": []
   },
   "outputs": [],
   "source": [
    "def objective(trial):\n",
    "    # Generate the model.\n",
    "    \n",
    "    model = define_model(trial, 2, 1)\n",
    "    # Generate the optimizers.\n",
    "    lr = trial.suggest_float(\"lr\", 1e-5, 1e-2, log=True)\n",
    "    \n",
    "    DX_train, DX_val, U_train, U_val = get_dataset()\n",
    "    \n",
    "    torch.manual_seed(params_PINN['seed'])\n",
    "    \n",
    "    n_epochs = 20000\n",
    "    hyperparameters = {'lr': lr, 'epochs': n_epochs, 'optimizer': 'Adam'}\n",
    "    # Training of the model.\n",
    "    \n",
    "    # w_r = trial.suggest_float(\"w_r\", 1e-1, 1e+3, log=True)\n",
    "    model.fit(hyperparameters = hyperparameters, \n",
    "              DX_train = DX_train, DX_val = DX_val, U_val = U_val, U_train = U_train,\n",
    "              physics_ratio = 0.,\n",
    "              data_ratio = 1.)\n",
    "    \n",
    "    V = model.loss_dict['val']\n",
    "    # R = model.loss_dict['train']['residual']\n",
    "    # B = model.loss_dict['train']['ic_bc']\n",
    "    \n",
    "    # S = [r + b for r, b in zip(R, B)]\n",
    "    m = min(V)\n",
    "    \n",
    "    trial.report(m, n_epochs)\n",
    "\n",
    "    return m"
   ]
  },
  {
   "cell_type": "code",
   "execution_count": 14,
   "id": "8cd87a54-d252-4a6e-be68-716555ed1845",
   "metadata": {
    "tags": []
   },
   "outputs": [
    {
     "name": "stderr",
     "output_type": "stream",
     "text": [
      "[I 2023-08-21 16:47:11,197] A new study created in memory with name: no-name-57ce8e2a-a23b-47bc-bb26-e837c5cccb36\n"
     ]
    }
   ],
   "source": [
    "sampler = TPESampler(seed=params_PINN['seed'])\n",
    "study = optuna.create_study(direction=\"minimize\", sampler=sampler)"
   ]
  },
  {
   "cell_type": "code",
   "execution_count": null,
   "id": "7c7c221c-438c-44a0-b5c2-5772892fe31d",
   "metadata": {
    "tags": []
   },
   "outputs": [
    {
     "name": "stderr",
     "output_type": "stream",
     "text": [
      "[tr : 1.3e-03, val : 1.7e-03]: 100%|\u001b[34m█████\u001b[0m| 20000/20000 [00:38<00:00, 518.54it/s]\u001b[0m\n",
      "[I 2023-08-21 16:47:50,500] Trial 0 finished with value: 0.0016470539849251509 and parameters: {'n_layers': 6, 'units_l0': 40, 'units_l1': 33, 'units_l2': 70, 'units_l3': 89, 'units_l4': 55, 'units_l5': 118, 'lr': 0.0011336766867014445}. Best is trial 0 with value: 0.0016470539849251509.\n",
      "[tr : 1.3e-03, val : 1.7e-03]: 100%|\u001b[34m█████\u001b[0m| 20000/20000 [00:37<00:00, 529.07it/s]\u001b[0m\n",
      "[I 2023-08-21 16:48:28,307] Trial 1 finished with value: 0.0016645031282678246 and parameters: {'n_layers': 5, 'units_l0': 52, 'units_l1': 46, 'units_l2': 90, 'units_l3': 57, 'units_l4': 14, 'lr': 0.0001563625577729033}. Best is trial 0 with value: 0.0016470539849251509.\n",
      "[tr : 1.3e-03, val : 1.7e-03]: 100%|\u001b[34m█████\u001b[0m| 20000/20000 [00:41<00:00, 478.62it/s]\u001b[0m\n",
      "[I 2023-08-21 16:49:10,098] Trial 2 finished with value: 0.0016083437949419022 and parameters: {'n_layers': 7, 'units_l0': 28, 'units_l1': 27, 'units_l2': 68, 'units_l3': 68, 'units_l4': 79, 'units_l5': 103, 'units_l6': 89, 'lr': 0.0006808799287054756}. Best is trial 2 with value: 0.0016083437949419022.\n",
      "[tr : 1.3e-03, val : 1.7e-03]: 100%|\u001b[34m█████\u001b[0m| 20000/20000 [00:42<00:00, 472.96it/s]\u001b[0m\n",
      "[I 2023-08-21 16:49:52,390] Trial 3 finished with value: 0.001647641882300377 and parameters: {'n_layers': 7, 'units_l0': 44, 'units_l1': 48, 'units_l2': 33, 'units_l3': 41, 'units_l4': 79, 'units_l5': 18, 'units_l6': 57, 'lr': 0.00019614998984838697}. Best is trial 2 with value: 0.0016083437949419022.\n",
      "[tr : 1.3e-03, val : 1.7e-03]: 100%|\u001b[34m█████\u001b[0m| 20000/20000 [00:34<00:00, 581.92it/s]\u001b[0m\n",
      "[I 2023-08-21 16:50:26,763] Trial 4 finished with value: 0.0016467313980683684 and parameters: {'n_layers': 5, 'units_l0': 56, 'units_l1': 43, 'units_l2': 56, 'units_l3': 108, 'units_l4': 114, 'lr': 0.00032026540415337605}. Best is trial 2 with value: 0.0016083437949419022.\n",
      "[tr : 2.3e-03, val : 2.6e-03]:  32%|\u001b[34m█▉    \u001b[0m| 6443/20000 [00:11<00:24, 563.66it/s]\u001b[0m"
     ]
    }
   ],
   "source": [
    "study.optimize(objective, n_trials=10)"
   ]
  },
  {
   "cell_type": "code",
   "execution_count": null,
   "id": "57a2edad-074d-47e1-83be-a963dfd84a70",
   "metadata": {
    "tags": []
   },
   "outputs": [],
   "source": [
    "pruned_trials = study.get_trials(deepcopy=False, states=[TrialState.PRUNED])\n",
    "complete_trials = study.get_trials(deepcopy=False, states=[TrialState.COMPLETE])\n",
    "\n",
    "print(\"Study statistics: \")\n",
    "print(\"  Number of finished trials: \", len(study.trials))\n",
    "print(\"  Number of pruned trials: \", len(pruned_trials))\n",
    "print(\"  Number of complete trials: \", len(complete_trials))\n",
    "\n",
    "print(\"Best trial:\")\n",
    "trial = study.best_trial\n",
    "\n",
    "print(\"  Value: \", trial.value)\n",
    "\n",
    "print(\"  Params: \")\n",
    "for key, value in trial.params.items():\n",
    "    print(\"    {}: {}\".format(key, value))"
   ]
  },
  {
   "cell_type": "code",
   "execution_count": null,
   "id": "14791500-59c8-4a11-b468-47ca5369e6d6",
   "metadata": {
    "tags": []
   },
   "outputs": [],
   "source": [
    "activations = []\n",
    "layer_dims = []\n",
    "\n",
    "for key, value in trial.params.items():\n",
    "    if key.split('_')[0] == 'activation':\n",
    "        activations.append(value)\n",
    "    elif key.split('_')[0] == 'units':\n",
    "        layer_dims.append(value)\n",
    "    elif key == 'optimizer':\n",
    "        optimizer = value\n",
    "    elif key == 'lr':\n",
    "        lr = value\n",
    "    elif key == 'w_r':\n",
    "        w_r = value"
   ]
  },
  {
   "cell_type": "markdown",
   "id": "6101b79c-43b3-44a6-b42a-8a0827585b54",
   "metadata": {},
   "source": [
    "Use this to fill config_step_1.py"
   ]
  },
  {
   "cell_type": "code",
   "execution_count": null,
   "id": "93c794c9-5dbb-4ef3-9f68-ca238d67fea3",
   "metadata": {
    "tags": []
   },
   "outputs": [],
   "source": [
    "print(activations, '\\n', layer_dims, '\\n', lr, '\\n')"
   ]
  },
  {
   "cell_type": "code",
   "execution_count": null,
   "id": "2c0cebce-6df1-44cc-aa1e-51e3834853ed",
   "metadata": {},
   "outputs": [],
   "source": []
  }
 ],
 "metadata": {
  "kernelspec": {
   "display_name": "cemracs",
   "language": "python",
   "name": "cemracs"
  },
  "language_info": {
   "codemirror_mode": {
    "name": "ipython",
    "version": 3
   },
   "file_extension": ".py",
   "mimetype": "text/x-python",
   "name": "python",
   "nbconvert_exporter": "python",
   "pygments_lexer": "ipython3",
   "version": "3.11.4"
  }
 },
 "nbformat": 4,
 "nbformat_minor": 5
}
