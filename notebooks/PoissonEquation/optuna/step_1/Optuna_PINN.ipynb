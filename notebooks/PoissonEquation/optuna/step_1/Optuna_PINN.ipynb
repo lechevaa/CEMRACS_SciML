{
 "cells": [
  {
   "cell_type": "code",
   "execution_count": 1,
   "id": "def45360-f674-4c36-8c2c-1c1fb9f7965f",
   "metadata": {},
   "outputs": [],
   "source": [
    "import sys\n",
    "sys.path.insert(1, '../../../..')"
   ]
  },
  {
   "cell_type": "code",
   "execution_count": 2,
   "id": "25383d53-9203-44a4-8b87-bf002ea1288b",
   "metadata": {},
   "outputs": [],
   "source": [
    "import optuna\n",
    "from optuna.trial import TrialState\n",
    "from optuna.samplers import TPESampler\n",
    "\n",
    "import torch\n",
    "import torch.optim as optim\n",
    "import torch.nn as nn\n",
    "\n",
    "import numpy as np\n",
    "import sklearn\n",
    "import copy\n",
    "\n",
    "from methods.PINN import PINN\n",
    "from methods.methodsDataset.PINNDataset import PINNDataset\n",
    "from methods.DataDrivenMethods import DDMethod\n",
    "from solvers.Solver import Solver"
   ]
  },
  {
   "cell_type": "code",
   "execution_count": 3,
   "id": "5d2af12a-bbb6-4639-aca5-398a6c3b3009",
   "metadata": {},
   "outputs": [],
   "source": [
    "params_solver = {'equation': 'Poisson', 'domain': [0., 1.], 'D': 1., 'nx': 101}\n",
    "device = torch.device('cuda' if torch.cuda.is_available() else 'cpu')\n",
    "params_PINN = {'layer_dims': None, 'activations': None, 'device': device, 'seed': 123}"
   ]
  },
  {
   "cell_type": "code",
   "execution_count": 4,
   "id": "5b85eba0-e667-4ab7-baa5-11400c272a90",
   "metadata": {},
   "outputs": [],
   "source": [
    "Dmin, Dmax = 0.1, 10\n",
    "D_list = np.linspace(Dmin, Dmax, 1000)\n",
    "\n",
    "U_sols = []\n",
    "solver = Solver(params={'solver': params_solver})\n",
    "for d in D_list:\n",
    "    solver.change_D(new_D=d)\n",
    "    U_sols.append(solver.solve())\n",
    "\n",
    "U_sols = np.stack(U_sols)\n",
    "D = torch.Tensor(D_list).view(-1, 1).to(device)\n",
    "U = torch.Tensor(U_sols).to(device)"
   ]
  },
  {
   "cell_type": "code",
   "execution_count": 5,
   "id": "cd614e45-0374-4285-a001-543ef6cbde19",
   "metadata": {},
   "outputs": [],
   "source": [
    "d_train, d_val, u_train, u_val = sklearn.model_selection.train_test_split(D_list, U_sols, test_size=0.2, \n",
    "                                                                          random_state=params_PINN['seed'])\n",
    "\n",
    "D_train_repeated = torch.Tensor([[d] * len(solver.x) for d in d_train]).view(-1, 1)\n",
    "D_val_repeated = torch.Tensor([[d] * len(solver.x) for d in d_val]).view(-1, 1)\n",
    "x = torch.Tensor(solver.x).view(-1, 1)\n",
    "X_train = x.repeat(d_train.shape[0], 1)\n",
    "X_val = x.repeat(d_val.shape[0], 1)\n",
    "\n",
    "DX_train = torch.cat((D_train_repeated, X_train), dim=1)\n",
    "DX_val = torch.cat((D_val_repeated, X_val), dim=1)"
   ]
  },
  {
   "cell_type": "code",
   "execution_count": 6,
   "id": "474d49a0-6bea-4502-b5f3-59bea8c2335e",
   "metadata": {},
   "outputs": [],
   "source": [
    "def get_dataset():\n",
    "    return DX_train, DX_val"
   ]
  },
  {
   "cell_type": "code",
   "execution_count": 7,
   "id": "b6b993f9-cd86-4d12-922f-4eec7fc94725",
   "metadata": {},
   "outputs": [],
   "source": [
    "def loss_fn(x, y = 0):\n",
    "    return torch.square(y - x).mean()"
   ]
  },
  {
   "cell_type": "code",
   "execution_count": 8,
   "id": "a78ed795-0daf-4689-890d-8f5cc74da211",
   "metadata": {},
   "outputs": [],
   "source": [
    "def define_model(trial, input_size, output_size):\n",
    "    n_layers = trial.suggest_int(\"n_layers\", 1, 10)\n",
    "    layers = [input_size]\n",
    "    activations = []\n",
    "    for i in range(n_layers):\n",
    "        out_features = trial.suggest_int(\"units_l{}\".format(i), 24, 48)\n",
    "        activation = trial.suggest_categorical(\"activation_l{}\".format(i), [\"tanh\", \"softplus\", \"relu\"])\n",
    "        layers += [out_features]\n",
    "        activations.append(activation)\n",
    "    layers += [output_size]\n",
    "    params_PINN_trial = copy.deepcopy(params_PINN)\n",
    "    params_PINN_trial['layer_dims'] = layers\n",
    "    params_PINN_trial['activations'] = activations\n",
    "    return PINN(params={'solver':None, 'method':params_PINN_trial})"
   ]
  },
  {
   "cell_type": "code",
   "execution_count": 9,
   "id": "26daf0bc-d997-407d-842e-98700cfaff64",
   "metadata": {},
   "outputs": [],
   "source": [
    "def objective(trial):\n",
    "    # Generate the model.\n",
    "    model = define_model(trial, 2, 1)\n",
    "\n",
    "    # Generate the optimizers.\n",
    "    optimizer_name = trial.suggest_categorical(\"optimizer\", [\"Adam\", \"RMSprop\", \"SGD\"])\n",
    "    lr = trial.suggest_float(\"lr\", 1e-5, 1e-1, log=True)\n",
    "    # optimizer = getattr(optim, optimizer_name)(model.parameters(), lr=lr)\n",
    "    \n",
    "    DX_train, DX_val = get_dataset()\n",
    "\n",
    "    trainDataset = PINNDataset(x=DX_train)\n",
    "    valDataset = PINNDataset(x=DX_val)\n",
    "\n",
    "    batch_size = trial.suggest_int(\"batch_size\", 20000, 40000)\n",
    "    torch.manual_seed(params_PINN['seed'])\n",
    "    # trainLoader = torch.utils.data.DataLoader(trainDataset, batch_size=batch_size, shuffle=True)\n",
    "    # valLoader = torch.utils.data.DataLoader(valDataset, batch_size=batch_size, shuffle=False)\n",
    "\n",
    "    hyperparameters = {'lr': lr, 'epochs': 2000, 'optimizer': optimizer_name, 'batch_size': batch_size}\n",
    "    # Training of the model.\n",
    "    model.fit(hyperparameters = hyperparameters, DX_train = DX_train, DX_val = DX_val)\n",
    "    \n",
    "    val_loss = model.loss_dict['val']\n",
    "    val_tot = [sum(x) for x in zip(val_loss['ic_bc'], val_loss['residual'])]\n",
    "    trial.report(min(val_tot), 2000)\n",
    "\n",
    "    # Handle pruning based on the intermediate value.\n",
    "    if trial.should_prune():\n",
    "        raise optuna.exceptions.TrialPruned()\n",
    "\n",
    "    return min(val_tot)"
   ]
  },
  {
   "cell_type": "code",
   "execution_count": 10,
   "id": "8cd87a54-d252-4a6e-be68-716555ed1845",
   "metadata": {},
   "outputs": [
    {
     "name": "stderr",
     "output_type": "stream",
     "text": [
      "[I 2023-08-04 17:58:41,415] A new study created in memory with name: no-name-8c105015-01f7-410b-bb46-c150dee4a210\n"
     ]
    }
   ],
   "source": [
    "sampler = TPESampler(seed=params_PINN['seed'])\n",
    "study = optuna.create_study(direction=\"minimize\", sampler=sampler)"
   ]
  },
  {
   "cell_type": "code",
   "execution_count": 11,
   "id": "7c7c221c-438c-44a0-b5c2-5772892fe31d",
   "metadata": {},
   "outputs": [
    {
     "name": "stderr",
     "output_type": "stream",
     "text": [
      "[epoch: 2000 : 100%|\u001b[34m████████████████████████████████████████████████████████████████████████████████████████████████████████████████████████████████████████████████████████████████████████████████\u001b[0m| 2001/2001 [42:17<00:00,  1.27s/it]\u001b[0m\n",
      "[I 2023-08-04 18:40:59,675] Trial 0 finished with value: 0.00015717127098469064 and parameters: {'n_layers': 7, 'units_l0': 31, 'activation_l0': 'relu', 'units_l1': 34, 'activation_l1': 'tanh', 'units_l2': 33, 'activation_l2': 'softplus', 'units_l3': 25, 'activation_l3': 'softplus', 'units_l4': 28, 'activation_l4': 'relu', 'units_l5': 45, 'activation_l5': 'tanh', 'units_l6': 32, 'activation_l6': 'tanh', 'optimizer': 'Adam', 'lr': 0.0005289943741212551, 'batch_size': 29874}. Best is trial 0 with value: 0.00015717127098469064.\n",
      "[epoch: 2000 : 100%|\u001b[34m████████████████████████████████████████████████████████████████████████████████████████████████████████████████████████████████████████████████████████████████████████████████\u001b[0m| 2001/2001 [39:47<00:00,  1.19s/it]\u001b[0m\n",
      "[I 2023-08-04 19:20:48,723] Trial 1 finished with value: 36.41827219724655 and parameters: {'n_layers': 5, 'units_l0': 31, 'activation_l0': 'relu', 'units_l1': 36, 'activation_l1': 'tanh', 'units_l2': 34, 'activation_l2': 'tanh', 'units_l3': 48, 'activation_l3': 'softplus', 'units_l4': 44, 'activation_l4': 'tanh', 'optimizer': 'SGD', 'lr': 0.03175611508579144, 'batch_size': 30208}. Best is trial 0 with value: 0.00015717127098469064.\n",
      "[epoch: 2000 : 100%|\u001b[34m████████████████████████████████████████████████████████████████████████████████████████████████████████████████████████████████████████████████████████████████████████████████\u001b[0m| 2001/2001 [46:32<00:00,  1.40s/it]\u001b[0m\n",
      "[I 2023-08-04 20:07:21,567] Trial 2 finished with value: 0.8592563718557358 and parameters: {'n_layers': 7, 'units_l0': 38, 'activation_l0': 'relu', 'units_l1': 26, 'activation_l1': 'tanh', 'units_l2': 38, 'activation_l2': 'softplus', 'units_l3': 42, 'activation_l3': 'softplus', 'units_l4': 27, 'activation_l4': 'softplus', 'units_l5': 41, 'activation_l5': 'relu', 'units_l6': 45, 'activation_l6': 'tanh', 'optimizer': 'SGD', 'lr': 0.0002652524859887482, 'batch_size': 35251}. Best is trial 0 with value: 0.00015717127098469064.\n"
     ]
    }
   ],
   "source": [
    "study.optimize(objective, n_trials=5)"
   ]
  },
  {
   "cell_type": "code",
   "execution_count": 12,
   "id": "57a2edad-074d-47e1-83be-a963dfd84a70",
   "metadata": {},
   "outputs": [
    {
     "name": "stdout",
     "output_type": "stream",
     "text": [
      "Study statistics: \n",
      "  Number of finished trials:  3\n",
      "  Number of pruned trials:  0\n",
      "  Number of complete trials:  3\n",
      "Best trial:\n",
      "  Value:  0.00015717127098469064\n",
      "  Params: \n",
      "    n_layers: 7\n",
      "    units_l0: 31\n",
      "    activation_l0: relu\n",
      "    units_l1: 34\n",
      "    activation_l1: tanh\n",
      "    units_l2: 33\n",
      "    activation_l2: softplus\n",
      "    units_l3: 25\n",
      "    activation_l3: softplus\n",
      "    units_l4: 28\n",
      "    activation_l4: relu\n",
      "    units_l5: 45\n",
      "    activation_l5: tanh\n",
      "    units_l6: 32\n",
      "    activation_l6: tanh\n",
      "    optimizer: Adam\n",
      "    lr: 0.0005289943741212551\n",
      "    batch_size: 29874\n"
     ]
    }
   ],
   "source": [
    "pruned_trials = study.get_trials(deepcopy=False, states=[TrialState.PRUNED])\n",
    "complete_trials = study.get_trials(deepcopy=False, states=[TrialState.COMPLETE])\n",
    "\n",
    "print(\"Study statistics: \")\n",
    "print(\"  Number of finished trials: \", len(study.trials))\n",
    "print(\"  Number of pruned trials: \", len(pruned_trials))\n",
    "print(\"  Number of complete trials: \", len(complete_trials))\n",
    "\n",
    "print(\"Best trial:\")\n",
    "trial = study.best_trial\n",
    "\n",
    "print(\"  Value: \", trial.value)\n",
    "\n",
    "print(\"  Params: \")\n",
    "for key, value in trial.params.items():\n",
    "    print(\"    {}: {}\".format(key, value))"
   ]
  },
  {
   "cell_type": "code",
   "execution_count": 13,
   "id": "14791500-59c8-4a11-b468-47ca5369e6d6",
   "metadata": {},
   "outputs": [],
   "source": [
    "activations = []\n",
    "layer_dims = []\n",
    "\n",
    "for key, value in trial.params.items():\n",
    "    if key.split('_')[0] == 'activation':\n",
    "        activations.append(value)\n",
    "    elif key.split('_')[0] == 'units':\n",
    "        layer_dims.append(value)\n",
    "    elif key == 'optimizer':\n",
    "        optimizer = value\n",
    "    elif key == 'lr':\n",
    "        lr = value"
   ]
  },
  {
   "cell_type": "markdown",
   "id": "6101b79c-43b3-44a6-b42a-8a0827585b54",
   "metadata": {},
   "source": [
    "Use this to fill config_step_1.py"
   ]
  },
  {
   "cell_type": "code",
   "execution_count": 14,
   "id": "93c794c9-5dbb-4ef3-9f68-ca238d67fea3",
   "metadata": {},
   "outputs": [
    {
     "name": "stdout",
     "output_type": "stream",
     "text": [
      "['relu', 'tanh', 'softplus', 'softplus', 'relu', 'tanh', 'tanh'] \n",
      " [31, 34, 33, 25, 28, 45, 32] \n",
      " Adam \n",
      " 0.0005289943741212551\n"
     ]
    }
   ],
   "source": [
    "print(activations, '\\n', layer_dims, '\\n', optimizer, '\\n', lr)"
   ]
  },
  {
   "cell_type": "code",
   "execution_count": null,
   "id": "2c0cebce-6df1-44cc-aa1e-51e3834853ed",
   "metadata": {},
   "outputs": [],
   "source": []
  }
 ],
 "metadata": {
  "kernelspec": {
   "display_name": "CEMRACS_SciML",
   "language": "python",
   "name": "cemracs_sciml"
  },
  "language_info": {
   "codemirror_mode": {
    "name": "ipython",
    "version": 3
   },
   "file_extension": ".py",
   "mimetype": "text/x-python",
   "name": "python",
   "nbconvert_exporter": "python",
   "pygments_lexer": "ipython3",
   "version": "3.10.12"
  }
 },
 "nbformat": 4,
 "nbformat_minor": 5
}
