{
 "cells": [
  {
   "cell_type": "code",
   "execution_count": 1,
   "id": "def45360-f674-4c36-8c2c-1c1fb9f7965f",
   "metadata": {
    "tags": []
   },
   "outputs": [],
   "source": [
    "import sys\n",
    "sys.path.insert(1, '../../../..')"
   ]
  },
  {
   "cell_type": "code",
   "execution_count": 2,
   "id": "25383d53-9203-44a4-8b87-bf002ea1288b",
   "metadata": {
    "tags": []
   },
   "outputs": [],
   "source": [
    "import optuna\n",
    "from optuna.trial import TrialState\n",
    "from optuna.samplers import TPESampler\n",
    "\n",
    "import torch\n",
    "import torch.optim as optim\n",
    "import torch.nn as nn\n",
    "\n",
    "import numpy as np\n",
    "import sklearn\n",
    "import copy"
   ]
  },
  {
   "cell_type": "code",
   "execution_count": 3,
   "id": "731695bc-38c4-40a8-a3db-178e92021342",
   "metadata": {
    "tags": []
   },
   "outputs": [],
   "source": [
    "from methods.PINN import PINN\n",
    "\n",
    "from solvers.PoissonSolver import PoissonSolver\n",
    "\n",
    "from methods.DataDrivenMethods import DDMethod"
   ]
  },
  {
   "cell_type": "code",
   "execution_count": 4,
   "id": "6f5bd91e-20c0-43f4-8f6c-e9ceacc10f46",
   "metadata": {
    "tags": []
   },
   "outputs": [],
   "source": [
    "device = torch.device('cuda' if torch.cuda.is_available() else 'cpu')"
   ]
  },
  {
   "cell_type": "code",
   "execution_count": 5,
   "id": "5d2af12a-bbb6-4639-aca5-398a6c3b3009",
   "metadata": {
    "tags": []
   },
   "outputs": [],
   "source": [
    "params_solver = {'equation': 'Poisson', 'domain': [0., 1.], 'D': 1., 'nx': 101}"
   ]
  },
  {
   "cell_type": "code",
   "execution_count": 6,
   "id": "127c58f2-741f-4cda-ab2e-d64ec126ee72",
   "metadata": {
    "tags": []
   },
   "outputs": [],
   "source": [
    "solver = PoissonSolver(params=params_solver)"
   ]
  },
  {
   "cell_type": "code",
   "execution_count": 7,
   "id": "2745f5dd-02ca-40d0-bc65-e0f7867d2176",
   "metadata": {
    "tags": []
   },
   "outputs": [],
   "source": [
    "params_PINN = {'layer_dims': None, 'activations': None, 'device': device, 'seed': 123}"
   ]
  },
  {
   "cell_type": "code",
   "execution_count": 8,
   "id": "dfc2be96-c870-4637-bdf6-38c3f1c66218",
   "metadata": {
    "tags": []
   },
   "outputs": [],
   "source": [
    "Dmin, Dmax = 0.1, 10\n",
    "nD = 1000\n",
    "D_list = np.linspace(Dmin, Dmax, nD).reshape(-1, 1)\n",
    "VD = np.ones((nD, solver.nx))*D_list"
   ]
  },
  {
   "cell_type": "code",
   "execution_count": 9,
   "id": "0cf18aee-923a-4ea3-8094-b0de99ff7ce6",
   "metadata": {
    "tags": []
   },
   "outputs": [],
   "source": [
    "U_sols = solver.Vsolve(vect = 'D', D = VD)"
   ]
  },
  {
   "cell_type": "code",
   "execution_count": 10,
   "id": "cd614e45-0374-4285-a001-543ef6cbde19",
   "metadata": {
    "tags": []
   },
   "outputs": [],
   "source": [
    "d_train, d_val, u_train, u_val = sklearn.model_selection.train_test_split(D_list, U_sols, \n",
    "                                                                          test_size=0.2, \n",
    "                                                                          random_state=123)"
   ]
  },
  {
   "cell_type": "code",
   "execution_count": 11,
   "id": "158b7134-6ea5-406c-a983-ccb97b4aa89d",
   "metadata": {
    "tags": []
   },
   "outputs": [],
   "source": [
    "nx = solver.nx\n",
    "D_train_repeated = torch.Tensor(d_train.repeat(nx, 1)).view(-1, 1)\n",
    "D_val_repeated = torch.Tensor(d_val.repeat(nx, 1)).view(-1, 1)"
   ]
  },
  {
   "cell_type": "code",
   "execution_count": 12,
   "id": "3c9e6575-aa83-442b-b1ac-5fdeb92d0ec0",
   "metadata": {
    "tags": []
   },
   "outputs": [],
   "source": [
    "x = torch.Tensor(solver.x).view(-1, 1)\n",
    "X_train = x.repeat(d_train.shape[0], 1)\n",
    "X_val = x.repeat(d_val.shape[0], 1)"
   ]
  },
  {
   "cell_type": "code",
   "execution_count": 13,
   "id": "939c878a-1aca-48f9-a2e9-6fc7eda15612",
   "metadata": {
    "tags": []
   },
   "outputs": [],
   "source": [
    "DX_train = torch.cat((D_train_repeated, X_train), dim=1)\n",
    "DX_val = torch.cat((D_val_repeated, X_val), dim=1)\n",
    "U_train = torch.Tensor(u_train).view(-1, 1)\n",
    "U_val = torch.Tensor(u_val).view(-1, 1)"
   ]
  },
  {
   "cell_type": "code",
   "execution_count": 14,
   "id": "474d49a0-6bea-4502-b5f3-59bea8c2335e",
   "metadata": {
    "tags": []
   },
   "outputs": [],
   "source": [
    "def get_dataset():\n",
    "    return DX_train, DX_val, U_train, U_val"
   ]
  },
  {
   "cell_type": "code",
   "execution_count": 15,
   "id": "b6b993f9-cd86-4d12-922f-4eec7fc94725",
   "metadata": {
    "tags": []
   },
   "outputs": [],
   "source": [
    "def loss_fn(x, y = 0):\n",
    "    return torch.square(y - x).mean()"
   ]
  },
  {
   "cell_type": "code",
   "execution_count": 16,
   "id": "a78ed795-0daf-4689-890d-8f5cc74da211",
   "metadata": {
    "tags": []
   },
   "outputs": [],
   "source": [
    "def define_model(trial, input_size, output_size):\n",
    "    \n",
    "    n_layers = trial.suggest_int(\"n_layers\", 2, 8)\n",
    "    layers = [input_size]\n",
    "    activations = []\n",
    "    \n",
    "    for i in range(n_layers):\n",
    "        out_features = trial.suggest_int(\"units_l{}\".format(i), 10, 120)\n",
    "        activation = trial.suggest_categorical(\"activation_l{}\".format(i), [\"tanh\", \"relu\"])\n",
    "        \n",
    "        layers += [out_features]\n",
    "        activations.append(activation)\n",
    "        \n",
    "    layers += [output_size]\n",
    "    params_PINN_trial = copy.deepcopy(params_PINN)\n",
    "    params_PINN_trial['layer_dims'] = layers\n",
    "    params_PINN_trial['activations'] = activations\n",
    "    return PINN(params={'solver':None, 'method':params_PINN_trial})"
   ]
  },
  {
   "cell_type": "code",
   "execution_count": 17,
   "id": "26daf0bc-d997-407d-842e-98700cfaff64",
   "metadata": {
    "tags": []
   },
   "outputs": [],
   "source": [
    "def objective(trial):\n",
    "    # Generate the model.\n",
    "    \n",
    "    model = define_model(trial, 2, 1)\n",
    "    # Generate the optimizers.\n",
    "    lr = trial.suggest_float(\"lr\", 1e-5, 1e-2, log=True)\n",
    "    \n",
    "    DX_train, DX_val, U_train, U_val = get_dataset()\n",
    "    \n",
    "    torch.manual_seed(params_PINN['seed'])\n",
    "    \n",
    "    n_epochs = 10000\n",
    "    hyperparameters = {'lr': lr, 'epochs': n_epochs, 'optimizer': 'Adam'}\n",
    "    \n",
    "    # Training of the model.\n",
    "    model.fit(hyperparameters=hyperparameters, \n",
    "              DX_train=DX_train, DX_val=DX_val,\n",
    "              U_train=U_train, U_val=U_val, \n",
    "              data_ratio=0., physics_ratio=1.,\n",
    "              #loss=None, w_r=100\n",
    "             )\n",
    "    \n",
    "    val_loss = model.loss_dict['val']\n",
    "    trial.report(min(val_loss), n_epochs)\n",
    "\n",
    "    return min(val_loss)"
   ]
  },
  {
   "cell_type": "code",
   "execution_count": 18,
   "id": "8cd87a54-d252-4a6e-be68-716555ed1845",
   "metadata": {
    "tags": []
   },
   "outputs": [
    {
     "name": "stderr",
     "output_type": "stream",
     "text": [
      "[I 2023-08-22 18:20:31,339] A new study created in memory with name: no-name-dcdf92ec-1b3c-49e9-b9ec-f75a22f952c0\n"
     ]
    }
   ],
   "source": [
    "sampler = TPESampler(seed=params_PINN['seed'])\n",
    "study = optuna.create_study(direction=\"minimize\", sampler=sampler)"
   ]
  },
  {
   "cell_type": "code",
   "execution_count": null,
   "id": "7c7c221c-438c-44a0-b5c2-5772892fe31d",
   "metadata": {
    "tags": []
   },
   "outputs": [
    {
     "name": "stderr",
     "output_type": "stream",
     "text": [
      "[tr : 1.8e-06, val : 2.0e-06]:  28%|\u001b[34m█▉     \u001b[0m| 2814/10000 [00:31<01:18, 91.08it/s]\u001b[0m"
     ]
    }
   ],
   "source": [
    "study.optimize(objective, n_trials=10)"
   ]
  },
  {
   "cell_type": "code",
   "execution_count": 14,
   "id": "57a2edad-074d-47e1-83be-a963dfd84a70",
   "metadata": {
    "tags": []
   },
   "outputs": [
    {
     "name": "stdout",
     "output_type": "stream",
     "text": [
      "Study statistics: \n",
      "  Number of finished trials:  3\n",
      "  Number of pruned trials:  0\n",
      "  Number of complete trials:  3\n",
      "Best trial:\n",
      "  Value:  5.273067017697031e-06\n",
      "  Params: \n",
      "    n_layers: 4\n",
      "    units_l0: 17\n",
      "    units_l1: 15\n",
      "    units_l2: 26\n",
      "    units_l3: 31\n",
      "    lr: 0.00018591711878786343\n"
     ]
    }
   ],
   "source": [
    "pruned_trials = study.get_trials(deepcopy=False, states=[TrialState.PRUNED])\n",
    "complete_trials = study.get_trials(deepcopy=False, states=[TrialState.COMPLETE])\n",
    "\n",
    "print(\"Study statistics: \")\n",
    "print(\"  Number of finished trials: \", len(study.trials))\n",
    "print(\"  Number of pruned trials: \", len(pruned_trials))\n",
    "print(\"  Number of complete trials: \", len(complete_trials))\n",
    "\n",
    "print(\"Best trial:\")\n",
    "trial = study.best_trial\n",
    "\n",
    "print(\"  Value: \", trial.value)\n",
    "\n",
    "print(\"  Params: \")\n",
    "for key, value in trial.params.items():\n",
    "    print(\"    {}: {}\".format(key, value))"
   ]
  },
  {
   "cell_type": "code",
   "execution_count": 15,
   "id": "14791500-59c8-4a11-b468-47ca5369e6d6",
   "metadata": {
    "tags": []
   },
   "outputs": [],
   "source": [
    "activations = []\n",
    "layer_dims = []\n",
    "\n",
    "for key, value in trial.params.items():\n",
    "    if key.split('_')[0] == 'activation':\n",
    "        activations.append(value)\n",
    "    elif key.split('_')[0] == 'units':\n",
    "        layer_dims.append(value)\n",
    "    elif key == 'optimizer':\n",
    "        optimizer = value\n",
    "    elif key == 'lr':\n",
    "        lr = value"
   ]
  },
  {
   "cell_type": "markdown",
   "id": "6101b79c-43b3-44a6-b42a-8a0827585b54",
   "metadata": {},
   "source": [
    "Use this to fill config_step_1.py"
   ]
  },
  {
   "cell_type": "code",
   "execution_count": 16,
   "id": "93c794c9-5dbb-4ef3-9f68-ca238d67fea3",
   "metadata": {
    "tags": []
   },
   "outputs": [
    {
     "name": "stdout",
     "output_type": "stream",
     "text": [
      "[] \n",
      " [17, 15, 26, 31] \n",
      " \n",
      " 0.00018591711878786343\n"
     ]
    }
   ],
   "source": [
    "print(activations, '\\n', layer_dims, '\\n', '\\n', lr)"
   ]
  },
  {
   "cell_type": "code",
   "execution_count": null,
   "id": "2c0cebce-6df1-44cc-aa1e-51e3834853ed",
   "metadata": {},
   "outputs": [],
   "source": []
  }
 ],
 "metadata": {
  "kernelspec": {
   "display_name": "cemracs",
   "language": "python",
   "name": "cemracs"
  },
  "language_info": {
   "codemirror_mode": {
    "name": "ipython",
    "version": 3
   },
   "file_extension": ".py",
   "mimetype": "text/x-python",
   "name": "python",
   "nbconvert_exporter": "python",
   "pygments_lexer": "ipython3",
   "version": "3.11.4"
  }
 },
 "nbformat": 4,
 "nbformat_minor": 5
}
