{
 "cells": [
  {
   "cell_type": "code",
   "execution_count": 1,
   "id": "def45360-f674-4c36-8c2c-1c1fb9f7965f",
   "metadata": {
    "tags": []
   },
   "outputs": [],
   "source": [
    "import os\n",
    "import sys\n",
    "sys.path.insert(1, '../../../..')"
   ]
  },
  {
   "cell_type": "code",
   "execution_count": 2,
   "id": "25383d53-9203-44a4-8b87-bf002ea1288b",
   "metadata": {
    "tags": []
   },
   "outputs": [],
   "source": [
    "import optuna\n",
    "from optuna.trial import TrialState\n",
    "from optuna.samplers import TPESampler\n",
    "\n",
    "import torch\n",
    "import torch.optim as optim\n",
    "import torch.nn as nn\n",
    "\n",
    "import numpy as np\n",
    "import sklearn\n",
    "import copy\n",
    "\n",
    "from methods.FNO import FNO1d\n",
    "from methods.methodsDataset.FNODataset import FNODataset\n",
    "from methods.DataDrivenMethods import DDMethod\n",
    "from solvers.Solver import Solver"
   ]
  },
  {
   "cell_type": "code",
   "execution_count": 3,
   "id": "5d2af12a-bbb6-4639-aca5-398a6c3b3009",
   "metadata": {
    "tags": []
   },
   "outputs": [],
   "source": [
    "params_solver = {'equation': 'Poisson', 'domain': [0., 1.], 'D': 1., 'nx': 101}\n",
    "device = torch.device('cuda' if torch.cuda.is_available() else 'cpu')\n",
    "params_FNO = {'layer_dims': None, 'FourierLayers_modes': None, 'device': device, 'seed': 123}"
   ]
  },
  {
   "cell_type": "code",
   "execution_count": 4,
   "id": "5b85eba0-e667-4ab7-baa5-11400c272a90",
   "metadata": {
    "tags": []
   },
   "outputs": [],
   "source": [
    "Dmin, Dmax = 0.1, 10\n",
    "D_list = np.linspace(Dmin, Dmax, 1000).reshape(-1, 1)\n",
    "\n",
    "U_sols = []\n",
    "solver = Solver(params={'solver': params_solver})\n",
    "for d in D_list:\n",
    "    solver.change_D(new_D=d)\n",
    "    U_sols.append(solver.solve())\n",
    "\n",
    "U_sols = np.stack(U_sols)"
   ]
  },
  {
   "cell_type": "code",
   "execution_count": 7,
   "id": "012807db-7d7a-4990-9f49-d9cfe77b9f87",
   "metadata": {
    "tags": []
   },
   "outputs": [],
   "source": [
    "D_train, D_val, U_train, U_val = sklearn.model_selection.train_test_split(D_list, U_sols,test_size=0.2, random_state=params_FNO['seed'])"
   ]
  },
  {
   "cell_type": "code",
   "execution_count": 8,
   "id": "a5ada668-5224-4204-a01f-ff8c24ef0884",
   "metadata": {
    "tags": []
   },
   "outputs": [],
   "source": [
    "D_fno_train = torch.Tensor(D_train.repeat(params_solver['nx'], 1)).unsqueeze(-1)\n",
    "D_fno_val = torch.Tensor(D_val.repeat(params_solver['nx'], 1)).unsqueeze(-1)"
   ]
  },
  {
   "cell_type": "code",
   "execution_count": 10,
   "id": "474d49a0-6bea-4502-b5f3-59bea8c2335e",
   "metadata": {
    "tags": []
   },
   "outputs": [],
   "source": [
    "def get_dataset():\n",
    "    return D_fno_train, D_fno_val, U_train, U_val"
   ]
  },
  {
   "cell_type": "code",
   "execution_count": 11,
   "id": "b6b993f9-cd86-4d12-922f-4eec7fc94725",
   "metadata": {
    "tags": []
   },
   "outputs": [],
   "source": [
    "def loss_fn(x, y = 0):\n",
    "    return torch.square(y - x).mean()"
   ]
  },
  {
   "cell_type": "code",
   "execution_count": 12,
   "id": "a78ed795-0daf-4689-890d-8f5cc74da211",
   "metadata": {
    "tags": []
   },
   "outputs": [],
   "source": [
    "def define_model(trial, input_chanel):\n",
    "    n_fourier_layers = trial.suggest_int(\"n_fourier_layers\", 1, 5)\n",
    "    lifting_layer = trial.suggest_int(\"lifting_layer\", 32, 64)\n",
    "    layers = [input_chanel, lifting_layer]\n",
    "    fourier_modes = []\n",
    "    for i in range(n_fourier_layers):\n",
    "        out_features = trial.suggest_int(\"Fourier_units_l{}\".format(i), 32, 64)\n",
    "        fourier_mode = trial.suggest_int(\"Fourier_modes_l{}\".format(i), 12, 16)\n",
    "        layers += [out_features]\n",
    "        fourier_modes.append(fourier_mode)\n",
    "    \n",
    "    params_FNO_trial = copy.deepcopy(params_FNO)\n",
    "    params_FNO_trial['layers_dim'] = layers\n",
    "    params_FNO_trial['FourierLayers_modes'] = fourier_modes\n",
    "    return FNO1d(params={'solver':params_solver, 'method':params_FNO_trial})"
   ]
  },
  {
   "cell_type": "code",
   "execution_count": 23,
   "id": "26daf0bc-d997-407d-842e-98700cfaff64",
   "metadata": {
    "tags": []
   },
   "outputs": [],
   "source": [
    "def objective(trial):\n",
    "    # Generate the model.\n",
    "    model = define_model(trial, 1)\n",
    "\n",
    "    # Generate the optimizers.\n",
    "    lr = trial.suggest_float(\"lr\", 1e-5, 1e-2, log=True)\n",
    "\n",
    "    D_train, D_val, U_train, U_val = get_dataset()\n",
    "    print(D_train.shape, D_val.shape, U_train.shape, U_val.shape)\n",
    "    trainDataset = FNODataset(x=D_train, y=U_train)\n",
    "    valDataset = FNODataset(x=D_val, y=U_val)\n",
    "    batch_size = trial.suggest_int(\"batch_size\", 170, 175)\n",
    "    \n",
    "    n_epochs = 10000\n",
    "    hyperparameters = {'lr': lr, 'epochs': n_epochs, 'optimizer': 'Adam', 'batch_size': batch_size}\n",
    "    \n",
    "    torch.manual_seed(params_FNO['seed'])\n",
    "    model.fit(hyperparameters=hyperparameters, \n",
    "                            D_train=D_fno_train, D_val=D_fno_val, U_train=U_train, U_val=U_val)\n",
    "\n",
    "            \n",
    "    val_loss = model.loss_dict['val']\n",
    "    trial.report(min(val_loss), n_epochs)\n",
    "    \n",
    "    return min(val_loss)"
   ]
  },
  {
   "cell_type": "code",
   "execution_count": 24,
   "id": "8cd87a54-d252-4a6e-be68-716555ed1845",
   "metadata": {
    "tags": []
   },
   "outputs": [
    {
     "name": "stderr",
     "output_type": "stream",
     "text": [
      "[I 2023-08-09 17:07:28,704] A new study created in memory with name: no-name-f6f6d726-11e2-4537-8118-95913710ba5c\n"
     ]
    }
   ],
   "source": [
    "sampler = TPESampler(seed=params_FNO['seed'])\n",
    "study = optuna.create_study(direction=\"minimize\", sampler=sampler)"
   ]
  },
  {
   "cell_type": "code",
   "execution_count": 25,
   "id": "7c7c221c-438c-44a0-b5c2-5772892fe31d",
   "metadata": {
    "tags": []
   },
   "outputs": [
    {
     "name": "stdout",
     "output_type": "stream",
     "text": [
      "torch.Size([800, 101, 1]) torch.Size([200, 101, 1]) (800, 101) (200, 101)\n"
     ]
    },
    {
     "name": "stderr",
     "output_type": "stream",
     "text": [
      "[epoch: 10000 : 100%|\u001b[34m█████████████████████\u001b[0m| 10001/10001 [04:22<00:00, 38.09it/s]\u001b[0m\n",
      "[I 2023-08-09 17:11:52,513] Trial 0 finished with value: 3.346859123176671e-09 and parameters: {'n_fourier_layers': 4, 'lifting_layer': 41, 'Fourier_units_l0': 39, 'Fourier_modes_l0': 14, 'Fourier_units_l1': 55, 'Fourier_modes_l1': 14, 'Fourier_units_l2': 64, 'Fourier_modes_l2': 15, 'Fourier_units_l3': 47, 'Fourier_modes_l3': 13, 'lr': 0.00010703702960745551, 'batch_size': 174}. Best is trial 0 with value: 3.346859123176671e-09.\n"
     ]
    },
    {
     "name": "stdout",
     "output_type": "stream",
     "text": [
      "torch.Size([800, 101, 1]) torch.Size([200, 101, 1]) (800, 101) (200, 101)\n"
     ]
    },
    {
     "name": "stderr",
     "output_type": "stream",
     "text": [
      "[epoch: 10000 : 100%|\u001b[34m█████████████████████\u001b[0m| 10001/10001 [03:23<00:00, 49.10it/s]\u001b[0m\n",
      "[I 2023-08-09 17:15:16,202] Trial 1 finished with value: 2.4169155288245037e-09 and parameters: {'n_fourier_layers': 3, 'lifting_layer': 33, 'Fourier_units_l0': 45, 'Fourier_modes_l0': 15, 'Fourier_units_l1': 38, 'Fourier_modes_l1': 12, 'Fourier_units_l2': 49, 'Fourier_modes_l2': 14, 'lr': 0.0008002079756292469, 'batch_size': 175}. Best is trial 1 with value: 2.4169155288245037e-09.\n"
     ]
    },
    {
     "name": "stdout",
     "output_type": "stream",
     "text": [
      "torch.Size([800, 101, 1]) torch.Size([200, 101, 1]) (800, 101) (200, 101)\n"
     ]
    },
    {
     "name": "stderr",
     "output_type": "stream",
     "text": [
      "[epoch: 10000 : 100%|\u001b[34m█████████████████████\u001b[0m| 10001/10001 [04:03<00:00, 41.06it/s]\u001b[0m\n",
      "[I 2023-08-09 17:19:19,785] Trial 2 finished with value: 3.6502567635210426e-09 and parameters: {'n_fourier_layers': 4, 'lifting_layer': 52, 'Fourier_units_l0': 55, 'Fourier_modes_l0': 13, 'Fourier_units_l1': 43, 'Fourier_modes_l1': 13, 'Fourier_units_l2': 41, 'Fourier_modes_l2': 15, 'Fourier_units_l3': 35, 'Fourier_modes_l3': 14, 'lr': 0.00019614998984838697, 'batch_size': 172}. Best is trial 1 with value: 2.4169155288245037e-09.\n"
     ]
    }
   ],
   "source": [
    "study.optimize(objective, n_trials=3)"
   ]
  },
  {
   "cell_type": "code",
   "execution_count": 26,
   "id": "57a2edad-074d-47e1-83be-a963dfd84a70",
   "metadata": {
    "tags": []
   },
   "outputs": [
    {
     "name": "stdout",
     "output_type": "stream",
     "text": [
      "Study statistics: \n",
      "  Number of finished trials:  3\n",
      "  Number of pruned trials:  0\n",
      "  Number of complete trials:  3\n",
      "Best trial:\n",
      "  Value:  2.4169155288245037e-09\n",
      "  Params: \n",
      "    n_fourier_layers: 3\n",
      "    lifting_layer: 33\n",
      "    Fourier_units_l0: 45\n",
      "    Fourier_modes_l0: 15\n",
      "    Fourier_units_l1: 38\n",
      "    Fourier_modes_l1: 12\n",
      "    Fourier_units_l2: 49\n",
      "    Fourier_modes_l2: 14\n",
      "    lr: 0.0008002079756292469\n",
      "    batch_size: 175\n"
     ]
    }
   ],
   "source": [
    "pruned_trials = study.get_trials(deepcopy=False, states=[TrialState.PRUNED])\n",
    "complete_trials = study.get_trials(deepcopy=False, states=[TrialState.COMPLETE])\n",
    "\n",
    "print(\"Study statistics: \")\n",
    "print(\"  Number of finished trials: \", len(study.trials))\n",
    "print(\"  Number of pruned trials: \", len(pruned_trials))\n",
    "print(\"  Number of complete trials: \", len(complete_trials))\n",
    "\n",
    "print(\"Best trial:\")\n",
    "trial = study.best_trial\n",
    "\n",
    "print(\"  Value: \", trial.value)\n",
    "\n",
    "print(\"  Params: \")\n",
    "for key, value in trial.params.items():\n",
    "    print(\"    {}: {}\".format(key, value))"
   ]
  },
  {
   "cell_type": "code",
   "execution_count": 27,
   "id": "14791500-59c8-4a11-b468-47ca5369e6d6",
   "metadata": {
    "tags": []
   },
   "outputs": [],
   "source": [
    "modes = []\n",
    "layer_dims = []\n",
    "\n",
    "for key, value in trial.params.items():\n",
    "    if key.split('_')[0] == 'Fourier':\n",
    "        if key.split('_')[1] == 'modes':\n",
    "            modes.append(value)\n",
    "        if key.split('_')[1] == 'units':\n",
    "            layer_dims.append(value)\n",
    "    elif key.split('_')[0] == 'lifting':\n",
    "        lifting = value\n",
    "    elif key == 'optimizer':\n",
    "        optimizer = value\n",
    "    elif key == 'lr':\n",
    "        lr = value\n",
    "    elif key == 'batch_size':\n",
    "        batch_size = value"
   ]
  },
  {
   "cell_type": "markdown",
   "id": "6101b79c-43b3-44a6-b42a-8a0827585b54",
   "metadata": {},
   "source": [
    "Use this to fill config_step_1.py"
   ]
  },
  {
   "cell_type": "code",
   "execution_count": 29,
   "id": "93c794c9-5dbb-4ef3-9f68-ca238d67fea3",
   "metadata": {
    "tags": []
   },
   "outputs": [
    {
     "name": "stdout",
     "output_type": "stream",
     "text": [
      "[45, 38, 49] \n",
      " [15, 12, 14] \n",
      " 33 \n",
      " \n",
      " 0.0008002079756292469 \n",
      " 175\n"
     ]
    }
   ],
   "source": [
    "print(layer_dims, '\\n', modes, '\\n', lifting, '\\n', '\\n', lr, '\\n', batch_size)"
   ]
  },
  {
   "cell_type": "code",
   "execution_count": null,
   "id": "2c0cebce-6df1-44cc-aa1e-51e3834853ed",
   "metadata": {},
   "outputs": [],
   "source": []
  }
 ],
 "metadata": {
  "kernelspec": {
   "display_name": "cemracs",
   "language": "python",
   "name": "cemracs"
  },
  "language_info": {
   "codemirror_mode": {
    "name": "ipython",
    "version": 3
   },
   "file_extension": ".py",
   "mimetype": "text/x-python",
   "name": "python",
   "nbconvert_exporter": "python",
   "pygments_lexer": "ipython3",
   "version": "3.11.4"
  }
 },
 "nbformat": 4,
 "nbformat_minor": 5
}
