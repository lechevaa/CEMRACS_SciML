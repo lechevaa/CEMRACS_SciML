{
 "cells": [
  {
   "cell_type": "code",
   "execution_count": 1,
   "id": "def45360-f674-4c36-8c2c-1c1fb9f7965f",
   "metadata": {},
   "outputs": [],
   "source": [
    "import os\n",
    "import sys\n",
    "sys.path.insert(1, '../../../..')"
   ]
  },
  {
   "cell_type": "code",
   "execution_count": 2,
   "id": "25383d53-9203-44a4-8b87-bf002ea1288b",
   "metadata": {},
   "outputs": [],
   "source": [
    "import optuna\n",
    "from optuna.trial import TrialState\n",
    "from optuna.samplers import TPESampler\n",
    "\n",
    "import torch\n",
    "import torch.optim as optim\n",
    "import torch.nn as nn\n",
    "\n",
    "import numpy as np\n",
    "import sklearn\n",
    "import copy\n",
    "\n",
    "from methods.FNO import FNO1d\n",
    "from methods.methodsDataset.FNODataset import FNODataset\n",
    "from methods.DataDrivenMethods import DDMethod\n",
    "from solvers.Solver import Solver"
   ]
  },
  {
   "cell_type": "code",
   "execution_count": 3,
   "id": "5d2af12a-bbb6-4639-aca5-398a6c3b3009",
   "metadata": {},
   "outputs": [],
   "source": [
    "params_solver = {'equation': 'Poisson', 'domain': [0., 1.], 'D': 1., 'nx': 101}\n",
    "device = torch.device('cuda' if torch.cuda.is_available() else 'cpu')\n",
    "params_FNO = {'layer_dims': None, 'FourierLayers_modes': None, 'device': device, 'seed': 123}"
   ]
  },
  {
   "cell_type": "code",
   "execution_count": 4,
   "id": "5b85eba0-e667-4ab7-baa5-11400c272a90",
   "metadata": {},
   "outputs": [],
   "source": [
    "Dmin, Dmax = 0.1, 10\n",
    "D_list = np.linspace(Dmin, Dmax, 1000)\n",
    "\n",
    "U_sols = []\n",
    "solver = Solver(params={'solver': params_solver})\n",
    "for d in D_list:\n",
    "    solver.change_D(new_D=d)\n",
    "    U_sols.append(solver.solve())\n",
    "\n",
    "U_sols = np.stack(U_sols)\n",
    "D = torch.Tensor(D_list).view(-1, 1).to(device)\n",
    "U = torch.Tensor(U_sols).to(device)"
   ]
  },
  {
   "cell_type": "code",
   "execution_count": 5,
   "id": "012807db-7d7a-4990-9f49-d9cfe77b9f87",
   "metadata": {},
   "outputs": [],
   "source": [
    "D_train, D_test, U_train, U_test = sklearn.model_selection.train_test_split(D, U,test_size=0.2, random_state=params_FNO['seed'])"
   ]
  },
  {
   "cell_type": "code",
   "execution_count": 6,
   "id": "474d49a0-6bea-4502-b5f3-59bea8c2335e",
   "metadata": {},
   "outputs": [],
   "source": [
    "def get_dataset():\n",
    "    return D_train, D_test, U_train, U_test"
   ]
  },
  {
   "cell_type": "code",
   "execution_count": 7,
   "id": "b6b993f9-cd86-4d12-922f-4eec7fc94725",
   "metadata": {},
   "outputs": [],
   "source": [
    "def loss_fn(x, y = 0):\n",
    "    return torch.square(y - x).mean()"
   ]
  },
  {
   "cell_type": "code",
   "execution_count": 8,
   "id": "a78ed795-0daf-4689-890d-8f5cc74da211",
   "metadata": {},
   "outputs": [],
   "source": [
    "def define_model(trial, input_chanel):\n",
    "    n_fourier_layers = trial.suggest_int(\"n_fourier_layers\", 1, 5)\n",
    "    lifting_layer = trial.suggest_int(\"lifting_layer\", 32, 64)\n",
    "    layers = [input_chanel, lifting_layer]\n",
    "    fourier_modes = []\n",
    "    for i in range(n_fourier_layers):\n",
    "        out_features = trial.suggest_int(\"Fourier_units_l{}\".format(i), 32, 64)\n",
    "        fourier_mode = trial.suggest_int(\"Fourier_modes_l{}\".format(i), 12, 16)\n",
    "        layers += [out_features]\n",
    "        fourier_modes.append(fourier_mode)\n",
    "    \n",
    "    params_FNO_trial = copy.deepcopy(params_FNO)\n",
    "    params_FNO_trial['layers_dim'] = layers\n",
    "    params_FNO_trial['FourierLayers_modes'] = fourier_modes\n",
    "    return FNO1d(params={'solver':params_solver, 'method':params_FNO_trial})"
   ]
  },
  {
   "cell_type": "code",
   "execution_count": 9,
   "id": "26daf0bc-d997-407d-842e-98700cfaff64",
   "metadata": {},
   "outputs": [],
   "source": [
    "def objective(trial):\n",
    "    # Generate the model.\n",
    "    model = define_model(trial, 1)\n",
    "\n",
    "    # Generate the optimizers.\n",
    "    optimizer_name = trial.suggest_categorical(\"optimizer\", [\"Adam\", \"RMSprop\", \"SGD\"])\n",
    "    lr = trial.suggest_float(\"lr\", 1e-5, 1e-1, log=True)\n",
    "    optimizer = getattr(optim, optimizer_name)(model.parameters(), lr=lr)\n",
    "    \n",
    "    D_train, D_val, U_train, U_val = get_dataset()\n",
    "\n",
    "    trainDataset = FNODataset(x=D_train, y=U_train)\n",
    "    valDataset = FNODataset(x=D_val, y=U_val)\n",
    "\n",
    "    batch_size = trial.suggest_int(\"batch_size\", 32, 256)\n",
    "    torch.manual_seed(params_FNO['seed'])\n",
    "    trainLoader = torch.utils.data.DataLoader(trainDataset, batch_size=batch_size, shuffle=True)\n",
    "    valLoader = torch.utils.data.DataLoader(valDataset, batch_size=batch_size, shuffle=False)\n",
    "\n",
    "    # Training of the model.\n",
    "    loss_vals = []\n",
    "    for epoch in range(2000):\n",
    "        model.train()\n",
    "        for i, data in enumerate(trainLoader):\n",
    "            inputs, label = data\n",
    "            optimizer.zero_grad()\n",
    "            output = model(inputs).squeeze(-1)\n",
    "            loss = loss_fn(output, label)\n",
    "            loss.backward()\n",
    "            optimizer.step()\n",
    "            \n",
    "        # Validation of the model.\n",
    "        model.eval()\n",
    "        loss_val = 0.\n",
    "        with torch.no_grad():\n",
    "            for i, data in enumerate(valLoader):\n",
    "                inputs, label = data\n",
    "                optimizer.zero_grad()\n",
    "                output = model(inputs).squeeze(-1)\n",
    "                loss_val += loss_fn(output, label).item()\n",
    "        loss_val /= (i+1)\n",
    "        loss_vals.append(loss_val)\n",
    "\n",
    "        trial.report(min(loss_vals), epoch)\n",
    "\n",
    "        # Handle pruning based on the intermediate value.\n",
    "        if trial.should_prune():\n",
    "            raise optuna.exceptions.TrialPruned()\n",
    "\n",
    "    return min(loss_vals)"
   ]
  },
  {
   "cell_type": "code",
   "execution_count": 10,
   "id": "8cd87a54-d252-4a6e-be68-716555ed1845",
   "metadata": {},
   "outputs": [
    {
     "name": "stderr",
     "output_type": "stream",
     "text": [
      "[I 2023-08-04 11:46:56,607] A new study created in memory with name: no-name-ed42057c-54b8-4327-9c2f-74e2784155d6\n"
     ]
    }
   ],
   "source": [
    "sampler = TPESampler(seed=params_FNO['seed'])\n",
    "study = optuna.create_study(direction=\"minimize\", sampler=sampler)"
   ]
  },
  {
   "cell_type": "code",
   "execution_count": 11,
   "id": "7c7c221c-438c-44a0-b5c2-5772892fe31d",
   "metadata": {},
   "outputs": [
    {
     "name": "stderr",
     "output_type": "stream",
     "text": [
      "[I 2023-08-04 12:02:29,396] Trial 0 finished with value: 1.999834410071344e-06 and parameters: {'n_fourier_layers': 4, 'lifting_layer': 41, 'Fourier_units_l0': 39, 'Fourier_modes_l0': 14, 'Fourier_units_l1': 55, 'Fourier_modes_l1': 14, 'Fourier_units_l2': 64, 'Fourier_modes_l2': 15, 'Fourier_units_l3': 47, 'Fourier_modes_l3': 13, 'optimizer': 'RMSprop', 'lr': 1.7326529663635617e-05, 'batch_size': 121}. Best is trial 0 with value: 1.999834410071344e-06.\n",
      "[I 2023-08-04 12:18:41,548] Trial 1 finished with value: 6.443213074192045e-08 and parameters: {'n_fourier_layers': 4, 'lifting_layer': 38, 'Fourier_units_l0': 37, 'Fourier_modes_l0': 14, 'Fourier_units_l1': 49, 'Fourier_modes_l1': 15, 'Fourier_units_l2': 60, 'Fourier_modes_l2': 15, 'Fourier_units_l3': 52, 'Fourier_modes_l3': 15, 'optimizer': 'RMSprop', 'lr': 0.0001495740267170668, 'batch_size': 173}. Best is trial 1 with value: 6.443213074192045e-08.\n",
      "[W 2023-08-04 12:23:17,478] Trial 2 failed with parameters: {'n_fourier_layers': 1, 'lifting_layer': 46, 'Fourier_units_l0': 46, 'Fourier_modes_l0': 14, 'optimizer': 'SGD', 'lr': 0.0374590408092628, 'batch_size': 244} because of the following error: KeyboardInterrupt().\n",
      "Traceback (most recent call last):\n",
      "  File \"/work/lechevaa/miniconda3/envs/CEMRACS_SciML/lib/python3.10/site-packages/optuna/study/_optimize.py\", line 200, in _run_trial\n",
      "    value_or_values = func(trial)\n",
      "  File \"/tmp/ipykernel_8169/195875364.py\", line 27, in objective\n",
      "    output = model(inputs).squeeze(-1)\n",
      "  File \"/work/lechevaa/miniconda3/envs/CEMRACS_SciML/lib/python3.10/site-packages/torch/nn/modules/module.py\", line 1501, in _call_impl\n",
      "    return forward_call(*args, **kwargs)\n",
      "  File \"/work/lechevaa/PycharmProjects/CEMRACS_SciML/notebooks/PoissonEquation/optuna/step_1/../../../../methods/FNO.py\", line 137, in forward\n",
      "    x = x.permute(0, 2, 1)\n",
      "KeyboardInterrupt\n",
      "[W 2023-08-04 12:23:17,479] Trial 2 failed with value None.\n"
     ]
    },
    {
     "ename": "KeyboardInterrupt",
     "evalue": "",
     "output_type": "error",
     "traceback": [
      "\u001b[0;31m---------------------------------------------------------------------------\u001b[0m",
      "\u001b[0;31mKeyboardInterrupt\u001b[0m                         Traceback (most recent call last)",
      "Cell \u001b[0;32mIn[11], line 1\u001b[0m\n\u001b[0;32m----> 1\u001b[0m \u001b[43mstudy\u001b[49m\u001b[38;5;241;43m.\u001b[39;49m\u001b[43moptimize\u001b[49m\u001b[43m(\u001b[49m\u001b[43mobjective\u001b[49m\u001b[43m,\u001b[49m\u001b[43m \u001b[49m\u001b[43mn_trials\u001b[49m\u001b[38;5;241;43m=\u001b[39;49m\u001b[38;5;241;43m20\u001b[39;49m\u001b[43m,\u001b[49m\u001b[43m \u001b[49m\u001b[43mtimeout\u001b[49m\u001b[38;5;241;43m=\u001b[39;49m\u001b[38;5;241;43m6000\u001b[39;49m\u001b[43m)\u001b[49m\n",
      "File \u001b[0;32m~/miniconda3/envs/CEMRACS_SciML/lib/python3.10/site-packages/optuna/study/study.py:443\u001b[0m, in \u001b[0;36mStudy.optimize\u001b[0;34m(self, func, n_trials, timeout, n_jobs, catch, callbacks, gc_after_trial, show_progress_bar)\u001b[0m\n\u001b[1;32m    339\u001b[0m \u001b[38;5;28;01mdef\u001b[39;00m \u001b[38;5;21moptimize\u001b[39m(\n\u001b[1;32m    340\u001b[0m     \u001b[38;5;28mself\u001b[39m,\n\u001b[1;32m    341\u001b[0m     func: ObjectiveFuncType,\n\u001b[0;32m   (...)\u001b[0m\n\u001b[1;32m    348\u001b[0m     show_progress_bar: \u001b[38;5;28mbool\u001b[39m \u001b[38;5;241m=\u001b[39m \u001b[38;5;28;01mFalse\u001b[39;00m,\n\u001b[1;32m    349\u001b[0m ) \u001b[38;5;241m-\u001b[39m\u001b[38;5;241m>\u001b[39m \u001b[38;5;28;01mNone\u001b[39;00m:\n\u001b[1;32m    350\u001b[0m \u001b[38;5;250m    \u001b[39m\u001b[38;5;124;03m\"\"\"Optimize an objective function.\u001b[39;00m\n\u001b[1;32m    351\u001b[0m \n\u001b[1;32m    352\u001b[0m \u001b[38;5;124;03m    Optimization is done by choosing a suitable set of hyperparameter values from a given\u001b[39;00m\n\u001b[0;32m   (...)\u001b[0m\n\u001b[1;32m    440\u001b[0m \u001b[38;5;124;03m            If nested invocation of this method occurs.\u001b[39;00m\n\u001b[1;32m    441\u001b[0m \u001b[38;5;124;03m    \"\"\"\u001b[39;00m\n\u001b[0;32m--> 443\u001b[0m     \u001b[43m_optimize\u001b[49m\u001b[43m(\u001b[49m\n\u001b[1;32m    444\u001b[0m \u001b[43m        \u001b[49m\u001b[43mstudy\u001b[49m\u001b[38;5;241;43m=\u001b[39;49m\u001b[38;5;28;43mself\u001b[39;49m\u001b[43m,\u001b[49m\n\u001b[1;32m    445\u001b[0m \u001b[43m        \u001b[49m\u001b[43mfunc\u001b[49m\u001b[38;5;241;43m=\u001b[39;49m\u001b[43mfunc\u001b[49m\u001b[43m,\u001b[49m\n\u001b[1;32m    446\u001b[0m \u001b[43m        \u001b[49m\u001b[43mn_trials\u001b[49m\u001b[38;5;241;43m=\u001b[39;49m\u001b[43mn_trials\u001b[49m\u001b[43m,\u001b[49m\n\u001b[1;32m    447\u001b[0m \u001b[43m        \u001b[49m\u001b[43mtimeout\u001b[49m\u001b[38;5;241;43m=\u001b[39;49m\u001b[43mtimeout\u001b[49m\u001b[43m,\u001b[49m\n\u001b[1;32m    448\u001b[0m \u001b[43m        \u001b[49m\u001b[43mn_jobs\u001b[49m\u001b[38;5;241;43m=\u001b[39;49m\u001b[43mn_jobs\u001b[49m\u001b[43m,\u001b[49m\n\u001b[1;32m    449\u001b[0m \u001b[43m        \u001b[49m\u001b[43mcatch\u001b[49m\u001b[38;5;241;43m=\u001b[39;49m\u001b[38;5;28;43mtuple\u001b[39;49m\u001b[43m(\u001b[49m\u001b[43mcatch\u001b[49m\u001b[43m)\u001b[49m\u001b[43m \u001b[49m\u001b[38;5;28;43;01mif\u001b[39;49;00m\u001b[43m \u001b[49m\u001b[38;5;28;43misinstance\u001b[39;49m\u001b[43m(\u001b[49m\u001b[43mcatch\u001b[49m\u001b[43m,\u001b[49m\u001b[43m \u001b[49m\u001b[43mIterable\u001b[49m\u001b[43m)\u001b[49m\u001b[43m \u001b[49m\u001b[38;5;28;43;01melse\u001b[39;49;00m\u001b[43m \u001b[49m\u001b[43m(\u001b[49m\u001b[43mcatch\u001b[49m\u001b[43m,\u001b[49m\u001b[43m)\u001b[49m\u001b[43m,\u001b[49m\n\u001b[1;32m    450\u001b[0m \u001b[43m        \u001b[49m\u001b[43mcallbacks\u001b[49m\u001b[38;5;241;43m=\u001b[39;49m\u001b[43mcallbacks\u001b[49m\u001b[43m,\u001b[49m\n\u001b[1;32m    451\u001b[0m \u001b[43m        \u001b[49m\u001b[43mgc_after_trial\u001b[49m\u001b[38;5;241;43m=\u001b[39;49m\u001b[43mgc_after_trial\u001b[49m\u001b[43m,\u001b[49m\n\u001b[1;32m    452\u001b[0m \u001b[43m        \u001b[49m\u001b[43mshow_progress_bar\u001b[49m\u001b[38;5;241;43m=\u001b[39;49m\u001b[43mshow_progress_bar\u001b[49m\u001b[43m,\u001b[49m\n\u001b[1;32m    453\u001b[0m \u001b[43m    \u001b[49m\u001b[43m)\u001b[49m\n",
      "File \u001b[0;32m~/miniconda3/envs/CEMRACS_SciML/lib/python3.10/site-packages/optuna/study/_optimize.py:66\u001b[0m, in \u001b[0;36m_optimize\u001b[0;34m(study, func, n_trials, timeout, n_jobs, catch, callbacks, gc_after_trial, show_progress_bar)\u001b[0m\n\u001b[1;32m     64\u001b[0m \u001b[38;5;28;01mtry\u001b[39;00m:\n\u001b[1;32m     65\u001b[0m     \u001b[38;5;28;01mif\u001b[39;00m n_jobs \u001b[38;5;241m==\u001b[39m \u001b[38;5;241m1\u001b[39m:\n\u001b[0;32m---> 66\u001b[0m         \u001b[43m_optimize_sequential\u001b[49m\u001b[43m(\u001b[49m\n\u001b[1;32m     67\u001b[0m \u001b[43m            \u001b[49m\u001b[43mstudy\u001b[49m\u001b[43m,\u001b[49m\n\u001b[1;32m     68\u001b[0m \u001b[43m            \u001b[49m\u001b[43mfunc\u001b[49m\u001b[43m,\u001b[49m\n\u001b[1;32m     69\u001b[0m \u001b[43m            \u001b[49m\u001b[43mn_trials\u001b[49m\u001b[43m,\u001b[49m\n\u001b[1;32m     70\u001b[0m \u001b[43m            \u001b[49m\u001b[43mtimeout\u001b[49m\u001b[43m,\u001b[49m\n\u001b[1;32m     71\u001b[0m \u001b[43m            \u001b[49m\u001b[43mcatch\u001b[49m\u001b[43m,\u001b[49m\n\u001b[1;32m     72\u001b[0m \u001b[43m            \u001b[49m\u001b[43mcallbacks\u001b[49m\u001b[43m,\u001b[49m\n\u001b[1;32m     73\u001b[0m \u001b[43m            \u001b[49m\u001b[43mgc_after_trial\u001b[49m\u001b[43m,\u001b[49m\n\u001b[1;32m     74\u001b[0m \u001b[43m            \u001b[49m\u001b[43mreseed_sampler_rng\u001b[49m\u001b[38;5;241;43m=\u001b[39;49m\u001b[38;5;28;43;01mFalse\u001b[39;49;00m\u001b[43m,\u001b[49m\n\u001b[1;32m     75\u001b[0m \u001b[43m            \u001b[49m\u001b[43mtime_start\u001b[49m\u001b[38;5;241;43m=\u001b[39;49m\u001b[38;5;28;43;01mNone\u001b[39;49;00m\u001b[43m,\u001b[49m\n\u001b[1;32m     76\u001b[0m \u001b[43m            \u001b[49m\u001b[43mprogress_bar\u001b[49m\u001b[38;5;241;43m=\u001b[39;49m\u001b[43mprogress_bar\u001b[49m\u001b[43m,\u001b[49m\n\u001b[1;32m     77\u001b[0m \u001b[43m        \u001b[49m\u001b[43m)\u001b[49m\n\u001b[1;32m     78\u001b[0m     \u001b[38;5;28;01melse\u001b[39;00m:\n\u001b[1;32m     79\u001b[0m         \u001b[38;5;28;01mif\u001b[39;00m n_jobs \u001b[38;5;241m==\u001b[39m \u001b[38;5;241m-\u001b[39m\u001b[38;5;241m1\u001b[39m:\n",
      "File \u001b[0;32m~/miniconda3/envs/CEMRACS_SciML/lib/python3.10/site-packages/optuna/study/_optimize.py:163\u001b[0m, in \u001b[0;36m_optimize_sequential\u001b[0;34m(study, func, n_trials, timeout, catch, callbacks, gc_after_trial, reseed_sampler_rng, time_start, progress_bar)\u001b[0m\n\u001b[1;32m    160\u001b[0m         \u001b[38;5;28;01mbreak\u001b[39;00m\n\u001b[1;32m    162\u001b[0m \u001b[38;5;28;01mtry\u001b[39;00m:\n\u001b[0;32m--> 163\u001b[0m     frozen_trial \u001b[38;5;241m=\u001b[39m \u001b[43m_run_trial\u001b[49m\u001b[43m(\u001b[49m\u001b[43mstudy\u001b[49m\u001b[43m,\u001b[49m\u001b[43m \u001b[49m\u001b[43mfunc\u001b[49m\u001b[43m,\u001b[49m\u001b[43m \u001b[49m\u001b[43mcatch\u001b[49m\u001b[43m)\u001b[49m\n\u001b[1;32m    164\u001b[0m \u001b[38;5;28;01mfinally\u001b[39;00m:\n\u001b[1;32m    165\u001b[0m     \u001b[38;5;66;03m# The following line mitigates memory problems that can be occurred in some\u001b[39;00m\n\u001b[1;32m    166\u001b[0m     \u001b[38;5;66;03m# environments (e.g., services that use computing containers such as GitHub Actions).\u001b[39;00m\n\u001b[1;32m    167\u001b[0m     \u001b[38;5;66;03m# Please refer to the following PR for further details:\u001b[39;00m\n\u001b[1;32m    168\u001b[0m     \u001b[38;5;66;03m# https://github.com/optuna/optuna/pull/325.\u001b[39;00m\n\u001b[1;32m    169\u001b[0m     \u001b[38;5;28;01mif\u001b[39;00m gc_after_trial:\n",
      "File \u001b[0;32m~/miniconda3/envs/CEMRACS_SciML/lib/python3.10/site-packages/optuna/study/_optimize.py:251\u001b[0m, in \u001b[0;36m_run_trial\u001b[0;34m(study, func, catch)\u001b[0m\n\u001b[1;32m    244\u001b[0m         \u001b[38;5;28;01massert\u001b[39;00m \u001b[38;5;28;01mFalse\u001b[39;00m, \u001b[38;5;124m\"\u001b[39m\u001b[38;5;124mShould not reach.\u001b[39m\u001b[38;5;124m\"\u001b[39m\n\u001b[1;32m    246\u001b[0m \u001b[38;5;28;01mif\u001b[39;00m (\n\u001b[1;32m    247\u001b[0m     frozen_trial\u001b[38;5;241m.\u001b[39mstate \u001b[38;5;241m==\u001b[39m TrialState\u001b[38;5;241m.\u001b[39mFAIL\n\u001b[1;32m    248\u001b[0m     \u001b[38;5;129;01mand\u001b[39;00m func_err \u001b[38;5;129;01mis\u001b[39;00m \u001b[38;5;129;01mnot\u001b[39;00m \u001b[38;5;28;01mNone\u001b[39;00m\n\u001b[1;32m    249\u001b[0m     \u001b[38;5;129;01mand\u001b[39;00m \u001b[38;5;129;01mnot\u001b[39;00m \u001b[38;5;28misinstance\u001b[39m(func_err, catch)\n\u001b[1;32m    250\u001b[0m ):\n\u001b[0;32m--> 251\u001b[0m     \u001b[38;5;28;01mraise\u001b[39;00m func_err\n\u001b[1;32m    252\u001b[0m \u001b[38;5;28;01mreturn\u001b[39;00m frozen_trial\n",
      "File \u001b[0;32m~/miniconda3/envs/CEMRACS_SciML/lib/python3.10/site-packages/optuna/study/_optimize.py:200\u001b[0m, in \u001b[0;36m_run_trial\u001b[0;34m(study, func, catch)\u001b[0m\n\u001b[1;32m    198\u001b[0m \u001b[38;5;28;01mwith\u001b[39;00m get_heartbeat_thread(trial\u001b[38;5;241m.\u001b[39m_trial_id, study\u001b[38;5;241m.\u001b[39m_storage):\n\u001b[1;32m    199\u001b[0m     \u001b[38;5;28;01mtry\u001b[39;00m:\n\u001b[0;32m--> 200\u001b[0m         value_or_values \u001b[38;5;241m=\u001b[39m \u001b[43mfunc\u001b[49m\u001b[43m(\u001b[49m\u001b[43mtrial\u001b[49m\u001b[43m)\u001b[49m\n\u001b[1;32m    201\u001b[0m     \u001b[38;5;28;01mexcept\u001b[39;00m exceptions\u001b[38;5;241m.\u001b[39mTrialPruned \u001b[38;5;28;01mas\u001b[39;00m e:\n\u001b[1;32m    202\u001b[0m         \u001b[38;5;66;03m# TODO(mamu): Handle multi-objective cases.\u001b[39;00m\n\u001b[1;32m    203\u001b[0m         state \u001b[38;5;241m=\u001b[39m TrialState\u001b[38;5;241m.\u001b[39mPRUNED\n",
      "Cell \u001b[0;32mIn[9], line 27\u001b[0m, in \u001b[0;36mobjective\u001b[0;34m(trial)\u001b[0m\n\u001b[1;32m     25\u001b[0m inputs, label \u001b[38;5;241m=\u001b[39m data\n\u001b[1;32m     26\u001b[0m optimizer\u001b[38;5;241m.\u001b[39mzero_grad()\n\u001b[0;32m---> 27\u001b[0m output \u001b[38;5;241m=\u001b[39m \u001b[43mmodel\u001b[49m\u001b[43m(\u001b[49m\u001b[43minputs\u001b[49m\u001b[43m)\u001b[49m\u001b[38;5;241m.\u001b[39msqueeze(\u001b[38;5;241m-\u001b[39m\u001b[38;5;241m1\u001b[39m)\n\u001b[1;32m     28\u001b[0m loss \u001b[38;5;241m=\u001b[39m loss_fn(output, label)\n\u001b[1;32m     29\u001b[0m loss\u001b[38;5;241m.\u001b[39mbackward()\n",
      "File \u001b[0;32m~/miniconda3/envs/CEMRACS_SciML/lib/python3.10/site-packages/torch/nn/modules/module.py:1501\u001b[0m, in \u001b[0;36mModule._call_impl\u001b[0;34m(self, *args, **kwargs)\u001b[0m\n\u001b[1;32m   1496\u001b[0m \u001b[38;5;66;03m# If we don't have any hooks, we want to skip the rest of the logic in\u001b[39;00m\n\u001b[1;32m   1497\u001b[0m \u001b[38;5;66;03m# this function, and just call forward.\u001b[39;00m\n\u001b[1;32m   1498\u001b[0m \u001b[38;5;28;01mif\u001b[39;00m \u001b[38;5;129;01mnot\u001b[39;00m (\u001b[38;5;28mself\u001b[39m\u001b[38;5;241m.\u001b[39m_backward_hooks \u001b[38;5;129;01mor\u001b[39;00m \u001b[38;5;28mself\u001b[39m\u001b[38;5;241m.\u001b[39m_backward_pre_hooks \u001b[38;5;129;01mor\u001b[39;00m \u001b[38;5;28mself\u001b[39m\u001b[38;5;241m.\u001b[39m_forward_hooks \u001b[38;5;129;01mor\u001b[39;00m \u001b[38;5;28mself\u001b[39m\u001b[38;5;241m.\u001b[39m_forward_pre_hooks\n\u001b[1;32m   1499\u001b[0m         \u001b[38;5;129;01mor\u001b[39;00m _global_backward_pre_hooks \u001b[38;5;129;01mor\u001b[39;00m _global_backward_hooks\n\u001b[1;32m   1500\u001b[0m         \u001b[38;5;129;01mor\u001b[39;00m _global_forward_hooks \u001b[38;5;129;01mor\u001b[39;00m _global_forward_pre_hooks):\n\u001b[0;32m-> 1501\u001b[0m     \u001b[38;5;28;01mreturn\u001b[39;00m \u001b[43mforward_call\u001b[49m\u001b[43m(\u001b[49m\u001b[38;5;241;43m*\u001b[39;49m\u001b[43margs\u001b[49m\u001b[43m,\u001b[49m\u001b[43m \u001b[49m\u001b[38;5;241;43m*\u001b[39;49m\u001b[38;5;241;43m*\u001b[39;49m\u001b[43mkwargs\u001b[49m\u001b[43m)\u001b[49m\n\u001b[1;32m   1502\u001b[0m \u001b[38;5;66;03m# Do not call functions when jit is used\u001b[39;00m\n\u001b[1;32m   1503\u001b[0m full_backward_hooks, non_full_backward_hooks \u001b[38;5;241m=\u001b[39m [], []\n",
      "File \u001b[0;32m~/PycharmProjects/CEMRACS_SciML/notebooks/PoissonEquation/optuna/step_1/../../../../methods/FNO.py:137\u001b[0m, in \u001b[0;36mFNO1d.forward\u001b[0;34m(self, x)\u001b[0m\n\u001b[1;32m    133\u001b[0m     x \u001b[38;5;241m=\u001b[39m \u001b[38;5;28mself\u001b[39m\u001b[38;5;241m.\u001b[39mactivation(layer(x))\n\u001b[1;32m    135\u001b[0m x \u001b[38;5;241m=\u001b[39m x[\u001b[38;5;241m.\u001b[39m\u001b[38;5;241m.\u001b[39m\u001b[38;5;241m.\u001b[39m, : \u001b[38;5;241m-\u001b[39m\u001b[38;5;28mself\u001b[39m\u001b[38;5;241m.\u001b[39mpadding]\n\u001b[0;32m--> 137\u001b[0m x \u001b[38;5;241m=\u001b[39m \u001b[43mx\u001b[49m\u001b[38;5;241;43m.\u001b[39;49m\u001b[43mpermute\u001b[49m\u001b[43m(\u001b[49m\u001b[38;5;241;43m0\u001b[39;49m\u001b[43m,\u001b[49m\u001b[43m \u001b[49m\u001b[38;5;241;43m2\u001b[39;49m\u001b[43m,\u001b[49m\u001b[43m \u001b[49m\u001b[38;5;241;43m1\u001b[39;49m\u001b[43m)\u001b[49m\n\u001b[1;32m    138\u001b[0m x \u001b[38;5;241m=\u001b[39m \u001b[38;5;28mself\u001b[39m\u001b[38;5;241m.\u001b[39mProjection(x)\n\u001b[1;32m    140\u001b[0m \u001b[38;5;28;01mreturn\u001b[39;00m x\n",
      "\u001b[0;31mKeyboardInterrupt\u001b[0m: "
     ]
    }
   ],
   "source": [
    "study.optimize(objective, n_trials=20, timeout=6000)"
   ]
  },
  {
   "cell_type": "code",
   "execution_count": 12,
   "id": "57a2edad-074d-47e1-83be-a963dfd84a70",
   "metadata": {},
   "outputs": [
    {
     "name": "stdout",
     "output_type": "stream",
     "text": [
      "Study statistics: \n",
      "  Number of finished trials:  3\n",
      "  Number of pruned trials:  0\n",
      "  Number of complete trials:  2\n",
      "Best trial:\n",
      "  Value:  6.443213074192045e-08\n",
      "  Params: \n",
      "    n_fourier_layers: 4\n",
      "    lifting_layer: 38\n",
      "    Fourier_units_l0: 37\n",
      "    Fourier_modes_l0: 14\n",
      "    Fourier_units_l1: 49\n",
      "    Fourier_modes_l1: 15\n",
      "    Fourier_units_l2: 60\n",
      "    Fourier_modes_l2: 15\n",
      "    Fourier_units_l3: 52\n",
      "    Fourier_modes_l3: 15\n",
      "    optimizer: RMSprop\n",
      "    lr: 0.0001495740267170668\n",
      "    batch_size: 173\n"
     ]
    }
   ],
   "source": [
    "pruned_trials = study.get_trials(deepcopy=False, states=[TrialState.PRUNED])\n",
    "complete_trials = study.get_trials(deepcopy=False, states=[TrialState.COMPLETE])\n",
    "\n",
    "print(\"Study statistics: \")\n",
    "print(\"  Number of finished trials: \", len(study.trials))\n",
    "print(\"  Number of pruned trials: \", len(pruned_trials))\n",
    "print(\"  Number of complete trials: \", len(complete_trials))\n",
    "\n",
    "print(\"Best trial:\")\n",
    "trial = study.best_trial\n",
    "\n",
    "print(\"  Value: \", trial.value)\n",
    "\n",
    "print(\"  Params: \")\n",
    "for key, value in trial.params.items():\n",
    "    print(\"    {}: {}\".format(key, value))"
   ]
  },
  {
   "cell_type": "code",
   "execution_count": null,
   "id": "14791500-59c8-4a11-b468-47ca5369e6d6",
   "metadata": {},
   "outputs": [],
   "source": [
    "modes = []\n",
    "layer_dims = []\n",
    "\n",
    "for key, value in trial.params.items():\n",
    "    if key.split('_')[0] == 'Fourier':\n",
    "        if key.split('_')[1] == 'modes':\n",
    "            modes.append(value)\n",
    "        if key.split('_')[1] == 'units':\n",
    "            layer_dims.append(value)\n",
    "    elif key.split('_')[0] == 'lifting':\n",
    "        lifting = value\n",
    "    elif key == 'optimizer':\n",
    "        optimizer = value\n",
    "    elif key == 'lr':\n",
    "        lr = value\n",
    "    elif key == 'batch_size':\n",
    "        batch_size = value"
   ]
  },
  {
   "cell_type": "markdown",
   "id": "6101b79c-43b3-44a6-b42a-8a0827585b54",
   "metadata": {},
   "source": [
    "Use this to fill config_step_1.py"
   ]
  },
  {
   "cell_type": "code",
   "execution_count": null,
   "id": "93c794c9-5dbb-4ef3-9f68-ca238d67fea3",
   "metadata": {},
   "outputs": [],
   "source": [
    "print(layer_dims, '\\n', modes, '\\n', lifting, '\\n', optimizer, '\\n', lr, '\\n', batch_size)"
   ]
  },
  {
   "cell_type": "code",
   "execution_count": null,
   "id": "2c0cebce-6df1-44cc-aa1e-51e3834853ed",
   "metadata": {},
   "outputs": [],
   "source": []
  }
 ],
 "metadata": {
  "kernelspec": {
   "display_name": "CEMRACS_SciML",
   "language": "python",
   "name": "cemracs_sciml"
  },
  "language_info": {
   "codemirror_mode": {
    "name": "ipython",
    "version": 3
   },
   "file_extension": ".py",
   "mimetype": "text/x-python",
   "name": "python",
   "nbconvert_exporter": "python",
   "pygments_lexer": "ipython3",
   "version": "3.10.12"
  }
 },
 "nbformat": 4,
 "nbformat_minor": 5
}
