{
 "cells": [
  {
   "cell_type": "code",
   "execution_count": 4,
   "id": "59840aa6-4237-4ec7-b9d0-2f7e0717c6ec",
   "metadata": {
    "tags": []
   },
   "outputs": [],
   "source": [
    "import os\n",
    "import sys\n",
    "sys.path.insert(1, '../../../..')"
   ]
  },
  {
   "cell_type": "code",
   "execution_count": 5,
   "id": "a875318b-657c-4a8b-90dc-adfcc468952f",
   "metadata": {
    "tags": []
   },
   "outputs": [],
   "source": [
    "import optuna\n",
    "from optuna.trial import TrialState\n",
    "from optuna.samplers import TPESampler\n",
    "\n",
    "import torch\n",
    "import torch.optim as optim\n",
    "import torch.nn as nn\n",
    "\n",
    "import numpy as np\n",
    "import sklearn\n",
    "import copy\n",
    "\n",
    "from methods.DeepONet import DeepONet\n",
    "from methods.methodsDataset.DeepONetDataset import DeepONetDataset\n",
    "from methods.DataDrivenMethods import DDMethod\n",
    "from solvers.Solver import Solver"
   ]
  },
  {
   "cell_type": "code",
   "execution_count": 6,
   "id": "5e6b5c8b-5400-4cbb-a066-039bc2ec398b",
   "metadata": {
    "tags": []
   },
   "outputs": [],
   "source": [
    "params_solver = {'equation': 'Poisson', 'domain': [0., 1.], 'D': 1e-3, 'nx': 101}\n",
    "device = torch.device('cuda' if torch.cuda.is_available() else 'cpu')\n",
    "params_DONUT ={\n",
    "             'branch': {'layer_dims': None, 'activations': None, 'device': 'cpu', 'seed': 123}, \n",
    "             'trunk':{'layer_dims': None, 'activations': None, 'device': 'cpu', 'seed': 123}\n",
    "             }"
   ]
  },
  {
   "cell_type": "code",
   "execution_count": 7,
   "id": "cf62f358-3cc7-4e7b-bfe5-eda593c0e671",
   "metadata": {
    "tags": []
   },
   "outputs": [],
   "source": [
    "def delta(y, x, dy = 1., dx = 0.) :\n",
    "    \"\"\"    \n",
    "    y : int, float or ndarray of size 1\n",
    "    x : ndarray\n",
    "    \n",
    "    return dy if x = y and dx otherwise\n",
    "    \"\"\"\n",
    "    if torch.is_tensor(y) or torch.is_tensor(y):\n",
    "        return torch.where(x == y, dy, dx)\n",
    "    return np.where(x == y, dy, dx)"
   ]
  },
  {
   "cell_type": "code",
   "execution_count": 8,
   "id": "4cb5ef04-3da7-4848-ad1c-519e5f59306b",
   "metadata": {
    "tags": []
   },
   "outputs": [],
   "source": [
    "params_solver['source_term'] = lambda y, x : delta(y, x)\n",
    "params_solver['y'] = None"
   ]
  },
  {
   "cell_type": "code",
   "execution_count": 10,
   "id": "e5fb294a-4dbe-4496-9991-a875735f3232",
   "metadata": {
    "tags": []
   },
   "outputs": [],
   "source": [
    "solver = Solver(params={'solver': params_solver})"
   ]
  },
  {
   "cell_type": "code",
   "execution_count": 11,
   "id": "4c373fa8-8b8c-43cd-9bc5-50d0f621701e",
   "metadata": {
    "tags": []
   },
   "outputs": [],
   "source": [
    "Y_list = solver.x[20:81].reshape(-1, 1)"
   ]
  },
  {
   "cell_type": "code",
   "execution_count": 12,
   "id": "7b678f6f-03bc-48ae-a356-a481b8f753e5",
   "metadata": {
    "tags": []
   },
   "outputs": [],
   "source": [
    "U_sols = []\n",
    "for y in Y_list:\n",
    "    solver.change_y(new_y= y)\n",
    "    U_sols.append(solver.solve())\n",
    "U_sols = np.stack(U_sols)"
   ]
  },
  {
   "cell_type": "code",
   "execution_count": 13,
   "id": "2d9cfd15-b666-4902-98eb-09ee34e8e46c",
   "metadata": {
    "tags": []
   },
   "outputs": [],
   "source": [
    "Y_train, Y_val, U_train, U_val = sklearn.model_selection.train_test_split(Y_list, U_sols, test_size=0.2, random_state=123)"
   ]
  },
  {
   "cell_type": "code",
   "execution_count": 14,
   "id": "b64381d0-74aa-404f-ad34-d6b261563d2b",
   "metadata": {
    "tags": []
   },
   "outputs": [],
   "source": [
    "delta_Y_train = delta(Y_train, solver.x)\n",
    "delta_Y_val = delta(Y_val, solver.x)"
   ]
  },
  {
   "cell_type": "code",
   "execution_count": 16,
   "id": "5fe1c06b-dee8-4172-abd0-f3252f69ca34",
   "metadata": {
    "tags": []
   },
   "outputs": [],
   "source": [
    "def get_dataset():\n",
    "    return delta_Y_train, delta_Y_val, U_train, U_val"
   ]
  },
  {
   "cell_type": "code",
   "execution_count": 17,
   "id": "ee124e3c-f2ae-479f-84fc-75096fcb19d5",
   "metadata": {
    "tags": []
   },
   "outputs": [],
   "source": [
    "def loss_fn(x, y = 0):\n",
    "    return torch.square(y - x).mean()"
   ]
  },
  {
   "cell_type": "code",
   "execution_count": 36,
   "id": "a665e711-a0b5-4aef-abd5-41a871b09bdd",
   "metadata": {
    "tags": []
   },
   "outputs": [],
   "source": [
    "def define_model(trial, input_size):\n",
    "    nb_basis = trial.suggest_int(\"nb_basis\", 8, 128)\n",
    "    n_layers_branch = trial.suggest_int(\"n_layers_branch\", 1, 5)\n",
    "    branch_layers = [input_size]\n",
    "    \n",
    "    for i in range(n_layers_branch):\n",
    "        out_features = trial.suggest_int(\"branch_units_l{}\".format(i), 40, 120)\n",
    "        branch_layers += [out_features]\n",
    "    branch_layers += [nb_basis]\n",
    "\n",
    "    n_layers_trunk = trial.suggest_int(\"n_layers_trunk\", 1, 5)\n",
    "    trunk_layers = [1]\n",
    "    \n",
    "    for i in range(n_layers_trunk):\n",
    "        out_features = trial.suggest_int(\"trunk_units_l{}\".format(i), 8, 40)\n",
    "        trunk_layers += [out_features]\n",
    "    trunk_layers += [nb_basis]\n",
    "    \n",
    "    params_DONUT_trial = copy.deepcopy(params_DONUT)\n",
    "    params_DONUT_trial['branch']['layer_dims'] = branch_layers\n",
    "    params_DONUT_trial['branch']['activations'] = 'tanh'\n",
    "    params_DONUT_trial['trunk']['layer_dims'] = trunk_layers\n",
    "    params_DONUT_trial['trunk']['activations'] = 'tanh'\n",
    " \n",
    "    return DeepONet(params={'solver':params_solver, 'method':params_DONUT_trial})"
   ]
  },
  {
   "cell_type": "code",
   "execution_count": 37,
   "id": "011b3b46-1c09-4cf7-95cd-2117ec7f220b",
   "metadata": {
    "tags": []
   },
   "outputs": [],
   "source": [
    "def objective(trial):\n",
    "    # Generate the model.\n",
    "    model = define_model(trial, 101)\n",
    "\n",
    "    # Generate the optimizers.\n",
    "    lr = trial.suggest_float(\"lr\", 1e-5, 1e-2, log=True)\n",
    " \n",
    "    delta_Y_train, delta_Y_val, U_train, U_val = get_dataset()\n",
    "    \n",
    "    torch.manual_seed(params_DONUT['branch']['seed'])\n",
    "    n_epochs = 10000\n",
    "    hyperparameters = {'lr': lr, 'epochs': n_epochs, 'optimizer': 'Adam'}\n",
    "    \n",
    "    model.fit(hyperparameters=hyperparameters, \n",
    "              U_train=U_train, U_val=U_val, D_train=delta_Y_train, D_val=delta_Y_val)\n",
    "        \n",
    "    val_loss = model.loss_dict['val']\n",
    "    trial.report(min(val_loss), n_epochs)\n",
    "    return min(val_loss)"
   ]
  },
  {
   "cell_type": "code",
   "execution_count": 38,
   "id": "a6f1286b-335c-47d8-b6c9-ce1aa48e50c5",
   "metadata": {
    "tags": []
   },
   "outputs": [
    {
     "name": "stderr",
     "output_type": "stream",
     "text": [
      "[I 2023-08-10 18:18:31,090] A new study created in memory with name: no-name-a3f78049-b434-448e-b8b2-3fb4044b118f\n"
     ]
    }
   ],
   "source": [
    "sampler = TPESampler(seed=params_DONUT['branch']['seed'])\n",
    "study = optuna.create_study(direction=\"minimize\", sampler=sampler)"
   ]
  },
  {
   "cell_type": "code",
   "execution_count": null,
   "id": "10bd5698-0efd-4559-a251-3d992fbecbbc",
   "metadata": {
    "tags": []
   },
   "outputs": [
    {
     "name": "stderr",
     "output_type": "stream",
     "text": [
      "[tr : 1.6e-03, val : 7.6e-01]: 100%|\u001b[34m█████\u001b[0m| 10000/10000 [00:16<00:00, 590.46it/s]\u001b[0m\n",
      "[I 2023-08-10 18:18:48,536] Trial 0 finished with value: 0.6443248987197876 and parameters: {'nb_basis': 92, 'n_layers_branch': 2, 'branch_units_l0': 58, 'branch_units_l1': 84, 'n_layers_trunk': 4, 'trunk_units_l0': 21, 'trunk_units_l1': 40, 'trunk_units_l2': 30, 'trunk_units_l3': 23, 'lr': 0.00015009027543233888}. Best is trial 0 with value: 0.6443248987197876.\n",
      "[tr : 4.5e-02, val : 2.3e-01]: 100%|\u001b[34m█████\u001b[0m| 10000/10000 [00:15<00:00, 629.26it/s]\u001b[0m\n",
      "[I 2023-08-10 18:19:04,432] Trial 1 finished with value: 0.22322702407836914 and parameters: {'nb_basis': 49, 'n_layers_branch': 4, 'branch_units_l0': 75, 'branch_units_l1': 44, 'branch_units_l2': 72, 'branch_units_l3': 99, 'n_layers_trunk': 1, 'trunk_units_l0': 13, 'lr': 0.00039323677119884875}. Best is trial 1 with value: 0.22322702407836914.\n",
      "[tr : 5.3e-02, val : 5.6e-01]:  19%|\u001b[34m█     \u001b[0m| 1861/10000 [00:03<00:13, 601.72it/s]\u001b[0m"
     ]
    }
   ],
   "source": [
    "study.optimize(objective, n_trials=3)"
   ]
  },
  {
   "cell_type": "code",
   "execution_count": 30,
   "id": "eaa9f34e-b1ed-40ed-aeb9-8cb2083bbd1e",
   "metadata": {
    "tags": []
   },
   "outputs": [
    {
     "name": "stdout",
     "output_type": "stream",
     "text": [
      "Study statistics: \n",
      "  Number of finished trials:  3\n",
      "  Number of pruned trials:  0\n",
      "  Number of complete trials:  3\n",
      "Best trial:\n",
      "  Value:  9.28167901292909e-06\n",
      "  Params: \n",
      "    nb_basis: 19\n",
      "    n_layers_branch: 4\n",
      "    branch_units_l0: 22\n",
      "    branch_units_l1: 9\n",
      "    branch_units_l2: 21\n",
      "    branch_units_l3: 32\n",
      "    n_layers_trunk: 1\n",
      "    trunk_units_l0: 13\n",
      "    lr: 0.00039323677119884875\n"
     ]
    }
   ],
   "source": [
    "pruned_trials = study.get_trials(deepcopy=False, states=[TrialState.PRUNED])\n",
    "complete_trials = study.get_trials(deepcopy=False, states=[TrialState.COMPLETE])\n",
    "\n",
    "print(\"Study statistics: \")\n",
    "print(\"  Number of finished trials: \", len(study.trials))\n",
    "print(\"  Number of pruned trials: \", len(pruned_trials))\n",
    "print(\"  Number of complete trials: \", len(complete_trials))\n",
    "\n",
    "print(\"Best trial:\")\n",
    "trial = study.best_trial\n",
    "\n",
    "print(\"  Value: \", trial.value)\n",
    "\n",
    "print(\"  Params: \")\n",
    "for key, value in trial.params.items():\n",
    "    print(\"    {}: {}\".format(key, value))"
   ]
  },
  {
   "cell_type": "code",
   "execution_count": 37,
   "id": "58fb6d65-5ed9-4e01-90e6-f2ecaccca437",
   "metadata": {
    "tags": []
   },
   "outputs": [],
   "source": [
    "branch_activations = []\n",
    "branch_layer_dims = []\n",
    "\n",
    "trunk_activations = []\n",
    "trunk_layer_dims = []\n",
    "\n",
    "for key, value in trial.params.items():\n",
    "    if key.split('_')[0] == 'branch':\n",
    "        if key.split('_')[1] == 'activation':\n",
    "            branch_activations.append(value)\n",
    "        elif key.split('_')[1] == 'units':\n",
    "            branch_layer_dims.append(value)\n",
    "        \n",
    "    elif key.split('_')[0] == 'trunk':\n",
    "        if key.split('_')[1] == 'activation':\n",
    "            trunk_activations.append(value)\n",
    "        elif key.split('_')[1] == 'units':\n",
    "            trunk_layer_dims.append(value)\n",
    "    elif key == 'optimizer':\n",
    "        optimizer = value\n",
    "    elif key == 'lr':\n",
    "        lr = value\n",
    "    elif key == 'batch_size':\n",
    "        batch_size = value\n",
    "    elif key == 'nb_basis':\n",
    "        basis_number = value"
   ]
  },
  {
   "cell_type": "code",
   "execution_count": 38,
   "id": "7e3ff173-7afa-4366-a795-2c3ad64b66fb",
   "metadata": {
    "tags": []
   },
   "outputs": [
    {
     "name": "stdout",
     "output_type": "stream",
     "text": [
      "branch:\n",
      " [] \n",
      " [22, 9, 21, 32] \n",
      "trunk:\n",
      " [] \n",
      " [13] \n",
      "hyperparameters\n",
      " \n",
      " 0.00039323677119884875 \n",
      " \n",
      " 19\n"
     ]
    }
   ],
   "source": [
    "print('branch:\\n', branch_activations, '\\n', branch_layer_dims, \n",
    "      '\\ntrunk:\\n', trunk_activations, '\\n', trunk_layer_dims,\n",
    "      '\\nhyperparameters\\n',\n",
    "      '\\n', lr, '\\n',  '\\n', basis_number)"
   ]
  },
  {
   "cell_type": "code",
   "execution_count": null,
   "id": "f99c05b9-94b7-4b4f-902d-60dcbbb763a4",
   "metadata": {},
   "outputs": [],
   "source": []
  }
 ],
 "metadata": {
  "kernelspec": {
   "display_name": "cemracs",
   "language": "python",
   "name": "cemracs"
  },
  "language_info": {
   "codemirror_mode": {
    "name": "ipython",
    "version": 3
   },
   "file_extension": ".py",
   "mimetype": "text/x-python",
   "name": "python",
   "nbconvert_exporter": "python",
   "pygments_lexer": "ipython3",
   "version": "3.11.4"
  }
 },
 "nbformat": 4,
 "nbformat_minor": 5
}
