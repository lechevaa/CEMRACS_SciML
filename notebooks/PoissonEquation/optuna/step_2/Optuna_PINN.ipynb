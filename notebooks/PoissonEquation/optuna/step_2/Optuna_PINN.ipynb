{
 "cells": [
  {
   "cell_type": "code",
   "execution_count": 1,
   "id": "def45360-f674-4c36-8c2c-1c1fb9f7965f",
   "metadata": {
    "tags": []
   },
   "outputs": [],
   "source": [
    "import sys\n",
    "sys.path.insert(1, '../../../..')"
   ]
  },
  {
   "cell_type": "code",
   "execution_count": 2,
   "id": "25383d53-9203-44a4-8b87-bf002ea1288b",
   "metadata": {
    "tags": []
   },
   "outputs": [],
   "source": [
    "import optuna\n",
    "from optuna.trial import TrialState\n",
    "from optuna.samplers import TPESampler\n",
    "\n",
    "import torch\n",
    "import torch.optim as optim\n",
    "import torch.nn as nn\n",
    "\n",
    "import numpy as np\n",
    "import sklearn\n",
    "import copy\n",
    "\n",
    "from methods.PINN import PINN\n",
    "from methods.methodsDataset.PINNDataset import PINNDataset\n",
    "from methods.DataDrivenMethods import DDMethod\n",
    "from solvers.Solver import Solver"
   ]
  },
  {
   "cell_type": "code",
   "execution_count": 4,
   "id": "5d2af12a-bbb6-4639-aca5-398a6c3b3009",
   "metadata": {
    "tags": []
   },
   "outputs": [],
   "source": [
    "params_solver = {'equation': 'Poisson', 'domain': [0., 1.], 'D': 1e-3, 'nx': 101}\n",
    "device = torch.device('cuda' if torch.cuda.is_available() else 'cpu')\n",
    "params_PINN = {'layer_dims': None, 'activations': None, 'device': device, 'seed': 123}"
   ]
  },
  {
   "cell_type": "code",
   "execution_count": 5,
   "id": "692d11f6-7977-4d54-b768-8c4dac15b733",
   "metadata": {
    "tags": []
   },
   "outputs": [],
   "source": [
    "def delta(y, x, dy = 1., dx = 0.) :\n",
    "    \"\"\"    \n",
    "    y : int, float or ndarray of size 1\n",
    "    x : ndarray\n",
    "    \n",
    "    return dy if x = y and dx otherwise\n",
    "    \"\"\"\n",
    "    if torch.is_tensor(y) or torch.is_tensor(y):\n",
    "        return torch.where(x == y, dy, dx)\n",
    "    return np.where(x == y, dy, dx)"
   ]
  },
  {
   "cell_type": "code",
   "execution_count": 15,
   "id": "ec64baec-0b7e-4fa9-9025-1ac33fac2836",
   "metadata": {
    "tags": []
   },
   "outputs": [],
   "source": [
    "params_solver['source_term'] = lambda y, x : delta(y, x)\n",
    "params_solver['y'] = None"
   ]
  },
  {
   "cell_type": "code",
   "execution_count": 16,
   "id": "34ade2a0-8ac7-435f-9332-fc0cb6c8e2e9",
   "metadata": {
    "tags": []
   },
   "outputs": [],
   "source": [
    "solver = Solver(params={'solver': params_solver})"
   ]
  },
  {
   "cell_type": "code",
   "execution_count": 17,
   "id": "8c725a6f-2264-412d-a28e-36b745bfa23c",
   "metadata": {
    "tags": []
   },
   "outputs": [],
   "source": [
    "Y_list = solver.x[20:81].reshape(-1, 1)"
   ]
  },
  {
   "cell_type": "code",
   "execution_count": 18,
   "id": "4e07f48d-b9a1-4a2b-a950-c80b7296c522",
   "metadata": {
    "tags": []
   },
   "outputs": [],
   "source": [
    "U_sols = []\n",
    "for y in Y_list:\n",
    "    solver.change_y(new_y= y)\n",
    "    U_sols.append(solver.solve())\n",
    "U_sols = np.stack(U_sols)"
   ]
  },
  {
   "cell_type": "code",
   "execution_count": 19,
   "id": "b5ba98f8-5393-4f7f-8f33-e5cae95be0dd",
   "metadata": {
    "tags": []
   },
   "outputs": [],
   "source": [
    "Y_train, Y_val, U_train, U_val = sklearn.model_selection.train_test_split(Y_list, U_sols, test_size=0.2, random_state=123)"
   ]
  },
  {
   "cell_type": "code",
   "execution_count": 21,
   "id": "78ba9fc7-e24e-4b28-ae6d-76fec3d9699a",
   "metadata": {
    "tags": []
   },
   "outputs": [],
   "source": [
    "nx = params_solver['nx']\n",
    "\n",
    "x = torch.Tensor(solver.x).view(-1, 1)\n",
    "X_train = x.repeat(Y_train.shape[0], 1)\n",
    "X_val = x.repeat(Y_val.shape[0], 1)\n",
    "\n",
    "\n",
    "Y_train_repeated = torch.Tensor(Y_train.repeat(nx, 1).reshape(-1, 1))\n",
    "Y_val_repeated = torch.Tensor(Y_val.repeat(nx, 1).reshape(-1, 1))\n",
    "\n",
    "\n",
    "YX_train = torch.cat((Y_train_repeated, X_train), dim=1)\n",
    "YX_val = torch.cat((Y_val_repeated, X_val), dim=1)\n",
    "YU_train = torch.Tensor(U_train).view(-1, 1)\n",
    "YU_val = torch.Tensor(U_val).view(-1, 1)"
   ]
  },
  {
   "cell_type": "code",
   "execution_count": 23,
   "id": "474d49a0-6bea-4502-b5f3-59bea8c2335e",
   "metadata": {
    "tags": []
   },
   "outputs": [],
   "source": [
    "def get_dataset():\n",
    "    return YX_train, YX_val, YU_train, YU_val"
   ]
  },
  {
   "cell_type": "code",
   "execution_count": 24,
   "id": "b6b993f9-cd86-4d12-922f-4eec7fc94725",
   "metadata": {
    "tags": []
   },
   "outputs": [],
   "source": [
    "def loss_fn(x, y = 0):\n",
    "    return torch.square(y - x).mean()"
   ]
  },
  {
   "cell_type": "code",
   "execution_count": 25,
   "id": "a78ed795-0daf-4689-890d-8f5cc74da211",
   "metadata": {
    "tags": []
   },
   "outputs": [],
   "source": [
    "def define_model(trial, input_size, output_size):\n",
    "    n_layers = trial.suggest_int(\"n_layers\", 1, 5)\n",
    "    layers = [input_size]\n",
    "    activations = []\n",
    "    for i in range(n_layers):\n",
    "        out_features = trial.suggest_int(\"units_l{}\".format(i), 8, 40)\n",
    "        layers += [out_features]\n",
    "        \n",
    "    layers += [output_size]\n",
    "    params_PINN_trial = copy.deepcopy(params_PINN)\n",
    "    params_PINN_trial['layer_dims'] = layers\n",
    "    params_PINN_trial['activations'] = 'tanh'\n",
    "    return PINN(params={'solver':params_solver, 'method':params_PINN_trial})"
   ]
  },
  {
   "cell_type": "code",
   "execution_count": 11,
   "id": "26daf0bc-d997-407d-842e-98700cfaff64",
   "metadata": {
    "tags": []
   },
   "outputs": [],
   "source": [
    "def objective(trial):\n",
    "    # Generate the model.\n",
    "    \n",
    "    model = define_model(trial, 2, 1)\n",
    "    # Generate the optimizers.\n",
    "    lr = trial.suggest_float(\"lr\", 1e-5, 1e-2, log=True)\n",
    "    \n",
    "    YX_train, YX_val, YU_train, YU_val = get_dataset()\n",
    "    \n",
    "    torch.manual_seed(params_PINN['seed'])\n",
    "    \n",
    "    n_epochs = 10000\n",
    "    hyperparameters = {'lr': lr, 'epochs': n_epochs, 'optimizer': 'Adam'}\n",
    "    # Training of the model.\n",
    "    model.fit(hyperparameters = hyperparameters, \n",
    "              DX_train = YX_train, DX_val = YX_val, U_val = YU_v, U_train = U_train)\n",
    "    \n",
    "    val_loss = model.loss_dict['val']\n",
    "    trial.report(min(val_loss), n_epochs)\n",
    "\n",
    "    return min(val_loss)"
   ]
  },
  {
   "cell_type": "code",
   "execution_count": 12,
   "id": "8cd87a54-d252-4a6e-be68-716555ed1845",
   "metadata": {
    "tags": []
   },
   "outputs": [
    {
     "name": "stderr",
     "output_type": "stream",
     "text": [
      "[I 2023-08-09 16:23:59,270] A new study created in memory with name: no-name-0e53be1c-8192-45ec-be8e-6174841e18ae\n"
     ]
    }
   ],
   "source": [
    "sampler = TPESampler(seed=params_PINN['seed'])\n",
    "study = optuna.create_study(direction=\"minimize\", sampler=sampler)"
   ]
  },
  {
   "cell_type": "code",
   "execution_count": 13,
   "id": "7c7c221c-438c-44a0-b5c2-5772892fe31d",
   "metadata": {
    "tags": []
   },
   "outputs": [
    {
     "name": "stderr",
     "output_type": "stream",
     "text": [
      "[tr : 5.9e-05, val : 5.3e-06]: 100%|\u001b[34m██████\u001b[0m| 10000/10000 [02:46<00:00, 60.03it/s]\u001b[0m\n",
      "[I 2023-08-09 16:26:46,294] Trial 0 finished with value: 5.273067017697031e-06 and parameters: {'n_layers': 4, 'units_l0': 17, 'units_l1': 15, 'units_l2': 26, 'units_l3': 31, 'lr': 0.00018591711878786343}. Best is trial 0 with value: 5.273067017697031e-06.\n",
      "[tr : 4.1e-05, val : 6.9e-06]: 100%|\u001b[34m██████\u001b[0m| 10000/10000 [03:44<00:00, 44.48it/s]\u001b[0m\n",
      "[I 2023-08-09 16:30:31,131] Trial 1 finished with value: 6.561074769706465e-06 and parameters: {'n_layers': 5, 'units_l0': 30, 'units_l1': 23, 'units_l2': 20, 'units_l3': 19, 'units_l4': 32, 'lr': 0.00020687915518060283}. Best is trial 0 with value: 5.273067017697031e-06.\n",
      "[tr : 1.3e-03, val : 5.6e-05]: 100%|\u001b[34m█████\u001b[0m| 10000/10000 [00:49<00:00, 201.53it/s]\u001b[0m\n",
      "[I 2023-08-09 16:31:20,756] Trial 2 finished with value: 5.622710887109861e-05 and parameters: {'n_layers': 1, 'units_l0': 21, 'lr': 0.0016367645761140052}. Best is trial 0 with value: 5.273067017697031e-06.\n"
     ]
    }
   ],
   "source": [
    "study.optimize(objective, n_trials=3)"
   ]
  },
  {
   "cell_type": "code",
   "execution_count": 14,
   "id": "57a2edad-074d-47e1-83be-a963dfd84a70",
   "metadata": {
    "tags": []
   },
   "outputs": [
    {
     "name": "stdout",
     "output_type": "stream",
     "text": [
      "Study statistics: \n",
      "  Number of finished trials:  3\n",
      "  Number of pruned trials:  0\n",
      "  Number of complete trials:  3\n",
      "Best trial:\n",
      "  Value:  5.273067017697031e-06\n",
      "  Params: \n",
      "    n_layers: 4\n",
      "    units_l0: 17\n",
      "    units_l1: 15\n",
      "    units_l2: 26\n",
      "    units_l3: 31\n",
      "    lr: 0.00018591711878786343\n"
     ]
    }
   ],
   "source": [
    "pruned_trials = study.get_trials(deepcopy=False, states=[TrialState.PRUNED])\n",
    "complete_trials = study.get_trials(deepcopy=False, states=[TrialState.COMPLETE])\n",
    "\n",
    "print(\"Study statistics: \")\n",
    "print(\"  Number of finished trials: \", len(study.trials))\n",
    "print(\"  Number of pruned trials: \", len(pruned_trials))\n",
    "print(\"  Number of complete trials: \", len(complete_trials))\n",
    "\n",
    "print(\"Best trial:\")\n",
    "trial = study.best_trial\n",
    "\n",
    "print(\"  Value: \", trial.value)\n",
    "\n",
    "print(\"  Params: \")\n",
    "for key, value in trial.params.items():\n",
    "    print(\"    {}: {}\".format(key, value))"
   ]
  },
  {
   "cell_type": "code",
   "execution_count": 15,
   "id": "14791500-59c8-4a11-b468-47ca5369e6d6",
   "metadata": {
    "tags": []
   },
   "outputs": [],
   "source": [
    "activations = []\n",
    "layer_dims = []\n",
    "\n",
    "for key, value in trial.params.items():\n",
    "    if key.split('_')[0] == 'activation':\n",
    "        activations.append(value)\n",
    "    elif key.split('_')[0] == 'units':\n",
    "        layer_dims.append(value)\n",
    "    elif key == 'optimizer':\n",
    "        optimizer = value\n",
    "    elif key == 'lr':\n",
    "        lr = value"
   ]
  },
  {
   "cell_type": "markdown",
   "id": "6101b79c-43b3-44a6-b42a-8a0827585b54",
   "metadata": {},
   "source": [
    "Use this to fill config_step_1.py"
   ]
  },
  {
   "cell_type": "code",
   "execution_count": 16,
   "id": "93c794c9-5dbb-4ef3-9f68-ca238d67fea3",
   "metadata": {
    "tags": []
   },
   "outputs": [
    {
     "name": "stdout",
     "output_type": "stream",
     "text": [
      "[] \n",
      " [17, 15, 26, 31] \n",
      " \n",
      " 0.00018591711878786343\n"
     ]
    }
   ],
   "source": [
    "print(activations, '\\n', layer_dims, '\\n', '\\n', lr)"
   ]
  },
  {
   "cell_type": "code",
   "execution_count": null,
   "id": "2c0cebce-6df1-44cc-aa1e-51e3834853ed",
   "metadata": {},
   "outputs": [],
   "source": []
  }
 ],
 "metadata": {
  "kernelspec": {
   "display_name": "cemracs",
   "language": "python",
   "name": "cemracs"
  },
  "language_info": {
   "codemirror_mode": {
    "name": "ipython",
    "version": 3
   },
   "file_extension": ".py",
   "mimetype": "text/x-python",
   "name": "python",
   "nbconvert_exporter": "python",
   "pygments_lexer": "ipython3",
   "version": "3.11.4"
  }
 },
 "nbformat": 4,
 "nbformat_minor": 5
}
