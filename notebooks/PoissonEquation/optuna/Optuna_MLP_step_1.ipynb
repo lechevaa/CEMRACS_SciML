{
 "cells": [
  {
   "cell_type": "code",
   "execution_count": 1,
   "id": "def45360-f674-4c36-8c2c-1c1fb9f7965f",
   "metadata": {},
   "outputs": [],
   "source": [
    "import os\n",
    "import sys\n",
    "current_folder = os.path.dirname(os.path.abspath('__file__'))\n",
    "parent_folder = os.path.dirname(current_folder)\n",
    "grandparent_folder = os.path.dirname(parent_folder)\n",
    "grandgrandparent_folder = os.path.dirname(grandparent_folder)\n",
    "sys.path.append(grandgrandparent_folder)"
   ]
  },
  {
   "cell_type": "code",
   "execution_count": 2,
   "id": "25383d53-9203-44a4-8b87-bf002ea1288b",
   "metadata": {},
   "outputs": [],
   "source": [
    "import optuna\n",
    "from optuna.trial import TrialState\n",
    "import torch\n",
    "import torch.optim as optim\n",
    "import torch.nn as nn\n",
    "\n",
    "import numpy as np\n",
    "import sklearn\n",
    "import copy\n",
    "\n",
    "from methods.MLP import MLP\n",
    "from methods.DataDrivenMethods import DDMethod\n",
    "from solvers.Solver import Solver"
   ]
  },
  {
   "cell_type": "code",
   "execution_count": 37,
   "id": "5d2af12a-bbb6-4639-aca5-398a6c3b3009",
   "metadata": {},
   "outputs": [],
   "source": [
    "params_solver = {'equation': 'Poisson', 'domain': [0., 1.], 'D': 1., 'nx': 101}\n",
    "device = torch.device('cuda' if torch.cuda.is_available() else 'cpu')\n",
    "params_MLP = {'layer_dims': None, 'activations': None, 'device': device, 'seed': 123}"
   ]
  },
  {
   "cell_type": "code",
   "execution_count": 42,
   "id": "5b85eba0-e667-4ab7-baa5-11400c272a90",
   "metadata": {},
   "outputs": [],
   "source": [
    "Dmin, Dmax = 0.1, 10\n",
    "D_list = np.linspace(Dmin, Dmax, 1000)\n",
    "\n",
    "U_sols = []\n",
    "solver = Solver(params={'solver': params_solver})\n",
    "for d in D_list:\n",
    "    solver.change_D(new_D=d)\n",
    "    U_sols.append(solver.solve())\n",
    "\n",
    "U_sols = np.stack(U_sols)\n",
    "D = torch.Tensor(D_list).view(-1, 1).to(device)\n",
    "U = torch.Tensor(U_sols).to(device)"
   ]
  },
  {
   "cell_type": "code",
   "execution_count": 43,
   "id": "012807db-7d7a-4990-9f49-d9cfe77b9f87",
   "metadata": {},
   "outputs": [],
   "source": [
    "D_train, D_test, U_train, U_test = sklearn.model_selection.train_test_split(D, U,test_size=0.2)"
   ]
  },
  {
   "cell_type": "code",
   "execution_count": 44,
   "id": "474d49a0-6bea-4502-b5f3-59bea8c2335e",
   "metadata": {},
   "outputs": [],
   "source": [
    "def get_dataset():\n",
    "    return D_train, D_test, U_train, U_test"
   ]
  },
  {
   "cell_type": "code",
   "execution_count": 45,
   "id": "b6b993f9-cd86-4d12-922f-4eec7fc94725",
   "metadata": {},
   "outputs": [],
   "source": [
    "def loss_fn(x, y = 0):\n",
    "    return torch.square(y - x).mean()"
   ]
  },
  {
   "cell_type": "code",
   "execution_count": 46,
   "id": "a78ed795-0daf-4689-890d-8f5cc74da211",
   "metadata": {},
   "outputs": [],
   "source": [
    "def define_model(trial, input_size, output_size):\n",
    "    n_layers = trial.suggest_int(\"n_layers\", 1, 10)\n",
    "    layers = [input_size]\n",
    "    activations = []\n",
    "    for i in range(n_layers):\n",
    "        out_features = trial.suggest_int(\"units_l{}\".format(i), 52, 512)\n",
    "        activation = trial.suggest_categorical(\"activation_l{}\".format(i), [\"tanh\", \"softplus\", \"relu\"])\n",
    "        layers += [out_features]\n",
    "        activations.append(activation)\n",
    "    layers += [output_size]\n",
    "    params_MLP_trial = copy.deepcopy(params_MLP)\n",
    "    params_MLP_trial['layer_dims'] = layers\n",
    "    params_MLP_trial['activations'] = activations\n",
    "    return MLP(params={'solver':None, 'method':params_MLP_trial})"
   ]
  },
  {
   "cell_type": "code",
   "execution_count": 47,
   "id": "26daf0bc-d997-407d-842e-98700cfaff64",
   "metadata": {},
   "outputs": [],
   "source": [
    "def objective(trial):\n",
    "    # Generate the model.\n",
    "    model = define_model(trial, 1, 101)\n",
    "\n",
    "    # Generate the optimizers.\n",
    "    optimizer_name = trial.suggest_categorical(\"optimizer\", [\"Adam\", \"RMSprop\", \"SGD\"])\n",
    "    lr = trial.suggest_float(\"lr\", 1e-5, 1e-1, log=True)\n",
    "    optimizer = getattr(optim, optimizer_name)(model.parameters(), lr=lr)\n",
    "    \n",
    "    D_train, D_test, U_train, U_test = get_dataset()\n",
    "\n",
    "    # Training of the model.\n",
    "    for epoch in range(1000):\n",
    "        model.train()\n",
    "\n",
    "        optimizer.zero_grad()\n",
    "        output = model(D_train)\n",
    "        loss = loss_fn(output, U_train)\n",
    "        loss.backward()\n",
    "        optimizer.step()\n",
    "\n",
    "        loss_train = loss.item()\n",
    "        # Validation of the model.\n",
    "        model.eval()\n",
    "        correct = 0\n",
    "        with torch.no_grad():\n",
    "            output = model(D_test)\n",
    "            loss = loss_fn(output, U_test)\n",
    "            \n",
    "        loss_val = loss.item()\n",
    "\n",
    "        trial.report(loss_val, epoch)\n",
    "\n",
    "        # Handle pruning based on the intermediate value.\n",
    "        if trial.should_prune():\n",
    "            raise optuna.exceptions.TrialPruned()\n",
    "\n",
    "    return loss_val"
   ]
  },
  {
   "cell_type": "code",
   "execution_count": 48,
   "id": "8cd87a54-d252-4a6e-be68-716555ed1845",
   "metadata": {},
   "outputs": [
    {
     "name": "stderr",
     "output_type": "stream",
     "text": [
      "[I 2023-07-27 14:50:23,531] A new study created in memory with name: no-name-9d20fd4c-3fe7-4e9d-bae6-31ad608b386e\n"
     ]
    }
   ],
   "source": [
    "study = optuna.create_study(direction=\"minimize\")"
   ]
  },
  {
   "cell_type": "code",
   "execution_count": 49,
   "id": "7c7c221c-438c-44a0-b5c2-5772892fe31d",
   "metadata": {},
   "outputs": [
    {
     "name": "stderr",
     "output_type": "stream",
     "text": [
      "[I 2023-07-27 14:50:52,383] Trial 0 finished with value: 0.17199714481830597 and parameters: {'n_layers': 9, 'units_l0': 254, 'activation_l0': 'relu', 'units_l1': 329, 'activation_l1': 'softplus', 'units_l2': 308, 'activation_l2': 'relu', 'units_l3': 285, 'activation_l3': 'softplus', 'units_l4': 111, 'activation_l4': 'relu', 'units_l5': 496, 'activation_l5': 'softplus', 'units_l6': 96, 'activation_l6': 'tanh', 'units_l7': 127, 'activation_l7': 'softplus', 'units_l8': 231, 'activation_l8': 'tanh', 'optimizer': 'SGD', 'lr': 0.00012534509928632592}. Best is trial 0 with value: 0.17199714481830597.\n",
      "[I 2023-07-27 14:51:28,248] Trial 1 finished with value: 1.1394732609915081e-05 and parameters: {'n_layers': 9, 'units_l0': 325, 'activation_l0': 'relu', 'units_l1': 275, 'activation_l1': 'tanh', 'units_l2': 277, 'activation_l2': 'softplus', 'units_l3': 71, 'activation_l3': 'softplus', 'units_l4': 443, 'activation_l4': 'softplus', 'units_l5': 314, 'activation_l5': 'softplus', 'units_l6': 356, 'activation_l6': 'relu', 'units_l7': 333, 'activation_l7': 'tanh', 'units_l8': 493, 'activation_l8': 'relu', 'optimizer': 'Adam', 'lr': 0.00018132815027495648}. Best is trial 1 with value: 1.1394732609915081e-05.\n",
      "[I 2023-07-27 14:51:51,352] Trial 2 finished with value: 0.002302670618519187 and parameters: {'n_layers': 7, 'units_l0': 331, 'activation_l0': 'relu', 'units_l1': 309, 'activation_l1': 'relu', 'units_l2': 309, 'activation_l2': 'tanh', 'units_l3': 459, 'activation_l3': 'softplus', 'units_l4': 121, 'activation_l4': 'softplus', 'units_l5': 437, 'activation_l5': 'tanh', 'units_l6': 98, 'activation_l6': 'tanh', 'optimizer': 'RMSprop', 'lr': 1.5210313796225754e-05}. Best is trial 1 with value: 1.1394732609915081e-05.\n",
      "[I 2023-07-27 14:52:16,592] Trial 3 finished with value: 0.006084894761443138 and parameters: {'n_layers': 9, 'units_l0': 470, 'activation_l0': 'relu', 'units_l1': 262, 'activation_l1': 'softplus', 'units_l2': 484, 'activation_l2': 'relu', 'units_l3': 329, 'activation_l3': 'relu', 'units_l4': 203, 'activation_l4': 'relu', 'units_l5': 216, 'activation_l5': 'relu', 'units_l6': 63, 'activation_l6': 'tanh', 'units_l7': 93, 'activation_l7': 'softplus', 'units_l8': 164, 'activation_l8': 'softplus', 'optimizer': 'RMSprop', 'lr': 0.0022004828123161715}. Best is trial 1 with value: 1.1394732609915081e-05.\n",
      "[I 2023-07-27 14:52:37,611] Trial 4 finished with value: 0.030317626893520355 and parameters: {'n_layers': 10, 'units_l0': 260, 'activation_l0': 'tanh', 'units_l1': 257, 'activation_l1': 'relu', 'units_l2': 71, 'activation_l2': 'tanh', 'units_l3': 183, 'activation_l3': 'relu', 'units_l4': 149, 'activation_l4': 'softplus', 'units_l5': 261, 'activation_l5': 'softplus', 'units_l6': 391, 'activation_l6': 'softplus', 'units_l7': 199, 'activation_l7': 'tanh', 'units_l8': 301, 'activation_l8': 'relu', 'units_l9': 282, 'activation_l9': 'tanh', 'optimizer': 'SGD', 'lr': 0.00021865634046893}. Best is trial 1 with value: 1.1394732609915081e-05.\n",
      "[I 2023-07-27 14:52:37,645] Trial 5 pruned. \n",
      "[I 2023-07-27 14:52:37,788] Trial 6 pruned. \n",
      "[I 2023-07-27 14:52:53,031] Trial 7 finished with value: 6.641424079134595e-06 and parameters: {'n_layers': 4, 'units_l0': 488, 'activation_l0': 'tanh', 'units_l1': 493, 'activation_l1': 'tanh', 'units_l2': 133, 'activation_l2': 'softplus', 'units_l3': 259, 'activation_l3': 'tanh', 'optimizer': 'Adam', 'lr': 0.0020961288227178145}. Best is trial 7 with value: 6.641424079134595e-06.\n",
      "[I 2023-07-27 14:52:53,076] Trial 8 pruned. \n",
      "[I 2023-07-27 14:52:53,085] Trial 9 pruned. \n",
      "[I 2023-07-27 14:52:53,162] Trial 10 pruned. \n",
      "[I 2023-07-27 14:52:53,251] Trial 11 pruned. \n",
      "[I 2023-07-27 14:53:07,564] Trial 12 finished with value: 5.713141490559792e-06 and parameters: {'n_layers': 5, 'units_l0': 403, 'activation_l0': 'tanh', 'units_l1': 206, 'activation_l1': 'tanh', 'units_l2': 207, 'activation_l2': 'softplus', 'units_l3': 148, 'activation_l3': 'tanh', 'units_l4': 316, 'activation_l4': 'tanh', 'optimizer': 'Adam', 'lr': 0.001011376050339953}. Best is trial 12 with value: 5.713141490559792e-06.\n",
      "[I 2023-07-27 14:53:07,671] Trial 13 pruned. \n",
      "[I 2023-07-27 14:53:07,755] Trial 14 pruned. \n",
      "[I 2023-07-27 14:53:07,835] Trial 15 pruned. \n",
      "[I 2023-07-27 14:53:07,952] Trial 16 pruned. \n",
      "[I 2023-07-27 14:53:08,133] Trial 17 pruned. \n",
      "[I 2023-07-27 14:53:08,188] Trial 18 pruned. \n",
      "[I 2023-07-27 14:53:08,266] Trial 19 pruned. \n",
      "[I 2023-07-27 14:53:08,363] Trial 20 pruned. \n",
      "[I 2023-07-27 14:53:08,696] Trial 21 pruned. \n",
      "[I 2023-07-27 14:53:08,761] Trial 22 pruned. \n",
      "[I 2023-07-27 14:53:21,719] Trial 23 finished with value: 5.148236823515617e-07 and parameters: {'n_layers': 5, 'units_l0': 391, 'activation_l0': 'relu', 'units_l1': 141, 'activation_l1': 'tanh', 'units_l2': 247, 'activation_l2': 'softplus', 'units_l3': 114, 'activation_l3': 'relu', 'units_l4': 349, 'activation_l4': 'relu', 'optimizer': 'Adam', 'lr': 0.0005984992954500306}. Best is trial 23 with value: 5.148236823515617e-07.\n",
      "[I 2023-07-27 14:53:32,249] Trial 24 finished with value: 1.450962031412928e-06 and parameters: {'n_layers': 5, 'units_l0': 380, 'activation_l0': 'tanh', 'units_l1': 149, 'activation_l1': 'tanh', 'units_l2': 150, 'activation_l2': 'softplus', 'units_l3': 120, 'activation_l3': 'relu', 'units_l4': 347, 'activation_l4': 'relu', 'optimizer': 'Adam', 'lr': 0.0006440474666262572}. Best is trial 23 with value: 5.148236823515617e-07.\n",
      "[I 2023-07-27 14:53:43,144] Trial 25 finished with value: 1.3043609214946628e-06 and parameters: {'n_layers': 5, 'units_l0': 384, 'activation_l0': 'relu', 'units_l1': 138, 'activation_l1': 'tanh', 'units_l2': 207, 'activation_l2': 'softplus', 'units_l3': 115, 'activation_l3': 'relu', 'units_l4': 353, 'activation_l4': 'relu', 'optimizer': 'Adam', 'lr': 0.0006013041744477127}. Best is trial 23 with value: 5.148236823515617e-07.\n",
      "[I 2023-07-27 14:53:43,410] Trial 26 pruned. \n",
      "[I 2023-07-27 14:53:43,457] Trial 27 pruned. \n",
      "[I 2023-07-27 14:53:44,758] Trial 28 pruned. \n",
      "[I 2023-07-27 14:53:44,854] Trial 29 pruned. \n",
      "[I 2023-07-27 14:53:44,963] Trial 30 pruned. \n",
      "[I 2023-07-27 14:53:56,627] Trial 31 finished with value: 1.471711470912851e-06 and parameters: {'n_layers': 5, 'units_l0': 382, 'activation_l0': 'tanh', 'units_l1': 160, 'activation_l1': 'tanh', 'units_l2': 199, 'activation_l2': 'softplus', 'units_l3': 133, 'activation_l3': 'relu', 'units_l4': 338, 'activation_l4': 'relu', 'optimizer': 'Adam', 'lr': 0.0009768489687567497}. Best is trial 23 with value: 5.148236823515617e-07.\n",
      "[I 2023-07-27 14:54:09,135] Trial 32 finished with value: 1.621007322682999e-05 and parameters: {'n_layers': 5, 'units_l0': 351, 'activation_l0': 'relu', 'units_l1': 156, 'activation_l1': 'tanh', 'units_l2': 196, 'activation_l2': 'softplus', 'units_l3': 216, 'activation_l3': 'relu', 'units_l4': 354, 'activation_l4': 'relu', 'optimizer': 'Adam', 'lr': 0.0006950584533593568}. Best is trial 23 with value: 5.148236823515617e-07.\n",
      "[I 2023-07-27 14:54:09,254] Trial 33 pruned. \n",
      "[I 2023-07-27 14:54:09,484] Trial 34 pruned. \n",
      "[I 2023-07-27 14:54:09,575] Trial 35 pruned. \n",
      "[I 2023-07-27 14:54:09,989] Trial 36 pruned. \n",
      "[I 2023-07-27 14:54:10,250] Trial 37 pruned. \n",
      "[I 2023-07-27 14:54:10,297] Trial 38 pruned. \n",
      "[I 2023-07-27 14:54:10,405] Trial 39 pruned. \n"
     ]
    }
   ],
   "source": [
    "study.optimize(objective, n_trials=40, timeout=600)"
   ]
  },
  {
   "cell_type": "code",
   "execution_count": 50,
   "id": "57a2edad-074d-47e1-83be-a963dfd84a70",
   "metadata": {},
   "outputs": [
    {
     "name": "stdout",
     "output_type": "stream",
     "text": [
      "Study statistics: \n",
      "  Number of finished trials:  40\n",
      "  Number of pruned trials:  28\n",
      "  Number of complete trials:  12\n",
      "Best trial:\n",
      "  Value:  5.148236823515617e-07\n",
      "  Params: \n",
      "    n_layers: 5\n",
      "    units_l0: 391\n",
      "    activation_l0: relu\n",
      "    units_l1: 141\n",
      "    activation_l1: tanh\n",
      "    units_l2: 247\n",
      "    activation_l2: softplus\n",
      "    units_l3: 114\n",
      "    activation_l3: relu\n",
      "    units_l4: 349\n",
      "    activation_l4: relu\n",
      "    optimizer: Adam\n",
      "    lr: 0.0005984992954500306\n"
     ]
    }
   ],
   "source": [
    "pruned_trials = study.get_trials(deepcopy=False, states=[TrialState.PRUNED])\n",
    "complete_trials = study.get_trials(deepcopy=False, states=[TrialState.COMPLETE])\n",
    "\n",
    "print(\"Study statistics: \")\n",
    "print(\"  Number of finished trials: \", len(study.trials))\n",
    "print(\"  Number of pruned trials: \", len(pruned_trials))\n",
    "print(\"  Number of complete trials: \", len(complete_trials))\n",
    "\n",
    "print(\"Best trial:\")\n",
    "trial = study.best_trial\n",
    "\n",
    "print(\"  Value: \", trial.value)\n",
    "\n",
    "print(\"  Params: \")\n",
    "for key, value in trial.params.items():\n",
    "    print(\"    {}: {}\".format(key, value))"
   ]
  },
  {
   "cell_type": "code",
   "execution_count": 51,
   "id": "14791500-59c8-4a11-b468-47ca5369e6d6",
   "metadata": {},
   "outputs": [],
   "source": [
    "activations = []\n",
    "layer_dims = []\n",
    "\n",
    "for key, value in trial.params.items():\n",
    "    if key.split('_')[0] == 'activation':\n",
    "        activations.append(value)\n",
    "    elif key.split('_')[0] == 'units':\n",
    "        layer_dims.append(value)\n",
    "    elif key == 'optimizer':\n",
    "        optimizer = value\n",
    "    elif key == 'lr':\n",
    "        lr = value"
   ]
  },
  {
   "cell_type": "markdown",
   "id": "6101b79c-43b3-44a6-b42a-8a0827585b54",
   "metadata": {},
   "source": [
    "Use this to fill config_step_1.py"
   ]
  },
  {
   "cell_type": "code",
   "execution_count": 52,
   "id": "93c794c9-5dbb-4ef3-9f68-ca238d67fea3",
   "metadata": {},
   "outputs": [
    {
     "name": "stdout",
     "output_type": "stream",
     "text": [
      "['relu', 'tanh', 'softplus', 'relu', 'relu'] \n",
      " [391, 141, 247, 114, 349] \n",
      " Adam \n",
      " 0.0005984992954500306\n"
     ]
    }
   ],
   "source": [
    "print(activations, '\\n', layer_dims, '\\n', optimizer, '\\n', lr)"
   ]
  },
  {
   "cell_type": "code",
   "execution_count": null,
   "id": "2c0cebce-6df1-44cc-aa1e-51e3834853ed",
   "metadata": {},
   "outputs": [],
   "source": []
  }
 ],
 "metadata": {
  "kernelspec": {
   "display_name": "CEMRACS_SciML",
   "language": "python",
   "name": "cemracs_sciml"
  },
  "language_info": {
   "codemirror_mode": {
    "name": "ipython",
    "version": 3
   },
   "file_extension": ".py",
   "mimetype": "text/x-python",
   "name": "python",
   "nbconvert_exporter": "python",
   "pygments_lexer": "ipython3",
   "version": "3.10.12"
  }
 },
 "nbformat": 4,
 "nbformat_minor": 5
}
