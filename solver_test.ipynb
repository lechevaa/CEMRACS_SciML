{
 "cells": [
  {
   "cell_type": "code",
   "execution_count": 1,
   "id": "c12a3d66-cb0b-4e25-a7e8-b1a1709975d0",
   "metadata": {},
   "outputs": [],
   "source": [
    "from solvers import Solver"
   ]
  },
  {
   "cell_type": "code",
   "execution_count": 2,
   "id": "058cc0bf-c951-4453-90d7-d9da734d63ce",
   "metadata": {},
   "outputs": [],
   "source": [
    "solver = Solver(params={'equation':'Poisson'})"
   ]
  },
  {
   "cell_type": "code",
   "execution_count": 3,
   "id": "ed4d5a0e-918c-4443-a30d-6e3b1ad3b9bd",
   "metadata": {},
   "outputs": [],
   "source": [
    "solver.solve()"
   ]
  },
  {
   "cell_type": "code",
   "execution_count": 4,
   "id": "240fc62d-bdda-4b5d-a8bc-927e40cda8af",
   "metadata": {},
   "outputs": [
    {
     "data": {
      "text/plain": [
       "'Poisson'"
      ]
     },
     "execution_count": 4,
     "metadata": {},
     "output_type": "execute_result"
    }
   ],
   "source": [
    "solver.equation"
   ]
  },
  {
   "cell_type": "code",
   "execution_count": null,
   "id": "258962bb-deac-4cf2-b2cb-feec941e9268",
   "metadata": {},
   "outputs": [],
   "source": []
  }
 ],
 "metadata": {
  "kernelspec": {
   "display_name": "CEMRACS_SciML",
   "language": "python",
   "name": "cemracs_sciml"
  },
  "language_info": {
   "codemirror_mode": {
    "name": "ipython",
    "version": 3
   },
   "file_extension": ".py",
   "mimetype": "text/x-python",
   "name": "python",
   "nbconvert_exporter": "python",
   "pygments_lexer": "ipython3",
   "version": "3.10.12"
  }
 },
 "nbformat": 4,
 "nbformat_minor": 5
}
