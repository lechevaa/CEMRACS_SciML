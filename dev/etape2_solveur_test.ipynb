{
 "cells": [
  {
   "cell_type": "code",
   "execution_count": 1,
   "id": "f752b80c-5d16-4ce3-b401-3067d0353922",
   "metadata": {
    "tags": []
   },
   "outputs": [],
   "source": [
    "import numpy as np\n",
    "import scipy\n",
    "import matplotlib.pyplot as plt"
   ]
  },
  {
   "cell_type": "markdown",
   "id": "204a7608-1280-4a99-b0eb-0260e55b1670",
   "metadata": {},
   "source": [
    "# Delta fct"
   ]
  },
  {
   "cell_type": "code",
   "execution_count": 2,
   "id": "72af15a8-7270-4f8a-8e69-46a5624e809d",
   "metadata": {
    "tags": []
   },
   "outputs": [],
   "source": [
    "def delta(y, x, dy = 1., dx = 0.) :\n",
    "    \"\"\"    \n",
    "    y : int, float or ndarray of size 1\n",
    "    x : ndarray\n",
    "    \n",
    "    return dy if x = y and dx otherwise\n",
    "    \"\"\"\n",
    "    return np.where(x == y, dy, dx)"
   ]
  },
  {
   "cell_type": "code",
   "execution_count": 24,
   "id": "52f3f43e-8410-466a-95a6-972de4ebceab",
   "metadata": {
    "tags": []
   },
   "outputs": [],
   "source": [
    "x = np.linspace(0, 1, 100)"
   ]
  },
  {
   "cell_type": "code",
   "execution_count": 25,
   "id": "dedd82cc-c6c9-41e3-90ab-11b7ea0880d8",
   "metadata": {
    "tags": []
   },
   "outputs": [
    {
     "data": {
      "text/plain": [
       "array([0.        , 0.01010101, 0.02020202, 0.03030303, 0.04040404,\n",
       "       0.05050505, 0.06060606, 0.07070707, 0.08080808, 0.09090909,\n",
       "       0.1010101 , 0.11111111, 0.12121212, 0.13131313, 0.14141414,\n",
       "       0.15151515, 0.16161616, 0.17171717, 0.18181818, 0.19191919,\n",
       "       0.2020202 , 0.21212121, 0.22222222, 0.23232323, 0.24242424,\n",
       "       0.25252525, 0.26262626, 0.27272727, 0.28282828, 0.29292929,\n",
       "       0.3030303 , 0.31313131, 0.32323232, 0.33333333, 0.34343434,\n",
       "       0.35353535, 0.36363636, 0.37373737, 0.38383838, 0.39393939,\n",
       "       0.4040404 , 0.41414141, 0.42424242, 0.43434343, 0.44444444,\n",
       "       0.45454545, 0.46464646, 0.47474747, 0.48484848, 0.49494949,\n",
       "       0.50505051, 0.51515152, 0.52525253, 0.53535354, 0.54545455,\n",
       "       0.55555556, 0.56565657, 0.57575758, 0.58585859, 0.5959596 ,\n",
       "       0.60606061, 0.61616162, 0.62626263, 0.63636364, 0.64646465,\n",
       "       0.65656566, 0.66666667, 0.67676768, 0.68686869, 0.6969697 ,\n",
       "       0.70707071, 0.71717172, 0.72727273, 0.73737374, 0.74747475,\n",
       "       0.75757576, 0.76767677, 0.77777778, 0.78787879, 0.7979798 ,\n",
       "       0.80808081, 0.81818182, 0.82828283, 0.83838384, 0.84848485,\n",
       "       0.85858586, 0.86868687, 0.87878788, 0.88888889, 0.8989899 ,\n",
       "       0.90909091, 0.91919192, 0.92929293, 0.93939394, 0.94949495,\n",
       "       0.95959596, 0.96969697, 0.97979798, 0.98989899, 1.        ])"
      ]
     },
     "execution_count": 25,
     "metadata": {},
     "output_type": "execute_result"
    }
   ],
   "source": [
    "x"
   ]
  },
  {
   "cell_type": "code",
   "execution_count": 5,
   "id": "223118b3-d3fe-4e03-9e16-8b1e61b56947",
   "metadata": {
    "tags": []
   },
   "outputs": [
    {
     "data": {
      "image/png": "[encoded data removed]",
      "text/plain": [
       "<Figure size 432x288 with 1 Axes>"
      ]
     },
     "metadata": {
      "needs_background": "light"
     },
     "output_type": "display_data"
    }
   ],
   "source": [
    "plt.plot(x, delta(0.5, x))\n",
    "plt.show()"
   ]
  },
  {
   "cell_type": "markdown",
   "id": "83d87117-d569-4e43-9813-84187d1fe3c1",
   "metadata": {},
   "source": [
    "# Solveur"
   ]
  },
  {
   "cell_type": "code",
   "execution_count": 6,
   "id": "3fed0d6a-2e22-4289-a2ae-c92ffbd6da10",
   "metadata": {},
   "outputs": [],
   "source": [
    "import sys\n",
    "sys.path.insert(1, '../')\n",
    "\n",
    "from solvers.Solver import Solver"
   ]
  },
  {
   "cell_type": "code",
   "execution_count": 7,
   "id": "6884e090-2ca9-46e9-876d-8e25264930df",
   "metadata": {},
   "outputs": [],
   "source": [
    "params_solver = {'equation': 'Poisson', \n",
    "                 'domain': [0., 1.], \n",
    "                 'D': 1., \n",
    "                 'nx': 101, \n",
    "                 'source term' : lambda x : delta(0.5, x)}"
   ]
  },
  {
   "cell_type": "code",
   "execution_count": 8,
   "id": "443257da-742a-4576-a594-815cd1aab09b",
   "metadata": {
    "tags": []
   },
   "outputs": [],
   "source": [
    "Dmin, Dmax = 0.1, 10\n",
    "D_list = np.linspace(Dmin, Dmax, 1000)\n",
    "\n",
    "U_sols = []\n",
    "solver = Solver(params={'solver': params_solver})\n",
    "for d in D_list:\n",
    "    solver.change_D(new_D=d)\n",
    "    U_sols.append(solver.solve())\n",
    "\n",
    "U_sols = np.stack(U_sols)"
   ]
  },
  {
   "cell_type": "code",
   "execution_count": 9,
   "id": "4ebb6848-fe8f-4c6d-b0fb-79180e9a0b03",
   "metadata": {
    "tags": []
   },
   "outputs": [
    {
     "data": {
      "text/plain": [
       "(1000, 101)"
      ]
     },
     "execution_count": 9,
     "metadata": {},
     "output_type": "execute_result"
    }
   ],
   "source": [
    "U_sols.shape"
   ]
  },
  {
   "cell_type": "code",
   "execution_count": 20,
   "id": "3057a8e7-9a73-4484-ac9e-c11e62f37c22",
   "metadata": {
    "tags": []
   },
   "outputs": [
    {
     "data": {
      "image/png": "[encoded data removed]",
      "text/plain": [
       "<Figure size 432x288 with 1 Axes>"
      ]
     },
     "metadata": {
      "needs_background": "light"
     },
     "output_type": "display_data"
    }
   ],
   "source": [
    "#plt.plot(solver.x, solver.fx)\n",
    "plt.plot(solver.x, U_sols[5, :])\n",
    "plt.plot(solver.x, U_sols[0, :])\n",
    "plt.show()"
   ]
  },
  {
   "cell_type": "code",
   "execution_count": 21,
   "id": "916a3ef6-9afa-4df8-adfd-f284b7a4b076",
   "metadata": {
    "tags": []
   },
   "outputs": [
    {
     "data": {
      "text/plain": [
       "array([0.        , 0.00033434, 0.00066867, 0.00100301, 0.00133735,\n",
       "       0.00167169, 0.00200602, 0.00234036, 0.0026747 , 0.00300904,\n",
       "       0.00334337, 0.00367771, 0.00401205, 0.00434639, 0.00468072,\n",
       "       0.00501506, 0.0053494 , 0.00568373, 0.00601807, 0.00635241,\n",
       "       0.00668675, 0.00702108, 0.00735542, 0.00768976, 0.0080241 ,\n",
       "       0.00835843, 0.00869277, 0.00902711, 0.00936145, 0.00969578,\n",
       "       0.01003012, 0.01036446, 0.0106988 , 0.01103313, 0.01136747,\n",
       "       0.01170181, 0.01203614, 0.01237048, 0.01270482, 0.01303916,\n",
       "       0.01337349, 0.01370783, 0.01404217, 0.01437651, 0.01471084,\n",
       "       0.01504518, 0.01537952, 0.01571386, 0.01604819, 0.01638253,\n",
       "       0.01671687, 0.01638253, 0.01604819, 0.01571386, 0.01537952,\n",
       "       0.01504518, 0.01471084, 0.01437651, 0.01404217, 0.01370783,\n",
       "       0.01337349, 0.01303916, 0.01270482, 0.01237048, 0.01203614,\n",
       "       0.01170181, 0.01136747, 0.01103313, 0.0106988 , 0.01036446,\n",
       "       0.01003012, 0.00969578, 0.00936145, 0.00902711, 0.00869277,\n",
       "       0.00835843, 0.0080241 , 0.00768976, 0.00735542, 0.00702108,\n",
       "       0.00668675, 0.00635241, 0.00601807, 0.00568373, 0.0053494 ,\n",
       "       0.00501506, 0.00468072, 0.00434639, 0.00401205, 0.00367771,\n",
       "       0.00334337, 0.00300904, 0.0026747 , 0.00234036, 0.00200602,\n",
       "       0.00167169, 0.00133735, 0.00100301, 0.00066867, 0.00033434,\n",
       "       0.        ])"
      ]
     },
     "execution_count": 21,
     "metadata": {},
     "output_type": "execute_result"
    }
   ],
   "source": [
    "U_sols[5, :]"
   ]
  },
  {
   "cell_type": "code",
   "execution_count": null,
   "id": "5b7b67fa-5e97-4d11-aa4d-746684ab0333",
   "metadata": {},
   "outputs": [],
   "source": []
  }
 ],
 "metadata": {
  "kernelspec": {
   "display_name": "Python 3 (ipykernel)",
   "language": "python",
   "name": "python3"
  },
  "language_info": {
   "codemirror_mode": {
    "name": "ipython",
    "version": 3
   },
   "file_extension": ".py",
   "mimetype": "text/x-python",
   "name": "python",
   "nbconvert_exporter": "python",
   "pygments_lexer": "ipython3",
   "version": "3.11.4"
  }
 },
 "nbformat": 4,
 "nbformat_minor": 5
}
