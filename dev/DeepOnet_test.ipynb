{
 "cells": [
  {
   "cell_type": "code",
   "execution_count": 1,
   "id": "3d024079-74c7-47ec-8245-49ed8dcba4a6",
   "metadata": {
    "tags": []
   },
   "outputs": [],
   "source": [
    "import sys\n",
    "sys.path.insert(1, '../')"
   ]
  },
  {
   "cell_type": "code",
   "execution_count": 2,
   "id": "1d3c6dc1-c34a-4d08-8b69-984cb25ef366",
   "metadata": {
    "tags": []
   },
   "outputs": [],
   "source": [
    "import matplotlib.pyplot as plt"
   ]
  },
  {
   "cell_type": "code",
   "execution_count": 3,
   "id": "4693db3b-e3d9-43ec-bfe9-eed9f28f65cd",
   "metadata": {
    "tags": []
   },
   "outputs": [],
   "source": [
    "from methods.DataDrivenMethods import DDMethod\n",
    "from solvers.Solver import Solver\n",
    "import numpy as np\n",
    "from sklearn.model_selection import train_test_split\n",
    "import torch"
   ]
  },
  {
   "cell_type": "code",
   "execution_count": 4,
   "id": "76692e04-8dc3-413f-9893-f4a046928d9b",
   "metadata": {
    "tags": []
   },
   "outputs": [],
   "source": [
    "device = torch.device('cuda' if torch.cuda.is_available() else 'cpu')\n",
    "#device = torch.device('cpu')"
   ]
  },
  {
   "cell_type": "code",
   "execution_count": 5,
   "id": "7fbc49ff-bdc2-406d-8dd5-d898b8688f59",
   "metadata": {
    "tags": []
   },
   "outputs": [],
   "source": [
    "nx = 101"
   ]
  },
  {
   "cell_type": "code",
   "execution_count": 6,
   "id": "fc9457a2-f769-431b-8ded-e88c021e7111",
   "metadata": {
    "tags": []
   },
   "outputs": [],
   "source": [
    "params_solver = {'equation': 'Poisson', \n",
    "                 'domain': [0, 1], \n",
    "                 'D': 0.1,\n",
    "                 'nx': nx,\n",
    "                 'source term' : lambda x : np.ones_like(x)}"
   ]
  },
  {
   "cell_type": "code",
   "execution_count": 7,
   "id": "5092f63e-de9a-419a-a266-d15473deb1c0",
   "metadata": {
    "tags": []
   },
   "outputs": [],
   "source": [
    "params_branch = {'layer_dims': [1, 60, 60, 60],\n",
    "                 'activations': 'tanh', \n",
    "                 'device': device, \n",
    "                 'seed': 123, \n",
    "                 'method_name': 'MLP'}\n",
    "\n",
    "params_trunk = {'layer_dims': [1, 60, 60, 60],\n",
    "                 'activations': 'tanh', \n",
    "                 'device': device, \n",
    "                 'seed': 123, \n",
    "                 'method_name': 'MLP'}"
   ]
  },
  {
   "cell_type": "code",
   "execution_count": 8,
   "id": "d977a2f0-b682-4ad4-8dd4-65f612a32b4b",
   "metadata": {
    "tags": []
   },
   "outputs": [],
   "source": [
    "params = {'solver' : params_solver, \n",
    "          'method' : {'branch' : params_branch, 'trunk' : params_trunk, 'method_name': 'DEEPONET'}}\n",
    "solver = Solver(params=params)"
   ]
  },
  {
   "cell_type": "code",
   "execution_count": 9,
   "id": "696a446b-995b-46ae-bb6f-c857836ec0a5",
   "metadata": {
    "tags": []
   },
   "outputs": [],
   "source": [
    "model = DDMethod(params=params)"
   ]
  },
  {
   "cell_type": "code",
   "execution_count": 10,
   "id": "f8e9ee46-19e3-4e1a-8b43-6956f40031f9",
   "metadata": {
    "tags": []
   },
   "outputs": [
    {
     "data": {
      "text/plain": [
       "DeepONet(\n",
       "  (branch): MLP(\n",
       "    (_layers): ModuleList(\n",
       "      (0): Linear(in_features=1, out_features=60, bias=True)\n",
       "      (1-2): 2 x Linear(in_features=60, out_features=60, bias=True)\n",
       "    )\n",
       "  )\n",
       "  (trunk): MLP(\n",
       "    (_layers): ModuleList(\n",
       "      (0): Linear(in_features=1, out_features=60, bias=True)\n",
       "      (1-2): 2 x Linear(in_features=60, out_features=60, bias=True)\n",
       "    )\n",
       "  )\n",
       ")"
      ]
     },
     "execution_count": 10,
     "metadata": {},
     "output_type": "execute_result"
    }
   ],
   "source": [
    "model._method"
   ]
  },
  {
   "cell_type": "code",
   "execution_count": 11,
   "id": "afae9c1c-b83b-4993-bc68-8b8a9862186b",
   "metadata": {
    "tags": []
   },
   "outputs": [],
   "source": [
    "Dmin, Dmax = 1, 10\n",
    "num_D = 1000\n",
    "\n",
    "D_list = (Dmax - Dmin)* np.random.rand(num_D, 1) + Dmin"
   ]
  },
  {
   "cell_type": "code",
   "execution_count": 12,
   "id": "2cd279b2-44b2-482d-8f9b-057dd3f5a9db",
   "metadata": {
    "tags": []
   },
   "outputs": [],
   "source": [
    "U_sols = []\n",
    "\n",
    "for d in D_list:\n",
    "    solver.change_D(new_D=d)\n",
    "    U_sols.append(solver.solve())\n",
    "\n",
    "U_sols = np.stack(U_sols)"
   ]
  },
  {
   "cell_type": "code",
   "execution_count": 13,
   "id": "625a3c68-b483-443b-8207-c30a5ab572a7",
   "metadata": {
    "tags": []
   },
   "outputs": [],
   "source": [
    "d_train, d_val, u_train, u_val = train_test_split(D_list, U_sols, test_size=0.2, random_state=123)"
   ]
  },
  {
   "cell_type": "code",
   "execution_count": 14,
   "id": "1ed95eb2-9dc2-4c81-b349-50f62219dd90",
   "metadata": {
    "tags": []
   },
   "outputs": [],
   "source": [
    "x = solver.x.reshape(-1, 1)"
   ]
  },
  {
   "cell_type": "code",
   "execution_count": 15,
   "id": "c6620507-5c8a-4a6e-9d11-775de5cac7ff",
   "metadata": {
    "tags": []
   },
   "outputs": [],
   "source": [
    "train_data = [d_train, x, u_train]\n",
    "val_data = [d_val, x, u_val]"
   ]
  },
  {
   "cell_type": "code",
   "execution_count": 16,
   "id": "2e74b909-d9dd-4b3c-8a39-7d9431a161d7",
   "metadata": {
    "tags": []
   },
   "outputs": [],
   "source": [
    "hyperparameters = {'lr': 1e-3, 'epochs': 10000, 'optimizer': 'Adam'}"
   ]
  },
  {
   "cell_type": "code",
   "execution_count": 17,
   "id": "c7e19fa1-7a37-4de0-82c2-1f410096af0f",
   "metadata": {
    "tags": []
   },
   "outputs": [
    {
     "name": "stdout",
     "output_type": "stream",
     "text": [
      "Fitting DEEPONET\n"
     ]
    },
    {
     "name": "stderr",
     "output_type": "stream",
     "text": [
      "[tr : 1.9e-06, val : 1.4e-06]: 100%|\u001b[34m█████\u001b[0m| 10000/10000 [00:34<00:00, 291.92it/s]\u001b[0m"
     ]
    },
    {
     "name": "stdout",
     "output_type": "stream",
     "text": [
      "DEEPONET fitted\n"
     ]
    },
    {
     "name": "stderr",
     "output_type": "stream",
     "text": [
      "\n"
     ]
    }
   ],
   "source": [
    "model.fit(hyperparameters = hyperparameters,\n",
    "          train_data = train_data, val_data = val_data)"
   ]
  },
  {
   "cell_type": "code",
   "execution_count": 18,
   "id": "e1455b2b-cd6e-4cec-b9a8-7692c6b5257b",
   "metadata": {
    "tags": []
   },
   "outputs": [
    {
     "data": {
      "image/png": "[encoded data removed]",
      "text/plain": [
       "<Figure size 432x288 with 1 Axes>"
      ]
     },
     "metadata": {
      "needs_background": "light"
     },
     "output_type": "display_data"
    }
   ],
   "source": [
    "plt.yscale('log')\n",
    "\n",
    "plt.plot(model._method._losses['train'], label = 'train')\n",
    "plt.plot(model._method._losses['val'], label = 'val')\n",
    "\n",
    "plt.legend()\n",
    "plt.show()"
   ]
  },
  {
   "cell_type": "code",
   "execution_count": 19,
   "id": "bd59a206-79dc-4cd5-96e5-dc306584a082",
   "metadata": {
    "tags": []
   },
   "outputs": [],
   "source": [
    "test = model.apply_method(d_val[0])"
   ]
  },
  {
   "cell_type": "raw",
   "id": "9b963527-7d76-4971-895a-7ab3ecf6bb10",
   "metadata": {
    "tags": []
   },
   "source": [
    "d = torch.Tensor(d_val).to(device)\n",
    "x = torch.Tensor(x).to(device)"
   ]
  },
  {
   "cell_type": "raw",
   "id": "4f353a8b-9bb4-4ee3-bdbf-486bf4a862b5",
   "metadata": {
    "tags": []
   },
   "source": [
    "test = model._method.forward(d, x).detach().cpu().numpy()"
   ]
  },
  {
   "cell_type": "code",
   "execution_count": 22,
   "id": "15904b5e-081b-4b46-932b-4ea987249517",
   "metadata": {
    "tags": []
   },
   "outputs": [
    {
     "data": {
      "image/png": "[encoded data removed]",
      "text/plain": [
       "<Figure size 432x288 with 1 Axes>"
      ]
     },
     "metadata": {
      "needs_background": "light"
     },
     "output_type": "display_data"
    }
   ],
   "source": [
    "plt.plot(solver.x, test.squeeze(), label ='deeponet')\n",
    "plt.plot(solver.x, u_val[0, :], label = 'true')\n",
    "\n",
    "plt.legend()\n",
    "plt.show()"
   ]
  },
  {
   "cell_type": "code",
   "execution_count": null,
   "id": "e9c963d7-1b90-49ac-b0c7-e90540c0db4e",
   "metadata": {},
   "outputs": [],
   "source": []
  }
 ],
 "metadata": {
  "kernelspec": {
   "display_name": "cemracs",
   "language": "python",
   "name": "cemracs"
  },
  "language_info": {
   "codemirror_mode": {
    "name": "ipython",
    "version": 3
   },
   "file_extension": ".py",
   "mimetype": "text/x-python",
   "name": "python",
   "nbconvert_exporter": "python",
   "pygments_lexer": "ipython3",
   "version": "3.11.4"
  }
 },
 "nbformat": 4,
 "nbformat_minor": 5
}
