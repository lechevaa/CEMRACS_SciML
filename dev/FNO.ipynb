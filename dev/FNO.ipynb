{
 "cells": [
  {
   "cell_type": "code",
   "execution_count": 1,
   "id": "08982025-4fc0-4fc7-a1b5-557564b73aea",
   "metadata": {
    "tags": []
   },
   "outputs": [],
   "source": [
    "import torch\n",
    "import numpy as np\n",
    "import matplotlib.pyplot as plt"
   ]
  },
  {
   "cell_type": "code",
   "execution_count": 2,
   "id": "17949128-eaf6-4394-9a38-944fc1f67241",
   "metadata": {
    "tags": []
   },
   "outputs": [],
   "source": [
    "from tqdm import tqdm"
   ]
  },
  {
   "cell_type": "code",
   "execution_count": 3,
   "id": "ac01fb77-46b1-4d63-b4b9-d97cd77160b6",
   "metadata": {
    "tags": []
   },
   "outputs": [
    {
     "data": {
      "text/plain": [
       "device(type='cuda')"
      ]
     },
     "execution_count": 3,
     "metadata": {},
     "output_type": "execute_result"
    }
   ],
   "source": [
    "device = torch.device('cuda' if torch.cuda.is_available() else 'cpu')\n",
    "device"
   ]
  },
  {
   "cell_type": "code",
   "execution_count": 4,
   "id": "dbc58cfa-9c27-43a4-baa4-3a1da6c45d67",
   "metadata": {
    "tags": []
   },
   "outputs": [],
   "source": [
    "class FourierLayer1d(torch.nn.Module):\n",
    "    \n",
    "    def __init__(self, in_channels, out_channels, modes, seed = 123):\n",
    "        super().__init__()\n",
    "        \n",
    "        self.in_channels = in_channels\n",
    "        self.out_channels = out_channels\n",
    "        self.modes = modes\n",
    "        \n",
    "        self.scale = (1 / (in_channels * out_channels))\n",
    "        \n",
    "        \n",
    "        #  The kernel parametrization\n",
    "        self.kernel = torch.nn.Parameter(\n",
    "            self.scale * torch.rand(in_channels, out_channels, modes, dtype = torch.cfloat)\n",
    "        )\n",
    "        \n",
    "        self.Linear = torch.nn.Conv1d(in_channels, out_channels, 1)\n",
    "        \n",
    "    def cmul(self, x, w):\n",
    "        \"\"\"\n",
    "        x : Tensor of size (i, j, k)\n",
    "        w : Tensor of size (j, l, k)\n",
    "        \n",
    "        return a Tensor of size (i, l, k) which present the product of x and w along the axis j.\n",
    "        \"\"\"\n",
    "        return torch.einsum(\"ijk, jlk -> ilk\", x, w)\n",
    "\n",
    "    def forward(self, v):\n",
    "        \n",
    "        \"\"\"\n",
    "        v : Tensor of size (b, d, n) where b is the batch size, d is the dimension of the output of the function v and \n",
    "            n is the number of grid points where v is evaluated.\n",
    "        \"\"\"\n",
    "        \n",
    "        b, d, n  = v.shape\n",
    "        Nyquist_frequency = (n // 2) + 1\n",
    "        \n",
    "        # Compute the fast Fourier transform of x\n",
    "        Fv = torch.fft.rfft(v)\n",
    "        \n",
    "        # Compute the product of the kernel parametrisation and the relevant Fourier modes of Fv. \n",
    "        Prod = torch.zeros(b, self.out_channels, Nyquist_frequency, device = v.device, dtype = torch.cfloat)\n",
    "        Prod[:, :, : self.modes] = self.cmul(Fv[:, :, : self.modes], self.kernel)\n",
    "        \n",
    "        # Compute the inverse of fast Fourier transform of product\n",
    "        IFv = torch.fft.irfft(Prod, n = n)\n",
    "        \n",
    "        return self.Linear(v) + IFv"
   ]
  },
  {
   "cell_type": "code",
   "execution_count": 5,
   "id": "9ab76079-2ba8-4942-a452-9864f608d3e9",
   "metadata": {},
   "outputs": [],
   "source": [
    "class FNO1d(torch.nn.Module):\n",
    "    \n",
    "    def __init__(self, layers_dim, modes, seed = 123):\n",
    "        \n",
    "        super().__init__()\n",
    "        \n",
    "        self.n_features = layers_dim[0]\n",
    "        self.lifting_dim = layers_dim[1]\n",
    "        self.projection_dim = layers_dim[-1]\n",
    "        \n",
    "        self.FourierLayers_dim = layers_dim[1:]\n",
    "        self.FourierLayers_modes = modes\n",
    "        \n",
    "        self.Lifting = torch.nn.Linear(self.n_features, self.lifting_dim)\n",
    "        \n",
    "        self.FourierLayers = self.creat_FourierLayers(\n",
    "            self.FourierLayers_dim, self.FourierLayers_modes\n",
    "        )\n",
    "        \n",
    "        self.Projection = torch.nn.Sequential(\n",
    "            torch.nn.Linear(self.projection_dim, 2* self.projection_dim), \n",
    "            torch.nn.GELU(),\n",
    "            torch.nn.Linear(2* self.projection_dim, 1)\n",
    "        )\n",
    "        \n",
    "        self.init_net(seed)\n",
    "        \n",
    "        self.activation = torch.nn.GELU()\n",
    "        self.padding = 9\n",
    "        \n",
    "        \n",
    "    def creat_FourierLayers(self, layers_dim : list, modes : list):\n",
    "        layers = torch.nn.ModuleList()\n",
    "        dim = layers_dim[0]\n",
    "        for i, hdim in enumerate(layers_dim[1:]) :\n",
    "            layer = FourierLayer1d(dim, hdim, modes[i])\n",
    "            layers.append(layer)\n",
    "            dim = hdim\n",
    "        return layers\n",
    "\n",
    "    def init_net(self, seed):\n",
    "        torch.manual_seed(seed)\n",
    "        \n",
    "        for p in self.parameters():\n",
    "            try:\n",
    "                torch.nn.init.xavier_uniform_(p)\n",
    "            except:\n",
    "                torch.nn.init.constant_(p, 0)\n",
    "    \n",
    "    \n",
    "    def forward(self, x):\n",
    "        \n",
    "        x = self.Lifting(x)\n",
    "        x = x.permute(0, 2, 1)\n",
    "        \n",
    "        x = torch.nn.functional.pad(x, [0, self.padding])\n",
    "        \n",
    "        for idx, layer in enumerate(self.FourierLayers) :\n",
    "            x = self.activation(layer(x))\n",
    "            \n",
    "        x = x[..., : -self.padding]\n",
    "        \n",
    "        x = x.permute(0, 2, 1)\n",
    "        x = self.Projection(x)\n",
    "        \n",
    "        return x"
   ]
  },
  {
   "cell_type": "code",
   "execution_count": 6,
   "id": "0eac0a81-c108-4355-b53e-7446a65a778e",
   "metadata": {
    "tags": []
   },
   "outputs": [],
   "source": [
    "layers_dim = [1, 10, 10, 10, 10]\n",
    "modes = 3* [10]"
   ]
  },
  {
   "cell_type": "code",
   "execution_count": 7,
   "id": "af217f01-2411-41a8-b421-11eea213703c",
   "metadata": {
    "tags": []
   },
   "outputs": [],
   "source": [
    "model = FNO1d(layers_dim, modes).to(device)"
   ]
  },
  {
   "cell_type": "markdown",
   "id": "cf22d384-d33b-437c-9c3b-713b2d2277aa",
   "metadata": {},
   "source": [
    "# Dataset"
   ]
  },
  {
   "cell_type": "code",
   "execution_count": 8,
   "id": "89983029-8ec8-4ee2-9ec2-db6c0749b9d6",
   "metadata": {
    "tags": []
   },
   "outputs": [],
   "source": [
    "Dmin = 0.1\n",
    "Dmax = 2\n",
    "\n",
    "num_D = 1000"
   ]
  },
  {
   "cell_type": "code",
   "execution_count": 9,
   "id": "bd51a04d-8958-47ac-a885-b2fd07d456ac",
   "metadata": {
    "tags": []
   },
   "outputs": [],
   "source": [
    "D = (Dmax - Dmin)* np.random.rand(num_D, 1) + Dmin"
   ]
  },
  {
   "cell_type": "code",
   "execution_count": 10,
   "id": "c74e6538-3d18-452b-88d2-63bd3f147fdf",
   "metadata": {
    "tags": []
   },
   "outputs": [],
   "source": [
    "def chaleur(nx, D) :\n",
    "    \n",
    "    dx = 1/(nx - 1)\n",
    "    A = -2 * np.eye(nx - 2) + np.eye(nx - 2, k = -1) + np.eye(nx - 2, k = 1)\n",
    "    b = - (dx**2 / D)* np.ones(nx - 2)\n",
    "    \n",
    "    u = np.linalg.solve(A, b)\n",
    "    \n",
    "    return np.linspace(0, 1, nx), np.hstack([0, u, 0])"
   ]
  },
  {
   "cell_type": "code",
   "execution_count": 11,
   "id": "4ae98466-2332-46c4-bb68-22679e7b3c86",
   "metadata": {
    "tags": []
   },
   "outputs": [],
   "source": [
    "nx = 100"
   ]
  },
  {
   "cell_type": "code",
   "execution_count": 12,
   "id": "a8a47026-a34e-4068-8d7a-0072b1ae1833",
   "metadata": {
    "tags": []
   },
   "outputs": [],
   "source": [
    "U = []\n",
    "\n",
    "for d in D : \n",
    "    x, u = chaleur(nx, d)\n",
    "    U.append(u)\n",
    "    \n",
    "U = np.stack(U)"
   ]
  },
  {
   "cell_type": "code",
   "execution_count": 13,
   "id": "2a224c49-3c48-458a-9772-a3ebeff52182",
   "metadata": {
    "tags": []
   },
   "outputs": [
    {
     "data": {
      "image/png": "[encoded data removed]",
      "text/plain": [
       "<Figure size 432x288 with 1 Axes>"
      ]
     },
     "metadata": {
      "needs_background": "light"
     },
     "output_type": "display_data"
    }
   ],
   "source": [
    "plt.plot(x, U[0, :])\n",
    "plt.plot(x, U[1, :])\n",
    "plt.plot(x, U[2, :])\n",
    "\n",
    "plt.show()"
   ]
  },
  {
   "cell_type": "code",
   "execution_count": 14,
   "id": "8d71fb50-22c1-40b3-bad3-e83553ac6a67",
   "metadata": {
    "tags": []
   },
   "outputs": [],
   "source": [
    "D = torch.Tensor(D).to(device)\n",
    "U = torch.Tensor(U).to(device)"
   ]
  },
  {
   "cell_type": "code",
   "execution_count": 15,
   "id": "8f15e0eb-03d6-4d7d-a739-791da876bcd2",
   "metadata": {
    "tags": []
   },
   "outputs": [],
   "source": [
    "D = D.repeat(1, nx).unsqueeze(-1)"
   ]
  },
  {
   "cell_type": "markdown",
   "id": "fca60c3c-5587-4e57-b60a-cc76291a8e0b",
   "metadata": {},
   "source": [
    "# Model"
   ]
  },
  {
   "cell_type": "raw",
   "id": "de36a890-0d4f-46ec-b1a2-7ff9e0748221",
   "metadata": {
    "tags": []
   },
   "source": [
    "model = FNO1d(n_features = 1, width = 20, modes = 10).to(device)"
   ]
  },
  {
   "cell_type": "code",
   "execution_count": 16,
   "id": "63759d14-24d5-4ad4-960f-7969a93df076",
   "metadata": {
    "tags": []
   },
   "outputs": [],
   "source": [
    "def loss_fn(x, y = 0):\n",
    "    return torch.square(y - x).mean()"
   ]
  },
  {
   "cell_type": "code",
   "execution_count": 17,
   "id": "6f0d0d82-2495-4ee4-888a-74a921a1253e",
   "metadata": {
    "tags": []
   },
   "outputs": [],
   "source": [
    "lr = 1e-3\n",
    "optimizer = torch.optim.Adam(model.parameters(), lr = lr)"
   ]
  },
  {
   "cell_type": "code",
   "execution_count": 18,
   "id": "b9c20c2f-7594-461e-a259-cabc3e37f906",
   "metadata": {
    "tags": []
   },
   "outputs": [],
   "source": [
    "log_train = []"
   ]
  },
  {
   "cell_type": "code",
   "execution_count": 19,
   "id": "9a21b4d6-f502-4569-ad3d-f027d4c457f5",
   "metadata": {
    "tags": []
   },
   "outputs": [],
   "source": [
    "num_epochs = 10000"
   ]
  },
  {
   "cell_type": "raw",
   "id": "b395b86e-b7bc-4dbc-8894-32bb70b57a07",
   "metadata": {
    "tags": []
   },
   "source": [
    "D.shape"
   ]
  },
  {
   "cell_type": "code",
   "execution_count": 20,
   "id": "3c758486-e45c-449c-b0c8-d08fd240d63a",
   "metadata": {
    "tags": []
   },
   "outputs": [
    {
     "name": "stderr",
     "output_type": "stream",
     "text": [
      "training loss : 2.50e-08: 100%|\u001b[34m█████████████████████████████████████████████████████████████████████████████████████████████████████████████████████████████████████\u001b[0m| 10001/10001 [00:59<00:00, 167.30it/s]\u001b[0m"
     ]
    },
    {
     "name": "stdout",
     "output_type": "stream",
     "text": [
      "CPU times: user 59.1 s, sys: 1.12 s, total: 1min\n",
      "Wall time: 59.8 s\n"
     ]
    },
    {
     "name": "stderr",
     "output_type": "stream",
     "text": [
      "\n"
     ]
    }
   ],
   "source": [
    "%%time\n",
    "\n",
    "loading_bar = tqdm(range(num_epochs + 1), colour = 'blue')\n",
    "\n",
    "for ep in loading_bar :\n",
    "    \n",
    "    \"\"\"\n",
    "    with torch.no_grad():\n",
    "        U_val_pred = model(D_val)\n",
    "        loss_val = loss_fn(U_val_pred, U_val)\n",
    "        log_val.append(loss_val.item())\n",
    "    \"\"\"\n",
    "    \n",
    "    U_train_pred = model(D).squeeze(-1)\n",
    "    \n",
    "    loss = loss_fn(U_train_pred, U)\n",
    "    \n",
    "    loss.backward()\n",
    "\n",
    "    optimizer.step()\n",
    "\n",
    "    optimizer.zero_grad()\n",
    "    \n",
    "    log_train.append(loss.item())\n",
    "    \n",
    "    loading_bar.set_description('training loss : %.2e'%(log_train[-1]))"
   ]
  },
  {
   "cell_type": "code",
   "execution_count": 21,
   "id": "fd9f0cca-967a-4072-a882-6b55d5f76a83",
   "metadata": {
    "tags": []
   },
   "outputs": [
    {
     "data": {
      "image/png": "[encoded data removed]",
      "text/plain": [
       "<Figure size 432x288 with 1 Axes>"
      ]
     },
     "metadata": {
      "needs_background": "light"
     },
     "output_type": "display_data"
    }
   ],
   "source": [
    "fig, ax = plt.subplots(1, 1)\n",
    "\n",
    "ax.grid(True)\n",
    "ax.set_yscale('log')\n",
    "ax.set_xlabel('Epoch', fontsize = 12, labelpad=15)\n",
    "ax.plot(log_train, label = 'Training loss', alpha=.7)\n",
    "#ax.plot(log_val, label = 'Validation loss', alpha=.7)\n",
    "\n",
    "ax.legend()\n",
    "plt.show()"
   ]
  },
  {
   "cell_type": "code",
   "execution_count": 23,
   "id": "38fdc93c-79e5-4268-bebb-c20dbbd35e38",
   "metadata": {
    "tags": []
   },
   "outputs": [],
   "source": [
    "pred = model(D).detach().cpu()"
   ]
  },
  {
   "cell_type": "code",
   "execution_count": 24,
   "id": "9da2950b-54fd-4bf8-9a3f-b9525a893215",
   "metadata": {
    "tags": []
   },
   "outputs": [],
   "source": [
    "pred = pred.squeeze(-1)"
   ]
  },
  {
   "cell_type": "code",
   "execution_count": 25,
   "id": "fcf73062-a74b-40ef-8f4c-49f66d026115",
   "metadata": {
    "tags": []
   },
   "outputs": [
    {
     "data": {
      "text/plain": [
       "torch.Size([1000, 100])"
      ]
     },
     "execution_count": 25,
     "metadata": {},
     "output_type": "execute_result"
    }
   ],
   "source": [
    "pred.shape"
   ]
  },
  {
   "cell_type": "code",
   "execution_count": 27,
   "id": "cb43d25d-2c75-4a15-991c-f2c47f6780c5",
   "metadata": {
    "tags": []
   },
   "outputs": [
    {
     "data": {
      "image/png": "[encoded data removed]",
      "text/plain": [
       "<Figure size 432x288 with 1 Axes>"
      ]
     },
     "metadata": {
      "needs_background": "light"
     },
     "output_type": "display_data"
    }
   ],
   "source": [
    "i = 0\n",
    "\n",
    "plt.plot(x, U[i, :].detach().cpu(), lw = 2, label = 'true')\n",
    "plt.plot(x, pred[i, :], 'r-.', label = 'fno')\n",
    "\n",
    "\n",
    "plt.legend()\n",
    "plt.show()"
   ]
  },
  {
   "cell_type": "code",
   "execution_count": 40,
   "id": "4ae5d2cc-8eff-471b-8998-581de3ea510c",
   "metadata": {},
   "outputs": [],
   "source": [
    "s = 0\n",
    "\n",
    "for p in model.parameters() :\n",
    "    s += p.numel()"
   ]
  },
  {
   "cell_type": "code",
   "execution_count": 41,
   "id": "6b4083ad-f20d-430f-afb9-a09f75f84be9",
   "metadata": {
    "tags": []
   },
   "outputs": [
    {
     "data": {
      "text/plain": [
       "14181"
      ]
     },
     "execution_count": 41,
     "metadata": {},
     "output_type": "execute_result"
    }
   ],
   "source": [
    "s"
   ]
  },
  {
   "cell_type": "code",
   "execution_count": 29,
   "id": "809c35e1-194a-4333-b5b4-da4cd0f15a09",
   "metadata": {
    "tags": []
   },
   "outputs": [
    {
     "data": {
      "text/plain": [
       "FNO1d(\n",
       "  (activation): GELU(approximate='none')\n",
       "  (Lifting): Linear(in_features=1, out_features=20, bias=True)\n",
       "  (fl0): FourierLayer1d(\n",
       "    (Linear): Conv1d(20, 20, kernel_size=(1,), stride=(1,))\n",
       "  )\n",
       "  (fl1): FourierLayer1d(\n",
       "    (Linear): Conv1d(20, 20, kernel_size=(1,), stride=(1,))\n",
       "  )\n",
       "  (fl2): FourierLayer1d(\n",
       "    (Linear): Conv1d(20, 20, kernel_size=(1,), stride=(1,))\n",
       "  )\n",
       "  (Projection): Sequential(\n",
       "    (0): Linear(in_features=20, out_features=40, bias=True)\n",
       "    (1): GELU(approximate='none')\n",
       "    (2): Linear(in_features=40, out_features=1, bias=True)\n",
       "  )\n",
       ")"
      ]
     },
     "execution_count": 29,
     "metadata": {},
     "output_type": "execute_result"
    }
   ],
   "source": [
    "model"
   ]
  },
  {
   "cell_type": "code",
   "execution_count": 33,
   "id": "6dc0f82e-b915-4a85-9e1b-34bc477efb99",
   "metadata": {
    "tags": []
   },
   "outputs": [
    {
     "name": "stdout",
     "output_type": "stream",
     "text": [
      "Lifting.weight \t : torch.Size([20, 1])\n",
      "Lifting.bias \t : torch.Size([20])\n",
      "fl0.kernel \t : torch.Size([20, 20, 10])\n",
      "fl0.Linear.weight \t : torch.Size([20, 20, 1])\n",
      "fl0.Linear.bias \t : torch.Size([20])\n",
      "fl1.kernel \t : torch.Size([20, 20, 10])\n",
      "fl1.Linear.weight \t : torch.Size([20, 20, 1])\n",
      "fl1.Linear.bias \t : torch.Size([20])\n",
      "fl2.kernel \t : torch.Size([20, 20, 10])\n",
      "fl2.Linear.weight \t : torch.Size([20, 20, 1])\n",
      "fl2.Linear.bias \t : torch.Size([20])\n",
      "Projection.0.weight \t : torch.Size([40, 20])\n",
      "Projection.0.bias \t : torch.Size([40])\n",
      "Projection.2.weight \t : torch.Size([1, 40])\n",
      "Projection.2.bias \t : torch.Size([1])\n"
     ]
    }
   ],
   "source": [
    "for n, p in model.named_parameters() :\n",
    "    print(n, '\\t :', p.shape)"
   ]
  },
  {
   "cell_type": "code",
   "execution_count": 26,
   "id": "548347a7-8fce-4ee4-a49c-acc4ee0888c0",
   "metadata": {
    "tags": []
   },
   "outputs": [],
   "source": [
    "test = torch.nn.Linear(3, 4)"
   ]
  },
  {
   "cell_type": "code",
   "execution_count": 48,
   "id": "26f1b5dc-8e4d-4e9d-96e4-5d2a7e251313",
   "metadata": {
    "tags": []
   },
   "outputs": [],
   "source": [
    "t = torch.rand(5, 4, 3)"
   ]
  },
  {
   "cell_type": "code",
   "execution_count": 29,
   "id": "5a4c1e1e-a02a-4d9a-9e4e-b1ec13e949e1",
   "metadata": {
    "tags": []
   },
   "outputs": [
    {
     "data": {
      "text/plain": [
       "torch.Size([5, 4, 4])"
      ]
     },
     "execution_count": 29,
     "metadata": {},
     "output_type": "execute_result"
    }
   ],
   "source": [
    "test(t).shape"
   ]
  },
  {
   "cell_type": "code",
   "execution_count": 94,
   "id": "8a76ba70-cdda-49da-8008-751ee8d64862",
   "metadata": {},
   "outputs": [],
   "source": [
    "T = torch.rand(3, 2, 2)\n",
    "pad = (0, 1, 0, 0)"
   ]
  },
  {
   "cell_type": "code",
   "execution_count": 95,
   "id": "f52179b3-5e5a-44ab-92bb-bc5011ad47fc",
   "metadata": {
    "tags": []
   },
   "outputs": [
    {
     "data": {
      "text/plain": [
       "tensor([[[0.7336, 0.0588],\n",
       "         [0.7975, 0.3971]],\n",
       "\n",
       "        [[0.1294, 0.9052],\n",
       "         [0.5018, 0.6025]],\n",
       "\n",
       "        [[0.9029, 0.1537],\n",
       "         [0.1833, 0.2666]]])"
      ]
     },
     "execution_count": 95,
     "metadata": {},
     "output_type": "execute_result"
    }
   ],
   "source": [
    "T"
   ]
  },
  {
   "cell_type": "code",
   "execution_count": 96,
   "id": "8c5b62c9-9f00-45e5-8110-54533c9d0590",
   "metadata": {
    "tags": []
   },
   "outputs": [],
   "source": [
    "T = torch.nn.functional.pad(T, pad)"
   ]
  },
  {
   "cell_type": "code",
   "execution_count": 97,
   "id": "388460df-326d-42bd-8f4b-2c47e6a2b879",
   "metadata": {
    "tags": []
   },
   "outputs": [
    {
     "data": {
      "text/plain": [
       "tensor([[[0.7336, 0.0588, 0.0000],\n",
       "         [0.7975, 0.3971, 0.0000]],\n",
       "\n",
       "        [[0.1294, 0.9052, 0.0000],\n",
       "         [0.5018, 0.6025, 0.0000]],\n",
       "\n",
       "        [[0.9029, 0.1537, 0.0000],\n",
       "         [0.1833, 0.2666, 0.0000]]])"
      ]
     },
     "execution_count": 97,
     "metadata": {},
     "output_type": "execute_result"
    }
   ],
   "source": [
    "T"
   ]
  },
  {
   "cell_type": "code",
   "execution_count": 98,
   "id": "70fd1755-8dc8-4954-8b4a-acef6c473fb4",
   "metadata": {
    "tags": []
   },
   "outputs": [
    {
     "data": {
      "text/plain": [
       "torch.Size([3, 2, 3])"
      ]
     },
     "execution_count": 98,
     "metadata": {},
     "output_type": "execute_result"
    }
   ],
   "source": [
    "T.shape"
   ]
  },
  {
   "cell_type": "code",
   "execution_count": 22,
   "id": "e7539a5c-a7e7-49b6-8ea8-c081a762fdbc",
   "metadata": {
    "tags": []
   },
   "outputs": [
    {
     "name": "stdout",
     "output_type": "stream",
     "text": [
      "torch.Size([1, 20, 100])\n",
      "torch.Size([1, 20, 109])\n",
      "torch.Size([1, 20, 109])\n",
      "torch.Size([1, 20, 100])\n"
     ]
    },
    {
     "data": {
      "text/plain": [
       "tensor([[[0.0068],\n",
       "         [0.0070],\n",
       "         [0.0071],\n",
       "         [0.0071],\n",
       "         [0.0071],\n",
       "         [0.0070],\n",
       "         [0.0070],\n",
       "         [0.0070],\n",
       "         [0.0069],\n",
       "         [0.0070],\n",
       "         [0.0070],\n",
       "         [0.0070],\n",
       "         [0.0070],\n",
       "         [0.0070],\n",
       "         [0.0070],\n",
       "         [0.0070],\n",
       "         [0.0069],\n",
       "         [0.0069],\n",
       "         [0.0068],\n",
       "         [0.0068],\n",
       "         [0.0067],\n",
       "         [0.0067],\n",
       "         [0.0067],\n",
       "         [0.0067],\n",
       "         [0.0067],\n",
       "         [0.0066],\n",
       "         [0.0066],\n",
       "         [0.0066],\n",
       "         [0.0066],\n",
       "         [0.0066],\n",
       "         [0.0066],\n",
       "         [0.0065],\n",
       "         [0.0065],\n",
       "         [0.0065],\n",
       "         [0.0065],\n",
       "         [0.0064],\n",
       "         [0.0064],\n",
       "         [0.0063],\n",
       "         [0.0063],\n",
       "         [0.0062],\n",
       "         [0.0062],\n",
       "         [0.0063],\n",
       "         [0.0063],\n",
       "         [0.0064],\n",
       "         [0.0065],\n",
       "         [0.0066],\n",
       "         [0.0067],\n",
       "         [0.0067],\n",
       "         [0.0067],\n",
       "         [0.0068],\n",
       "         [0.0068],\n",
       "         [0.0067],\n",
       "         [0.0067],\n",
       "         [0.0067],\n",
       "         [0.0067],\n",
       "         [0.0067],\n",
       "         [0.0067],\n",
       "         [0.0067],\n",
       "         [0.0067],\n",
       "         [0.0066],\n",
       "         [0.0066],\n",
       "         [0.0065],\n",
       "         [0.0065],\n",
       "         [0.0064],\n",
       "         [0.0064],\n",
       "         [0.0065],\n",
       "         [0.0065],\n",
       "         [0.0066],\n",
       "         [0.0066],\n",
       "         [0.0067],\n",
       "         [0.0067],\n",
       "         [0.0067],\n",
       "         [0.0066],\n",
       "         [0.0066],\n",
       "         [0.0065],\n",
       "         [0.0065],\n",
       "         [0.0064],\n",
       "         [0.0064],\n",
       "         [0.0065],\n",
       "         [0.0065],\n",
       "         [0.0065],\n",
       "         [0.0065],\n",
       "         [0.0065],\n",
       "         [0.0065],\n",
       "         [0.0064],\n",
       "         [0.0063],\n",
       "         [0.0062],\n",
       "         [0.0061],\n",
       "         [0.0061],\n",
       "         [0.0061],\n",
       "         [0.0062],\n",
       "         [0.0063],\n",
       "         [0.0064],\n",
       "         [0.0064],\n",
       "         [0.0064],\n",
       "         [0.0063],\n",
       "         [0.0061],\n",
       "         [0.0058],\n",
       "         [0.0055],\n",
       "         [0.0052]]], device='cuda:0', grad_fn=<ViewBackward0>)"
      ]
     },
     "execution_count": 22,
     "metadata": {},
     "output_type": "execute_result"
    }
   ],
   "source": [
    "model(D[0].unsqueeze(0))"
   ]
  },
  {
   "cell_type": "markdown",
   "id": "87475310-80c3-437b-8652-6349df53b03e",
   "metadata": {},
   "source": [
    "# Fourier pb"
   ]
  },
  {
   "cell_type": "code",
   "execution_count": 129,
   "id": "44836366-8298-435f-b836-4ef77e34c639",
   "metadata": {
    "tags": []
   },
   "outputs": [
    {
     "data": {
      "text/plain": [
       "torch.Size([6])"
      ]
     },
     "execution_count": 129,
     "metadata": {},
     "output_type": "execute_result"
    }
   ],
   "source": [
    "x = torch.linspace(-1, 1, 6)\n",
    "x.shape"
   ]
  },
  {
   "cell_type": "code",
   "execution_count": 130,
   "id": "2c090f8a-cc08-4334-9e55-9cb30fc99a48",
   "metadata": {
    "tags": []
   },
   "outputs": [
    {
     "data": {
      "text/plain": [
       "torch.Size([6])"
      ]
     },
     "execution_count": 130,
     "metadata": {},
     "output_type": "execute_result"
    }
   ],
   "source": [
    "f = x**2\n",
    "f.shape"
   ]
  },
  {
   "cell_type": "code",
   "execution_count": 131,
   "id": "a3bb4457-8a6e-431c-b4c2-cc069faa87ea",
   "metadata": {
    "tags": []
   },
   "outputs": [
    {
     "name": "stdout",
     "output_type": "stream",
     "text": [
      "torch.Size([4])\n",
      "tensor([1.0000, 0.3600, 0.0400, 0.0400, 0.3600, 1.0000])\n",
      "tensor([1.0000, 0.3600, 0.0400, 0.0400, 0.3600, 1.0000])\n"
     ]
    }
   ],
   "source": [
    "Ff = torch.fft.rfft(f)\n",
    "print(Ff.shape)\n",
    "\n",
    "print(f)\n",
    "print(torch.fft.irfft(Ff))"
   ]
  },
  {
   "cell_type": "code",
   "execution_count": 132,
   "id": "1fd92f03-dd36-4de4-b4ff-c015c30d38c8",
   "metadata": {
    "tags": []
   },
   "outputs": [
    {
     "name": "stdout",
     "output_type": "stream",
     "text": [
      "torch.Size([15])\n",
      "torch.Size([8])\n",
      "torch.Size([14])\n",
      "tensor([1.0434, 0.3291, 0.0703, 0.0011, 0.7190])\n"
     ]
    }
   ],
   "source": [
    "pad = 9\n",
    "fp = torch.nn.functional.pad(f, [0, pad])\n",
    "print(fp.shape)\n",
    "Ffp = torch.fft.rfft(fp)\n",
    "print(Ffp.shape)\n",
    "iFfp = torch.fft.irfft(Ffp)\n",
    "print(iFfp.shape)\n",
    "print(iFfp[..., : -pad])"
   ]
  },
  {
   "cell_type": "code",
   "execution_count": 119,
   "id": "29465c03-bdc3-400f-9a79-1813eb063a54",
   "metadata": {
    "tags": []
   },
   "outputs": [],
   "source": [
    "pad = 2\n",
    "fp = torch.nn.functional.pad(f, [0, pad])"
   ]
  },
  {
   "cell_type": "code",
   "execution_count": 81,
   "id": "2f2c49e9-0248-4cfb-a300-764cacbc8dd9",
   "metadata": {
    "tags": []
   },
   "outputs": [
    {
     "data": {
      "text/plain": [
       "torch.Size([4])"
      ]
     },
     "execution_count": 81,
     "metadata": {},
     "output_type": "execute_result"
    }
   ],
   "source": [
    "Ffp = torch.fft.rfft(fp)\n",
    "Ffp.shape"
   ]
  },
  {
   "cell_type": "code",
   "execution_count": 68,
   "id": "4f15145a-ef8d-4ea0-b79c-cab725bf74d9",
   "metadata": {
    "tags": []
   },
   "outputs": [
    {
     "data": {
      "text/plain": [
       "tensor([2.5000, 1.1840, 0.0660])"
      ]
     },
     "execution_count": 68,
     "metadata": {},
     "output_type": "execute_result"
    }
   ],
   "source": [
    "Ff.real"
   ]
  },
  {
   "cell_type": "code",
   "execution_count": 69,
   "id": "f41a9a0b-1877-48bd-828e-d6dd39b39be8",
   "metadata": {
    "tags": []
   },
   "outputs": [
    {
     "data": {
      "text/plain": [
       "tensor([2.5000, 0.0297, 1.7237, 0.4966])"
      ]
     },
     "execution_count": 69,
     "metadata": {},
     "output_type": "execute_result"
    }
   ],
   "source": [
    "Ffp.real"
   ]
  },
  {
   "cell_type": "code",
   "execution_count": 59,
   "id": "88c74da9-fb95-4c7a-aa84-3b7d5c75fa2f",
   "metadata": {
    "tags": []
   },
   "outputs": [
    {
     "ename": "ValueError",
     "evalue": "x and y must have same first dimension, but have shapes torch.Size([5]) and torch.Size([7])",
     "output_type": "error",
     "traceback": [
      "\u001b[0;31m---------------------------------------------------------------------------\u001b[0m",
      "\u001b[0;31mValueError\u001b[0m                                Traceback (most recent call last)",
      "Cell \u001b[0;32mIn[59], line 2\u001b[0m\n\u001b[1;32m      1\u001b[0m plt\u001b[38;5;241m.\u001b[39mplot(x, f)\n\u001b[0;32m----> 2\u001b[0m plt\u001b[38;5;241m.\u001b[39mplot(x, fp)\n",
      "File \u001b[0;32m~/miniconda3/envs/cemracs/lib/python3.11/site-packages/matplotlib/pyplot.py:2812\u001b[0m, in \u001b[0;36mplot\u001b[0;34m(scalex, scaley, data, *args, **kwargs)\u001b[0m\n\u001b[1;32m   2810\u001b[0m \u001b[38;5;129m@_copy_docstring_and_deprecators\u001b[39m(Axes\u001b[38;5;241m.\u001b[39mplot)\n\u001b[1;32m   2811\u001b[0m \u001b[38;5;28;01mdef\u001b[39;00m \u001b[38;5;21mplot\u001b[39m(\u001b[38;5;241m*\u001b[39margs, scalex\u001b[38;5;241m=\u001b[39m\u001b[38;5;28;01mTrue\u001b[39;00m, scaley\u001b[38;5;241m=\u001b[39m\u001b[38;5;28;01mTrue\u001b[39;00m, data\u001b[38;5;241m=\u001b[39m\u001b[38;5;28;01mNone\u001b[39;00m, \u001b[38;5;241m*\u001b[39m\u001b[38;5;241m*\u001b[39mkwargs):\n\u001b[0;32m-> 2812\u001b[0m     \u001b[38;5;28;01mreturn\u001b[39;00m gca()\u001b[38;5;241m.\u001b[39mplot(\n\u001b[1;32m   2813\u001b[0m         \u001b[38;5;241m*\u001b[39margs, scalex\u001b[38;5;241m=\u001b[39mscalex, scaley\u001b[38;5;241m=\u001b[39mscaley,\n\u001b[1;32m   2814\u001b[0m         \u001b[38;5;241m*\u001b[39m\u001b[38;5;241m*\u001b[39m({\u001b[38;5;124m\"\u001b[39m\u001b[38;5;124mdata\u001b[39m\u001b[38;5;124m\"\u001b[39m: data} \u001b[38;5;28;01mif\u001b[39;00m data \u001b[38;5;129;01mis\u001b[39;00m \u001b[38;5;129;01mnot\u001b[39;00m \u001b[38;5;28;01mNone\u001b[39;00m \u001b[38;5;28;01melse\u001b[39;00m {}), \u001b[38;5;241m*\u001b[39m\u001b[38;5;241m*\u001b[39mkwargs)\n",
      "File \u001b[0;32m~/miniconda3/envs/cemracs/lib/python3.11/site-packages/matplotlib/axes/_axes.py:1688\u001b[0m, in \u001b[0;36mAxes.plot\u001b[0;34m(self, scalex, scaley, data, *args, **kwargs)\u001b[0m\n\u001b[1;32m   1445\u001b[0m \u001b[38;5;124;03m\"\"\"\u001b[39;00m\n\u001b[1;32m   1446\u001b[0m \u001b[38;5;124;03mPlot y versus x as lines and/or markers.\u001b[39;00m\n\u001b[1;32m   1447\u001b[0m \n\u001b[0;32m   (...)\u001b[0m\n\u001b[1;32m   1685\u001b[0m \u001b[38;5;124;03m(``'green'``) or hex strings (``'#008000'``).\u001b[39;00m\n\u001b[1;32m   1686\u001b[0m \u001b[38;5;124;03m\"\"\"\u001b[39;00m\n\u001b[1;32m   1687\u001b[0m kwargs \u001b[38;5;241m=\u001b[39m cbook\u001b[38;5;241m.\u001b[39mnormalize_kwargs(kwargs, mlines\u001b[38;5;241m.\u001b[39mLine2D)\n\u001b[0;32m-> 1688\u001b[0m lines \u001b[38;5;241m=\u001b[39m [\u001b[38;5;241m*\u001b[39m\u001b[38;5;28mself\u001b[39m\u001b[38;5;241m.\u001b[39m_get_lines(\u001b[38;5;241m*\u001b[39margs, data\u001b[38;5;241m=\u001b[39mdata, \u001b[38;5;241m*\u001b[39m\u001b[38;5;241m*\u001b[39mkwargs)]\n\u001b[1;32m   1689\u001b[0m \u001b[38;5;28;01mfor\u001b[39;00m line \u001b[38;5;129;01min\u001b[39;00m lines:\n\u001b[1;32m   1690\u001b[0m     \u001b[38;5;28mself\u001b[39m\u001b[38;5;241m.\u001b[39madd_line(line)\n",
      "File \u001b[0;32m~/miniconda3/envs/cemracs/lib/python3.11/site-packages/matplotlib/axes/_base.py:311\u001b[0m, in \u001b[0;36m_process_plot_var_args.__call__\u001b[0;34m(self, data, *args, **kwargs)\u001b[0m\n\u001b[1;32m    309\u001b[0m     this \u001b[38;5;241m+\u001b[39m\u001b[38;5;241m=\u001b[39m args[\u001b[38;5;241m0\u001b[39m],\n\u001b[1;32m    310\u001b[0m     args \u001b[38;5;241m=\u001b[39m args[\u001b[38;5;241m1\u001b[39m:]\n\u001b[0;32m--> 311\u001b[0m \u001b[38;5;28;01myield from\u001b[39;00m \u001b[38;5;28mself\u001b[39m\u001b[38;5;241m.\u001b[39m_plot_args(\n\u001b[1;32m    312\u001b[0m     this, kwargs, ambiguous_fmt_datakey\u001b[38;5;241m=\u001b[39mambiguous_fmt_datakey)\n",
      "File \u001b[0;32m~/miniconda3/envs/cemracs/lib/python3.11/site-packages/matplotlib/axes/_base.py:504\u001b[0m, in \u001b[0;36m_process_plot_var_args._plot_args\u001b[0;34m(self, tup, kwargs, return_kwargs, ambiguous_fmt_datakey)\u001b[0m\n\u001b[1;32m    501\u001b[0m     \u001b[38;5;28mself\u001b[39m\u001b[38;5;241m.\u001b[39maxes\u001b[38;5;241m.\u001b[39myaxis\u001b[38;5;241m.\u001b[39mupdate_units(y)\n\u001b[1;32m    503\u001b[0m \u001b[38;5;28;01mif\u001b[39;00m x\u001b[38;5;241m.\u001b[39mshape[\u001b[38;5;241m0\u001b[39m] \u001b[38;5;241m!=\u001b[39m y\u001b[38;5;241m.\u001b[39mshape[\u001b[38;5;241m0\u001b[39m]:\n\u001b[0;32m--> 504\u001b[0m     \u001b[38;5;28;01mraise\u001b[39;00m \u001b[38;5;167;01mValueError\u001b[39;00m(\u001b[38;5;124mf\u001b[39m\u001b[38;5;124m\"\u001b[39m\u001b[38;5;124mx and y must have same first dimension, but \u001b[39m\u001b[38;5;124m\"\u001b[39m\n\u001b[1;32m    505\u001b[0m                      \u001b[38;5;124mf\u001b[39m\u001b[38;5;124m\"\u001b[39m\u001b[38;5;124mhave shapes \u001b[39m\u001b[38;5;132;01m{\u001b[39;00mx\u001b[38;5;241m.\u001b[39mshape\u001b[38;5;132;01m}\u001b[39;00m\u001b[38;5;124m and \u001b[39m\u001b[38;5;132;01m{\u001b[39;00my\u001b[38;5;241m.\u001b[39mshape\u001b[38;5;132;01m}\u001b[39;00m\u001b[38;5;124m\"\u001b[39m)\n\u001b[1;32m    506\u001b[0m \u001b[38;5;28;01mif\u001b[39;00m x\u001b[38;5;241m.\u001b[39mndim \u001b[38;5;241m>\u001b[39m \u001b[38;5;241m2\u001b[39m \u001b[38;5;129;01mor\u001b[39;00m y\u001b[38;5;241m.\u001b[39mndim \u001b[38;5;241m>\u001b[39m \u001b[38;5;241m2\u001b[39m:\n\u001b[1;32m    507\u001b[0m     \u001b[38;5;28;01mraise\u001b[39;00m \u001b[38;5;167;01mValueError\u001b[39;00m(\u001b[38;5;124mf\u001b[39m\u001b[38;5;124m\"\u001b[39m\u001b[38;5;124mx and y can be no greater than 2D, but have \u001b[39m\u001b[38;5;124m\"\u001b[39m\n\u001b[1;32m    508\u001b[0m                      \u001b[38;5;124mf\u001b[39m\u001b[38;5;124m\"\u001b[39m\u001b[38;5;124mshapes \u001b[39m\u001b[38;5;132;01m{\u001b[39;00mx\u001b[38;5;241m.\u001b[39mshape\u001b[38;5;132;01m}\u001b[39;00m\u001b[38;5;124m and \u001b[39m\u001b[38;5;132;01m{\u001b[39;00my\u001b[38;5;241m.\u001b[39mshape\u001b[38;5;132;01m}\u001b[39;00m\u001b[38;5;124m\"\u001b[39m)\n",
      "\u001b[0;31mValueError\u001b[0m: x and y must have same first dimension, but have shapes torch.Size([5]) and torch.Size([7])"
     ]
    },
    {
     "data": {
      "image/png": "[encoded data removed]",
      "text/plain": [
       "<Figure size 432x288 with 1 Axes>"
      ]
     },
     "metadata": {
      "needs_background": "light"
     },
     "output_type": "display_data"
    }
   ],
   "source": [
    "plt.plot(x, f)\n",
    "plt.plot(x, fp)"
   ]
  },
  {
   "cell_type": "code",
   "execution_count": 44,
   "id": "c934434b-e1e4-4387-8a38-5d0f342f423b",
   "metadata": {
    "tags": []
   },
   "outputs": [],
   "source": [
    "x = torch.nn.functional.pad(x, [0, pad])"
   ]
  },
  {
   "cell_type": "code",
   "execution_count": 45,
   "id": "941bf881-e4b7-43d6-94a0-c4981eac480b",
   "metadata": {
    "tags": []
   },
   "outputs": [
    {
     "data": {
      "text/plain": [
       "tensor([[ 1.2116+0.0000j,  0.3583-0.8532j, -0.4949+0.0000j],\n",
       "        [ 1.5786+0.0000j,  0.9213-0.6573j,  0.2640+0.0000j]])"
      ]
     },
     "execution_count": 45,
     "metadata": {},
     "output_type": "execute_result"
    }
   ],
   "source": [
    "torch.fft.rfft(x)"
   ]
  },
  {
   "cell_type": "code",
   "execution_count": 37,
   "id": "5c46f680-0dcc-4744-82bf-a78669783f82",
   "metadata": {
    "tags": []
   },
   "outputs": [
    {
     "data": {
      "text/plain": [
       "torch.Size([2, 4])"
      ]
     },
     "execution_count": 37,
     "metadata": {},
     "output_type": "execute_result"
    }
   ],
   "source": [
    "x.shape"
   ]
  },
  {
   "cell_type": "code",
   "execution_count": 163,
   "id": "928bb99a-62e7-48bb-b22a-3468c3c95a92",
   "metadata": {
    "tags": []
   },
   "outputs": [],
   "source": [
    "x = torch.rand(2, 3, 10)"
   ]
  },
  {
   "cell_type": "code",
   "execution_count": 164,
   "id": "cad93325-e822-4c1c-973a-562553fee68d",
   "metadata": {
    "tags": []
   },
   "outputs": [
    {
     "data": {
      "text/plain": [
       "torch.Size([2, 3, 6])"
      ]
     },
     "execution_count": 164,
     "metadata": {},
     "output_type": "execute_result"
    }
   ],
   "source": [
    "torch.fft.rfft(x).shape"
   ]
  },
  {
   "cell_type": "code",
   "execution_count": null,
   "id": "77855529-9265-4a6f-9aa1-c304bb26ef30",
   "metadata": {},
   "outputs": [],
   "source": []
  }
 ],
 "metadata": {
  "kernelspec": {
   "display_name": "cemracs",
   "language": "python",
   "name": "cemracs"
  },
  "language_info": {
   "codemirror_mode": {
    "name": "ipython",
    "version": 3
   },
   "file_extension": ".py",
   "mimetype": "text/x-python",
   "name": "python",
   "nbconvert_exporter": "python",
   "pygments_lexer": "ipython3",
   "version": "3.11.4"
  }
 },
 "nbformat": 4,
 "nbformat_minor": 5
}
