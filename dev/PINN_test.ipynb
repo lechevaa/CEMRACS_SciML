{
 "cells": [
  {
   "cell_type": "code",
   "execution_count": 1,
   "id": "387d027c-54bf-471d-bf36-a518a2344b7b",
   "metadata": {
    "tags": []
   },
   "outputs": [],
   "source": [
    "import sys\n",
    "sys.path.insert(1, '../')"
   ]
  },
  {
   "cell_type": "code",
   "execution_count": 2,
   "id": "0108b1ae-a248-43fc-bf1e-a99132ee7a84",
   "metadata": {
    "tags": []
   },
   "outputs": [],
   "source": [
    "import matplotlib.pyplot as plt"
   ]
  },
  {
   "cell_type": "code",
   "execution_count": 3,
   "id": "a797a6bf-78fe-4ed5-9af9-fc882633ee74",
   "metadata": {
    "tags": []
   },
   "outputs": [],
   "source": [
    "from methods.DataDrivenMethods import DDMethod\n",
    "from solvers.Solver import Solver\n",
    "import numpy as np\n",
    "from sklearn.model_selection import train_test_split\n",
    "import torch"
   ]
  },
  {
   "cell_type": "code",
   "execution_count": 4,
   "id": "ffd3a1e8-5c68-4f51-a7b0-4af938ba7e16",
   "metadata": {
    "tags": []
   },
   "outputs": [],
   "source": [
    "device = torch.device('cuda' if torch.cuda.is_available() else 'cpu')\n",
    "#device = torch.device('cpu')"
   ]
  },
  {
   "cell_type": "code",
   "execution_count": 5,
   "id": "1aa948ec-8c1e-4955-b677-1738adf5e533",
   "metadata": {
    "tags": []
   },
   "outputs": [
    {
     "data": {
      "text/plain": [
       "device(type='cuda')"
      ]
     },
     "execution_count": 5,
     "metadata": {},
     "output_type": "execute_result"
    }
   ],
   "source": [
    "device"
   ]
  },
  {
   "cell_type": "code",
   "execution_count": 6,
   "id": "34bffc22-229a-444d-980e-246f253b42db",
   "metadata": {
    "tags": []
   },
   "outputs": [],
   "source": [
    "nx = 101"
   ]
  },
  {
   "cell_type": "code",
   "execution_count": 7,
   "id": "de4270ce-b9f0-4b09-98d1-c4fda87e5aea",
   "metadata": {
    "tags": []
   },
   "outputs": [],
   "source": [
    "params_solver = {'equation': 'Poisson', \n",
    "                 'domain': [0, 1], \n",
    "                 'D': 0.1,\n",
    "                 'nx': nx,\n",
    "                 'source term' : lambda x : np.ones_like(x)}"
   ]
  },
  {
   "cell_type": "code",
   "execution_count": 8,
   "id": "57afb2dd-3047-48f3-88a9-b2f70b7aa0be",
   "metadata": {
    "tags": []
   },
   "outputs": [],
   "source": [
    "params_method = {'layer_dims': [2, 20, 20, 20, 1],\n",
    "                 'activations': 'tanh', \n",
    "                 'device': device, \n",
    "                 'seed': 123, \n",
    "                 'method_name': 'PINN'}"
   ]
  },
  {
   "cell_type": "code",
   "execution_count": 9,
   "id": "69cb2439-4f06-4330-82be-1639519dea5d",
   "metadata": {
    "tags": []
   },
   "outputs": [],
   "source": [
    "params = {'solver' : params_solver, 'method' : params_method}\n",
    "solver = Solver(params=params)"
   ]
  },
  {
   "cell_type": "code",
   "execution_count": 10,
   "id": "632a2cfa-9c33-45c2-ae13-ec3cde164e74",
   "metadata": {
    "tags": []
   },
   "outputs": [],
   "source": [
    "model = DDMethod(params=params)"
   ]
  },
  {
   "cell_type": "code",
   "execution_count": 11,
   "id": "758faabb-27bf-4a3f-bd73-468c4ad3d7b7",
   "metadata": {
    "tags": []
   },
   "outputs": [],
   "source": [
    "Dmin, Dmax = 1, 10\n",
    "num_D = 1000\n",
    "\n",
    "D_list = (Dmax - Dmin)* np.random.rand(num_D, 1) + Dmin"
   ]
  },
  {
   "cell_type": "code",
   "execution_count": 12,
   "id": "343b2594-2cb3-4a8e-90b9-cd0738d58489",
   "metadata": {
    "tags": []
   },
   "outputs": [],
   "source": [
    "U_sols = []\n",
    "\n",
    "for d in D_list:\n",
    "    solver.change_D(new_D=d)\n",
    "    U_sols.append(solver.solve())\n",
    "\n",
    "U_sols = np.stack(U_sols)"
   ]
  },
  {
   "cell_type": "code",
   "execution_count": 13,
   "id": "d47278a4-ea92-4577-a1ee-ae26018c8ee7",
   "metadata": {
    "tags": []
   },
   "outputs": [],
   "source": [
    "d_train, d_val, u_train, u_val = train_test_split(D_list, U_sols, test_size=0.2, random_state=123)"
   ]
  },
  {
   "cell_type": "code",
   "execution_count": 14,
   "id": "bf9add0e-01a6-49d5-bd4a-0e3e16f25b2b",
   "metadata": {
    "tags": []
   },
   "outputs": [
    {
     "data": {
      "text/plain": [
       "(800, 1)"
      ]
     },
     "execution_count": 14,
     "metadata": {},
     "output_type": "execute_result"
    }
   ],
   "source": [
    "d_train.shape"
   ]
  },
  {
   "cell_type": "code",
   "execution_count": 15,
   "id": "6da57c5d-7b72-47f7-9a38-eebeb12a07d1",
   "metadata": {
    "tags": []
   },
   "outputs": [],
   "source": [
    "D_train_repeated = torch.Tensor(d_train.repeat(nx, 1).reshape(-1, 1))\n",
    "D_val_repeated = torch.Tensor(d_val.repeat(nx, 1).reshape(-1, 1))"
   ]
  },
  {
   "cell_type": "code",
   "execution_count": 16,
   "id": "356d73bb-1b55-4bdd-ac51-3cbbf7977095",
   "metadata": {
    "tags": []
   },
   "outputs": [],
   "source": [
    "x = torch.Tensor(solver.x).view(-1, 1)\n",
    "X_train = x.repeat(d_train.shape[0], 1)\n",
    "X_val = x.repeat(d_val.shape[0], 1)"
   ]
  },
  {
   "cell_type": "code",
   "execution_count": 17,
   "id": "e8745f40-b961-443e-980a-cc1fcfc12c68",
   "metadata": {
    "tags": []
   },
   "outputs": [],
   "source": [
    "DX_train = torch.cat((D_train_repeated, X_train), dim=1)\n",
    "DX_val = torch.cat((D_val_repeated, X_val), dim=1)\n",
    "U_train = torch.Tensor(u_train).view(-1, 1)\n",
    "U_val = torch.Tensor(u_val).view(-1, 1)"
   ]
  },
  {
   "cell_type": "code",
   "execution_count": 18,
   "id": "db05cad5-6836-407d-937a-544bbdbd5aed",
   "metadata": {
    "tags": []
   },
   "outputs": [
    {
     "data": {
      "text/plain": [
       "torch.Size([80800, 2])"
      ]
     },
     "execution_count": 18,
     "metadata": {},
     "output_type": "execute_result"
    }
   ],
   "source": [
    "DX_train.shape"
   ]
  },
  {
   "cell_type": "code",
   "execution_count": 19,
   "id": "7058abfd-a08c-45bf-a435-16a83ad09b59",
   "metadata": {
    "tags": []
   },
   "outputs": [],
   "source": [
    "hyperparameters = {'lr': 1e-3, 'epochs': 10000, 'optimizer': 'Adam', 'batch_size': 80800}"
   ]
  },
  {
   "cell_type": "code",
   "execution_count": 20,
   "id": "0607eff3-270d-4574-a3c8-1f7761a95895",
   "metadata": {
    "tags": []
   },
   "outputs": [
    {
     "name": "stdout",
     "output_type": "stream",
     "text": [
      "Fitting PINN\n"
     ]
    },
    {
     "name": "stderr",
     "output_type": "stream",
     "text": [
      "[tr : 2.9e-06, val : 9.9e-08]: 100%|\u001b[34m██████\u001b[0m| 10000/10000 [02:16<00:00, 73.20it/s]\u001b[0m"
     ]
    },
    {
     "name": "stdout",
     "output_type": "stream",
     "text": [
      "PINN fitted\n"
     ]
    },
    {
     "name": "stderr",
     "output_type": "stream",
     "text": [
      "\n"
     ]
    }
   ],
   "source": [
    "model.fit(hyperparameters=hyperparameters, \n",
    "          DX_train=DX_train, \n",
    "          DX_val=DX_val,\n",
    "          U_train=U_train, \n",
    "          U_val=U_val,\n",
    "          data_ratio = 0.,\n",
    "          physics_ratio = 1.)"
   ]
  },
  {
   "cell_type": "raw",
   "id": "1ad25d7b-7620-4d4c-aeec-60bf19102b24",
   "metadata": {
    "tags": []
   },
   "source": [
    "D = torch.Tensor([6]*101).view(-1, 1).to(device)\n",
    "x_domain = torch.linspace(0, 1, 101).view(-1, 1).to(device)"
   ]
  },
  {
   "cell_type": "raw",
   "id": "f2bb93e5-1ecf-473d-87b8-5358bc5df3c3",
   "metadata": {
    "tags": []
   },
   "source": [
    "test = model._method.forward(D, x_domain).detach().cpu().numpy()"
   ]
  },
  {
   "cell_type": "raw",
   "id": "456728d4-72a6-4caa-89a4-c3f4d4b88edb",
   "metadata": {
    "tags": []
   },
   "source": [
    "D_list"
   ]
  },
  {
   "cell_type": "code",
   "execution_count": 21,
   "id": "62e10125-4574-41fb-997a-23c0bf5c4e46",
   "metadata": {
    "tags": []
   },
   "outputs": [],
   "source": [
    "test = model.apply_method([8.17453295])"
   ]
  },
  {
   "cell_type": "code",
   "execution_count": 22,
   "id": "82ebd18e-8116-40f8-b51d-8e4ebb50f7cd",
   "metadata": {
    "tags": []
   },
   "outputs": [
    {
     "data": {
      "image/png": "[encoded data removed]",
      "text/plain": [
       "<Figure size 720x720 with 1 Axes>"
      ]
     },
     "metadata": {
      "needs_background": "light"
     },
     "output_type": "display_data"
    }
   ],
   "source": [
    "fig, ax = plt.subplots(1, 1, figsize=(10, 10))\n",
    "# model\n",
    "\n",
    "solver.change_D(new_D=8.17453295)\n",
    "U_FD = solver.solve()\n",
    "\n",
    "plt.plot(solver.x, U_FD, '--', label=f'FD: {np.linalg.norm(U_FD, 2):.2e}')\n",
    "plt.plot(solver.x, test, label=f'PINN')\n",
    "plt.legend()\n",
    "plt.show()"
   ]
  },
  {
   "cell_type": "code",
   "execution_count": 27,
   "id": "b5e99b2a-a6df-482f-8619-7ddc249feacd",
   "metadata": {},
   "outputs": [
    {
     "data": {
      "image/png": "[encoded data removed]",
      "text/plain": [
       "<Figure size 432x288 with 1 Axes>"
      ]
     },
     "metadata": {
      "needs_background": "light"
     },
     "output_type": "display_data"
    }
   ],
   "source": [
    "plt.yscale('log')\n",
    "\n",
    "plt.plot(model._method._losses['train']['data'], label = 'dd')\n",
    "plt.plot(model._method._losses['train']['residual'], label = 'res')\n",
    "plt.plot(model._method._losses['train']['ic_bc'], label = 'ic_bc')\n",
    "\n",
    "#plt.plot(model._method._losses['val'], label = 'val')\n",
    "\n",
    "plt.legend()\n",
    "plt.show()"
   ]
  },
  {
   "cell_type": "raw",
   "id": "7eef21f3-81c0-48ea-b11e-9807da0af920",
   "metadata": {
    "tags": []
   },
   "source": [
    "model._method._losses['train']['data']"
   ]
  },
  {
   "cell_type": "code",
   "execution_count": 37,
   "id": "9f316ba7-bfdb-4407-80cd-39b491b0d974",
   "metadata": {},
   "outputs": [],
   "source": [
    "d = torch.rand(3, 2)"
   ]
  },
  {
   "cell_type": "code",
   "execution_count": 38,
   "id": "9b1f5a2f-2102-4c3a-bd78-62dda949ff99",
   "metadata": {
    "tags": []
   },
   "outputs": [
    {
     "data": {
      "text/plain": [
       "3"
      ]
     },
     "execution_count": 38,
     "metadata": {},
     "output_type": "execute_result"
    }
   ],
   "source": [
    "len(d)"
   ]
  },
  {
   "cell_type": "code",
   "execution_count": 36,
   "id": "417db554-832b-43ac-b3f7-eb4ed0900a14",
   "metadata": {
    "tags": []
   },
   "outputs": [
    {
     "data": {
      "text/plain": [
       "tensor([[0.1730],\n",
       "        [0.1730],\n",
       "        [0.1730],\n",
       "        [0.3308],\n",
       "        [0.3308],\n",
       "        [0.3308],\n",
       "        [0.9275],\n",
       "        [0.9275],\n",
       "        [0.9275]])"
      ]
     },
     "execution_count": 36,
     "metadata": {},
     "output_type": "execute_result"
    }
   ],
   "source": [
    "d.repeat(1, 3).view(-1, 1)"
   ]
  },
  {
   "cell_type": "code",
   "execution_count": 39,
   "id": "87864702-f7f5-49c6-9b97-d11fa419964c",
   "metadata": {
    "tags": []
   },
   "outputs": [],
   "source": [
    "a = 0\n",
    "b = 0."
   ]
  },
  {
   "cell_type": "code",
   "execution_count": 40,
   "id": "930af569-f725-4f38-953b-0397ad46f2c1",
   "metadata": {
    "tags": []
   },
   "outputs": [
    {
     "data": {
      "text/plain": [
       "True"
      ]
     },
     "execution_count": 40,
     "metadata": {},
     "output_type": "execute_result"
    }
   ],
   "source": [
    "a == b"
   ]
  },
  {
   "cell_type": "code",
   "execution_count": null,
   "id": "8f0ae517-d6db-46ba-884f-2a29587dc92d",
   "metadata": {},
   "outputs": [],
   "source": []
  }
 ],
 "metadata": {
  "kernelspec": {
   "display_name": "cemracs",
   "language": "python",
   "name": "cemracs"
  },
  "language_info": {
   "codemirror_mode": {
    "name": "ipython",
    "version": 3
   },
   "file_extension": ".py",
   "mimetype": "text/x-python",
   "name": "python",
   "nbconvert_exporter": "python",
   "pygments_lexer": "ipython3",
   "version": "3.11.4"
  }
 },
 "nbformat": 4,
 "nbformat_minor": 5
}
