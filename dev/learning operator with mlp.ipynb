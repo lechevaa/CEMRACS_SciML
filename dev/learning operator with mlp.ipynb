{
 "cells": [
  {
   "cell_type": "code",
   "execution_count": 1,
   "id": "1a3d9dd1-0e1b-4f35-8fa9-a048591cf1e8",
   "metadata": {
    "tags": []
   },
   "outputs": [],
   "source": [
    "import numpy as np\n",
    "import matplotlib.pyplot as plt\n",
    "import torch"
   ]
  },
  {
   "cell_type": "code",
   "execution_count": 2,
   "id": "25f7d78d-483c-4683-92d8-8a85aa29ee2a",
   "metadata": {
    "tags": []
   },
   "outputs": [],
   "source": [
    "from tqdm import tqdm"
   ]
  },
  {
   "cell_type": "code",
   "execution_count": 3,
   "id": "a63c6470-262f-433c-996b-69d9e9190c68",
   "metadata": {},
   "outputs": [],
   "source": [
    "from neural_networks import feedforward"
   ]
  },
  {
   "cell_type": "markdown",
   "id": "552ebe16-eeca-4e9e-9e1c-123e6ee2feba",
   "metadata": {},
   "source": [
    "Consider the operator \n",
    "$$\n",
    "G : D\\in [D_{min}, D_{max}] \\mapsto \\mathbf{u}_D\n",
    "$$\n",
    "where $\\mathbf{u}$ is the solution of the parametric heat equation \n",
    "$$\n",
    "D\\Delta \\mathbf{u} = 1\n",
    "$$"
   ]
  },
  {
   "cell_type": "code",
   "execution_count": 4,
   "id": "b3e92f44-afa4-4dcf-bea7-a63a062ef3a4",
   "metadata": {
    "tags": []
   },
   "outputs": [
    {
     "data": {
      "text/plain": [
       "device(type='cuda')"
      ]
     },
     "execution_count": 4,
     "metadata": {},
     "output_type": "execute_result"
    }
   ],
   "source": [
    "device = torch.device('cuda' if torch.cuda.is_available() else 'cpu')\n",
    "device"
   ]
  },
  {
   "cell_type": "code",
   "execution_count": 5,
   "id": "172adaea-b894-4607-9b5e-0e4c9e5ca244",
   "metadata": {
    "tags": []
   },
   "outputs": [],
   "source": [
    "nx = 100"
   ]
  },
  {
   "cell_type": "code",
   "execution_count": 6,
   "id": "d5764414-ee12-4aec-aa1e-1963d6cdc367",
   "metadata": {
    "tags": []
   },
   "outputs": [],
   "source": [
    "layers = [1] + 3*[nx] + [nx]\n",
    "activations = 'tanh'"
   ]
  },
  {
   "cell_type": "code",
   "execution_count": 8,
   "id": "2d2bd16e-be01-44be-aa21-a0e94296ff42",
   "metadata": {
    "tags": []
   },
   "outputs": [
    {
     "name": "stdout",
     "output_type": "stream",
     "text": [
      "feedforward(\n",
      "  (layers): ModuleList(\n",
      "    (0): Linear(in_features=1, out_features=100, bias=True)\n",
      "    (1-3): 3 x Linear(in_features=100, out_features=100, bias=True)\n",
      "  )\n",
      ")\n",
      "device : cuda\n"
     ]
    }
   ],
   "source": [
    "model = feedforward(layers, activations, seed=123)"
   ]
  },
  {
   "cell_type": "code",
   "execution_count": 9,
   "id": "37f4b3c0-79c9-44df-9a87-f539d3592bf5",
   "metadata": {
    "tags": []
   },
   "outputs": [],
   "source": [
    "def loss_fn(x, y = 0):\n",
    "    return torch.square(y - x).mean()"
   ]
  },
  {
   "cell_type": "code",
   "execution_count": 10,
   "id": "c23ca076-e6f0-4971-a596-3d9738969e6b",
   "metadata": {
    "tags": []
   },
   "outputs": [],
   "source": [
    "optimizer = torch.optim.Adam(model.parameters(), lr = 1e-3)"
   ]
  },
  {
   "cell_type": "markdown",
   "id": "93037dd9-c43f-4b49-87ca-01031e9368a8",
   "metadata": {},
   "source": [
    "# Training data :"
   ]
  },
  {
   "cell_type": "code",
   "execution_count": 11,
   "id": "a5e03e75-bb25-4389-9b79-aab6e57ff703",
   "metadata": {
    "tags": []
   },
   "outputs": [],
   "source": [
    "def chaleur(nx, D) :\n",
    "    \n",
    "    x = np.linspace(0, 1, nx)\n",
    "    dx = 1/(nx - 1)\n",
    "    A = -2 * np.eye(nx) + np.eye(nx, k = -1) + np.eye(nx, k = 1) \n",
    "    b = - (dx**2 / D)* np.ones(nx)\n",
    "    \n",
    "    return x, np.linalg.solve(A, b)"
   ]
  },
  {
   "cell_type": "code",
   "execution_count": 12,
   "id": "08e48c8b-a64d-441f-be8f-3295648c47b5",
   "metadata": {
    "tags": []
   },
   "outputs": [],
   "source": [
    "D = np.linspace(0.1, 1, 1000)"
   ]
  },
  {
   "cell_type": "code",
   "execution_count": 13,
   "id": "a8ed0826-1871-423d-8a92-1027dc5b1504",
   "metadata": {
    "tags": []
   },
   "outputs": [
    {
     "name": "stdout",
     "output_type": "stream",
     "text": [
      "CPU times: user 87.1 ms, sys: 0 ns, total: 87.1 ms\n",
      "Wall time: 86.8 ms\n"
     ]
    }
   ],
   "source": [
    "%%time\n",
    "\n",
    "U = []\n",
    "\n",
    "for d in D : \n",
    "    x, u = chaleur(nx, d)\n",
    "    U.append(u)"
   ]
  },
  {
   "cell_type": "code",
   "execution_count": 14,
   "id": "e0e67a46-56c0-48f3-9404-10df008dd3d0",
   "metadata": {
    "tags": []
   },
   "outputs": [
    {
     "data": {
      "text/plain": [
       "(1000, 100)"
      ]
     },
     "execution_count": 14,
     "metadata": {},
     "output_type": "execute_result"
    }
   ],
   "source": [
    "U = np.stack(U)\n",
    "U.shape"
   ]
  },
  {
   "cell_type": "code",
   "execution_count": 15,
   "id": "ac3d0e31-4456-4fe7-a84d-1e8e08b5f76b",
   "metadata": {
    "tags": []
   },
   "outputs": [],
   "source": [
    "D = torch.Tensor(D).view(-1, 1).to(device)\n",
    "U = torch.Tensor(U).to(device)"
   ]
  },
  {
   "cell_type": "markdown",
   "id": "df2d24ae-435b-41fd-ab40-2c935ed5c63d",
   "metadata": {},
   "source": [
    "# Training"
   ]
  },
  {
   "cell_type": "code",
   "execution_count": 16,
   "id": "b05599e4-9858-4a3c-960d-ea7c9bead06a",
   "metadata": {
    "tags": []
   },
   "outputs": [],
   "source": [
    "num_epochs = 10000"
   ]
  },
  {
   "cell_type": "code",
   "execution_count": 17,
   "id": "33f3285d-67d6-4412-aaf4-12ea6064de7d",
   "metadata": {
    "tags": []
   },
   "outputs": [],
   "source": [
    "log = []"
   ]
  },
  {
   "cell_type": "code",
   "execution_count": 18,
   "id": "3b0fb908-c7e4-442e-8d4e-daeb85bedc3b",
   "metadata": {
    "tags": []
   },
   "outputs": [
    {
     "name": "stderr",
     "output_type": "stream",
     "text": [
      "loss : 1.34e-06: 100%|\u001b[34m██████████████████████████████████████████████████████████████████████████████████████████████████████████████████████████████████████████████\u001b[0m| 10001/10001 [00:15<00:00, 650.17it/s]\u001b[0m"
     ]
    },
    {
     "name": "stdout",
     "output_type": "stream",
     "text": [
      "CPU times: user 15.3 s, sys: 1.13 s, total: 16.5 s\n",
      "Wall time: 15.4 s\n"
     ]
    },
    {
     "name": "stderr",
     "output_type": "stream",
     "text": [
      "\n"
     ]
    }
   ],
   "source": [
    "%%time\n",
    "\n",
    "loading_bar = tqdm(range(num_epochs + 1), colour = 'blue')\n",
    "\n",
    "for ep in loading_bar :\n",
    "    \n",
    "    U_pred = model(D)\n",
    "    \n",
    "    loss = loss_fn(U_pred, U)\n",
    "    \n",
    "    loss.backward()\n",
    "\n",
    "    optimizer.step()\n",
    "\n",
    "    optimizer.zero_grad()\n",
    "    \n",
    "    log.append(loss.item())\n",
    "    \n",
    "    loading_bar.set_description('loss : %.2e'%(log[-1]))\n",
    "    \n",
    "    #if ep % 1000 == 0 :\n",
    "        #tqdm.write('epoch %d, loss: %.2e' %(ep, loss.item()))"
   ]
  },
  {
   "cell_type": "code",
   "execution_count": 20,
   "id": "a02a90c0-3c3e-462f-91ba-6b5c50631301",
   "metadata": {
    "tags": []
   },
   "outputs": [
    {
     "data": {
      "image/png": "[encoded data removed]",
      "text/plain": [
       "<Figure size 432x288 with 1 Axes>"
      ]
     },
     "metadata": {
      "needs_background": "light"
     },
     "output_type": "display_data"
    }
   ],
   "source": [
    "fig, ax = plt.subplots(1, 1)\n",
    "\n",
    "ax.grid(True)\n",
    "ax.set_yscale('log')\n",
    "ax.set_xlabel('Epoch', fontsize = 12, labelpad=15)\n",
    "#ax.ticklabel_format(style='sci', axis='x', scilimits=(3, 3))\n",
    "\n",
    "ax.plot(log, label = '$\\mathcal{L}$', alpha=.7)\n",
    "\n",
    "ax.legend()\n",
    "#plt.savefig('losse.pdf', bbox_inches ='tight')\n",
    "plt.show()"
   ]
  },
  {
   "cell_type": "code",
   "execution_count": 21,
   "id": "49b0a0db-580e-4597-9b4e-200f5b934cfd",
   "metadata": {
    "tags": []
   },
   "outputs": [],
   "source": [
    "U_pred = model(D).detach().cpu()\n",
    "U = U.detach().cpu()"
   ]
  },
  {
   "cell_type": "code",
   "execution_count": 22,
   "id": "53cdf8ef-75bd-4165-8224-5d9650c3525d",
   "metadata": {
    "tags": []
   },
   "outputs": [
    {
     "data": {
      "image/png": "[encoded data removed]",
      "text/plain": [
       "<Figure size 432x288 with 1 Axes>"
      ]
     },
     "metadata": {
      "needs_background": "light"
     },
     "output_type": "display_data"
    }
   ],
   "source": [
    "i = 10\n",
    "\n",
    "plt.plot(x, U[i], lw = 2, label = 'FD ')\n",
    "plt.plot(x, U_pred[i], 'r-.', lw = 3, alpha = .5, label = 'Net')\n",
    "\n",
    "plt.legend()\n",
    "plt.show()"
   ]
  },
  {
   "cell_type": "code",
   "execution_count": 23,
   "id": "6a654ea2-a81c-4827-9847-a69f1d3e1591",
   "metadata": {
    "tags": []
   },
   "outputs": [],
   "source": [
    "D_ = torch.tensor([2.], device = device)\n",
    "u_pred = model(D_)"
   ]
  },
  {
   "cell_type": "code",
   "execution_count": 24,
   "id": "58adaad2-95ee-4994-b794-261cbf240080",
   "metadata": {
    "tags": []
   },
   "outputs": [],
   "source": [
    "x, u = chaleur(nx, 2.) "
   ]
  },
  {
   "cell_type": "code",
   "execution_count": 25,
   "id": "3bc6196b-e3ce-4025-b6b6-98ca906a5ff2",
   "metadata": {
    "tags": []
   },
   "outputs": [
    {
     "data": {
      "image/png": "[encoded data removed]",
      "text/plain": [
       "<Figure size 432x288 with 1 Axes>"
      ]
     },
     "metadata": {
      "needs_background": "light"
     },
     "output_type": "display_data"
    }
   ],
   "source": [
    "plt.plot(x, u_pred.detach().cpu(), lw = 2, label = 'Net')\n",
    "plt.plot(x, u, 'r-.', lw = 3, alpha = .5, label = 'FD')\n",
    "\n",
    "plt.legend()\n",
    "plt.show()"
   ]
  },
  {
   "cell_type": "code",
   "execution_count": null,
   "id": "f3a282f3-3181-4e16-aeed-7836abc7a6fd",
   "metadata": {},
   "outputs": [],
   "source": []
  }
 ],
 "metadata": {
  "kernelspec": {
   "display_name": "cemracs",
   "language": "python",
   "name": "cemracs"
  },
  "language_info": {
   "codemirror_mode": {
    "name": "ipython",
    "version": 3
   },
   "file_extension": ".py",
   "mimetype": "text/x-python",
   "name": "python",
   "nbconvert_exporter": "python",
   "pygments_lexer": "ipython3",
   "version": "3.11.4"
  }
 },
 "nbformat": 4,
 "nbformat_minor": 5
}
