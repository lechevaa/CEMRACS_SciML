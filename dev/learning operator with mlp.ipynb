{
 "cells": [
  {
   "cell_type": "code",
   "execution_count": 1,
   "id": "1a3d9dd1-0e1b-4f35-8fa9-a048591cf1e8",
   "metadata": {
    "tags": []
   },
   "outputs": [],
   "source": [
    "import numpy as np\n",
    "import matplotlib.pyplot as plt\n",
    "import torch"
   ]
  },
  {
   "cell_type": "code",
   "execution_count": 2,
   "id": "25f7d78d-483c-4683-92d8-8a85aa29ee2a",
   "metadata": {
    "tags": []
   },
   "outputs": [],
   "source": [
    "from sklearn.model_selection import train_test_split\n",
    "from tqdm import tqdm"
   ]
  },
  {
   "cell_type": "code",
   "execution_count": 3,
   "id": "a63c6470-262f-433c-996b-69d9e9190c68",
   "metadata": {},
   "outputs": [],
   "source": [
    "from neural_networks import feedforward"
   ]
  },
  {
   "cell_type": "code",
   "execution_count": 4,
   "id": "3aae1220-f1ee-40fc-897a-17a1ac7a555a",
   "metadata": {
    "tags": []
   },
   "outputs": [],
   "source": [
    "from matplotlib import rc\n",
    "rc('text', usetex=True)\n",
    "rc('font', **{'family': 'serif', 'size' : 12})\n",
    "rc('figure', **{'figsize' : (5, 3)})"
   ]
  },
  {
   "cell_type": "markdown",
   "id": "552ebe16-eeca-4e9e-9e1c-123e6ee2feba",
   "metadata": {
    "tags": []
   },
   "source": [
    "# The problem \n",
    "Using an MLP we want to learn the following operator \n",
    "$$\n",
    "G : D\\in [D_{min}, D_{max}] \\mapsto \\mathbf{u}_D\n",
    "$$\n",
    "where $\\mathbf{u}_D$ is the solution of the parametric heat equation \n",
    "$$\n",
    "-D\\Delta \\mathbf{u} = 1\n",
    "$$"
   ]
  },
  {
   "cell_type": "code",
   "execution_count": 5,
   "id": "9ae4ce8f-9162-4cc7-82d2-f7de258806fe",
   "metadata": {
    "tags": []
   },
   "outputs": [],
   "source": [
    "Dmin = 0.1\n",
    "Dmax = 2"
   ]
  },
  {
   "cell_type": "markdown",
   "id": "93037dd9-c43f-4b49-87ca-01031e9368a8",
   "metadata": {
    "tags": []
   },
   "source": [
    "# Training data :"
   ]
  },
  {
   "cell_type": "code",
   "execution_count": 6,
   "id": "172adaea-b894-4607-9b5e-0e4c9e5ca244",
   "metadata": {
    "tags": []
   },
   "outputs": [],
   "source": [
    "# Number of grid points\n",
    "nx = 100"
   ]
  },
  {
   "cell_type": "code",
   "execution_count": 7,
   "id": "01ab2412-79a8-4c64-aeb3-6de8ca62038d",
   "metadata": {
    "tags": []
   },
   "outputs": [],
   "source": [
    "num_D = 1000\n",
    "D = (Dmax - Dmin)* np.random.rand(num_D, 1) + Dmin"
   ]
  },
  {
   "cell_type": "code",
   "execution_count": 8,
   "id": "a5e03e75-bb25-4389-9b79-aab6e57ff703",
   "metadata": {
    "tags": []
   },
   "outputs": [],
   "source": [
    "def chaleur(nx, D) :\n",
    "    \n",
    "    x = np.linspace(0, 1, nx)\n",
    "    dx = 1/(nx - 1)\n",
    "    A = -2 * np.eye(nx) + np.eye(nx, k = -1) + np.eye(nx, k = 1) \n",
    "    b = - (dx**2 / D)* np.ones(nx)\n",
    "    \n",
    "    return x, np.linalg.solve(A, b)"
   ]
  },
  {
   "cell_type": "code",
   "execution_count": 9,
   "id": "5ba6b18e-733b-4319-b081-5572eaf08572",
   "metadata": {
    "tags": []
   },
   "outputs": [],
   "source": [
    "U = []\n",
    "\n",
    "for d in D : \n",
    "    x, u = chaleur(nx, d)\n",
    "    U.append(u)\n",
    "    \n",
    "U = np.stack(U)"
   ]
  },
  {
   "cell_type": "code",
   "execution_count": 10,
   "id": "2d412f93-dabb-428f-be33-029943238527",
   "metadata": {
    "tags": []
   },
   "outputs": [],
   "source": [
    "D_train, D_test, U_train, U_test = train_test_split(D, U, train_size = 0.8)"
   ]
  },
  {
   "cell_type": "code",
   "execution_count": 11,
   "id": "62372d19-23b9-4e8a-bbf9-fbe1f92ef811",
   "metadata": {
    "tags": []
   },
   "outputs": [],
   "source": [
    "D_train, D_val, U_train, U_val = train_test_split(D_train, U_train, train_size = 0.8)"
   ]
  },
  {
   "cell_type": "code",
   "execution_count": 12,
   "id": "86a98a6a-51d7-4d35-b151-3ccebad39f07",
   "metadata": {
    "tags": []
   },
   "outputs": [
    {
     "name": "stdout",
     "output_type": "stream",
     "text": [
      "training data : (640, 1) (640, 100)\n",
      "validation data : (160, 1) (160, 100)\n",
      "test data : (200, 1) (200, 100)\n"
     ]
    }
   ],
   "source": [
    "print('training data :', D_train.shape, U_train.shape)\n",
    "print('validation data :', D_val.shape, U_val.shape)\n",
    "print('test data :', D_test.shape, U_test.shape)"
   ]
  },
  {
   "cell_type": "code",
   "execution_count": 13,
   "id": "23fc20bb-7d77-4363-b246-deb8019c59cb",
   "metadata": {
    "tags": []
   },
   "outputs": [
    {
     "data": {
      "text/plain": [
       "device(type='cuda')"
      ]
     },
     "execution_count": 13,
     "metadata": {},
     "output_type": "execute_result"
    }
   ],
   "source": [
    "device = torch.device('cuda' if torch.cuda.is_available() else 'cpu')\n",
    "device"
   ]
  },
  {
   "cell_type": "code",
   "execution_count": 14,
   "id": "ac3d0e31-4456-4fe7-a84d-1e8e08b5f76b",
   "metadata": {
    "tags": []
   },
   "outputs": [],
   "source": [
    "D_train = torch.Tensor(D_train).to(device)\n",
    "U_train = torch.Tensor(U_train).to(device)\n",
    "\n",
    "D_val = torch.Tensor(D_val).to(device)\n",
    "U_val = torch.Tensor(U_val).to(device)\n",
    "\n",
    "D_test = torch.Tensor(D_test).to(device)\n",
    "U_test = torch.Tensor(U_test).to(device)"
   ]
  },
  {
   "cell_type": "markdown",
   "id": "3bada637-5dbe-4bdc-b131-a9516d4076d3",
   "metadata": {},
   "source": [
    "# Model"
   ]
  },
  {
   "cell_type": "code",
   "execution_count": 15,
   "id": "d5764414-ee12-4aec-aa1e-1963d6cdc367",
   "metadata": {
    "tags": []
   },
   "outputs": [],
   "source": [
    "layers = [1] + 3*[nx] + [nx]\n",
    "activations = 'tanh'"
   ]
  },
  {
   "cell_type": "code",
   "execution_count": 16,
   "id": "2d2bd16e-be01-44be-aa21-a0e94296ff42",
   "metadata": {
    "tags": []
   },
   "outputs": [
    {
     "name": "stdout",
     "output_type": "stream",
     "text": [
      "feedforward(\n",
      "  (layers): ModuleList(\n",
      "    (0): Linear(in_features=1, out_features=100, bias=True)\n",
      "    (1-3): 3 x Linear(in_features=100, out_features=100, bias=True)\n",
      "  )\n",
      ")\n",
      "device : cuda\n"
     ]
    }
   ],
   "source": [
    "model = feedforward(layers, activations)"
   ]
  },
  {
   "cell_type": "code",
   "execution_count": 17,
   "id": "37f4b3c0-79c9-44df-9a87-f539d3592bf5",
   "metadata": {
    "tags": []
   },
   "outputs": [],
   "source": [
    "def loss_fn(x, y = 0):\n",
    "    return torch.square(y - x).mean()"
   ]
  },
  {
   "cell_type": "code",
   "execution_count": 18,
   "id": "c23ca076-e6f0-4971-a596-3d9738969e6b",
   "metadata": {
    "tags": []
   },
   "outputs": [],
   "source": [
    "lr = 1e-4\n",
    "optimizer = torch.optim.Adam(model.parameters(), lr = lr)"
   ]
  },
  {
   "cell_type": "markdown",
   "id": "df2d24ae-435b-41fd-ab40-2c935ed5c63d",
   "metadata": {},
   "source": [
    "# Training"
   ]
  },
  {
   "cell_type": "code",
   "execution_count": 19,
   "id": "b05599e4-9858-4a3c-960d-ea7c9bead06a",
   "metadata": {
    "tags": []
   },
   "outputs": [],
   "source": [
    "num_epochs = 10000"
   ]
  },
  {
   "cell_type": "code",
   "execution_count": 20,
   "id": "33f3285d-67d6-4412-aaf4-12ea6064de7d",
   "metadata": {
    "tags": []
   },
   "outputs": [],
   "source": [
    "log_train = []\n",
    "log_val = []"
   ]
  },
  {
   "cell_type": "code",
   "execution_count": 21,
   "id": "3b0fb908-c7e4-442e-8d4e-daeb85bedc3b",
   "metadata": {
    "tags": []
   },
   "outputs": [
    {
     "name": "stderr",
     "output_type": "stream",
     "text": [
      "training loss : 1.36e-06, validation loss : 1.29e-06: 100%|\u001b[34m█\u001b[0m| 10001/10001 [00:13\u001b[0m"
     ]
    },
    {
     "name": "stdout",
     "output_type": "stream",
     "text": [
      "CPU times: user 13 s, sys: 815 ms, total: 13.8 s\n",
      "Wall time: 13 s\n"
     ]
    },
    {
     "name": "stderr",
     "output_type": "stream",
     "text": [
      "\n"
     ]
    }
   ],
   "source": [
    "%%time\n",
    "\n",
    "loading_bar = tqdm(range(num_epochs + 1), colour = 'blue')\n",
    "\n",
    "for ep in loading_bar :\n",
    "    \n",
    "    with torch.no_grad():\n",
    "        U_val_pred = model(D_val)\n",
    "        loss_val = loss_fn(U_val_pred, U_val)\n",
    "        log_val.append(loss_val.item())\n",
    "    \n",
    "    U_train_pred = model(D_train)\n",
    "    \n",
    "    loss = loss_fn(U_train_pred, U_train)\n",
    "    \n",
    "    loss.backward()\n",
    "\n",
    "    optimizer.step()\n",
    "\n",
    "    optimizer.zero_grad()\n",
    "    \n",
    "    log_train.append(loss.item())\n",
    "    \n",
    "    loading_bar.set_description('training loss : %.2e, validation loss : %.2e'%(log_train[-1], log_val[-1]))"
   ]
  },
  {
   "cell_type": "code",
   "execution_count": 22,
   "id": "a02a90c0-3c3e-462f-91ba-6b5c50631301",
   "metadata": {
    "tags": []
   },
   "outputs": [
    {
     "data": {
      "image/png": "[encoded data removed]",
      "text/plain": [
       "<Figure size 432x288 with 1 Axes>"
      ]
     },
     "metadata": {
      "needs_background": "light"
     },
     "output_type": "display_data"
    }
   ],
   "source": [
    "fig, ax = plt.subplots(1, 1)\n",
    "\n",
    "ax.grid(True)\n",
    "ax.set_yscale('log')\n",
    "ax.set_xlabel('Epoch', fontsize = 12, labelpad=15)\n",
    "ax.plot(log_train, label = 'Training loss', alpha=.7)\n",
    "ax.plot(log_val, label = 'Validation loss', alpha=.7)\n",
    "\n",
    "ax.legend()\n",
    "plt.savefig('loss.pdf', bbox_inches ='tight')\n",
    "plt.show()"
   ]
  },
  {
   "cell_type": "markdown",
   "id": "77f71ce9-f90c-4651-ac27-375fc378870d",
   "metadata": {},
   "source": [
    "# Inside of distribution"
   ]
  },
  {
   "cell_type": "code",
   "execution_count": 23,
   "id": "0935949a-608d-4636-9602-9048eda758fc",
   "metadata": {
    "tags": []
   },
   "outputs": [],
   "source": [
    "U_test = U_test.detach().cpu().numpy()\n",
    "U_test_pred = model(D_test).detach().cpu().numpy()"
   ]
  },
  {
   "cell_type": "code",
   "execution_count": 24,
   "id": "a34b0b8a-cc15-4e1e-ab48-6a469722218e",
   "metadata": {
    "tags": []
   },
   "outputs": [],
   "source": [
    "U_test_pred_norm = np.linalg.norm(U_test_pred, 2, axis = 1)\n",
    "U_test_norm = np.linalg.norm(U_test, 2, axis = 1)"
   ]
  },
  {
   "cell_type": "code",
   "execution_count": 25,
   "id": "3e0a18d7-32d5-4a28-b695-31c7ac417912",
   "metadata": {
    "tags": []
   },
   "outputs": [
    {
     "data": {
      "image/png": "[encoded data removed]",
      "text/plain": [
       "<Figure size 432x288 with 1 Axes>"
      ]
     },
     "metadata": {
      "needs_background": "light"
     },
     "output_type": "display_data"
    }
   ],
   "source": [
    "plt.scatter(U_test_norm, U_test_pred_norm, s = 10)\n",
    "plt.plot(U_test_norm, U_test_norm, 'r--', alpha = .5)\n",
    "\n",
    "plt.ylabel('$\\|\\widehat{\\mathbf{u}}_D\\|_2$', fontsize = 12, labelpad=15)\n",
    "plt.xlabel('$\\|\\mathbf{u}_D\\|_2$', fontsize = 12, labelpad=15)\n",
    "\n",
    "#plt.legend()\n",
    "plt.savefig('parityplot.pdf', bbox_inches ='tight')\n",
    "plt.show()"
   ]
  },
  {
   "cell_type": "code",
   "execution_count": 26,
   "id": "0e6a74d5-daf6-4b36-b7d7-2e58b1568c86",
   "metadata": {
    "tags": []
   },
   "outputs": [
    {
     "data": {
      "image/png": "[encoded data removed]",
      "text/plain": [
       "<Figure size 432x288 with 1 Axes>"
      ]
     },
     "metadata": {
      "needs_background": "light"
     },
     "output_type": "display_data"
    }
   ],
   "source": [
    "i = 2\n",
    "\n",
    "plt.plot(x, U_test[i], lw = 2, label = 'Ground Truth')\n",
    "plt.plot(x, U_test_pred[i], 'r-.', lw = 3, alpha = .5, label = 'Prediction')\n",
    "\n",
    "\n",
    "plt.legend()\n",
    "plt.savefig('exemple_IOD.pdf', bbox_inches ='tight')\n",
    "plt.show()"
   ]
  },
  {
   "cell_type": "markdown",
   "id": "09fb06e4-37e4-493b-a050-aa6879d53416",
   "metadata": {
    "tags": []
   },
   "source": [
    "# Outside of distribution"
   ]
  },
  {
   "cell_type": "code",
   "execution_count": 27,
   "id": "42943359-821f-4fee-a1ad-04ef8b2bc96c",
   "metadata": {
    "tags": []
   },
   "outputs": [],
   "source": [
    "a = 2\n",
    "b = 3"
   ]
  },
  {
   "cell_type": "code",
   "execution_count": 28,
   "id": "259cf941-7066-4095-8361-f7d0da772330",
   "metadata": {
    "tags": []
   },
   "outputs": [],
   "source": [
    "D_od = (b - a)* np.random.rand(50, 1) + 2"
   ]
  },
  {
   "cell_type": "code",
   "execution_count": 29,
   "id": "5f58ea29-35f0-451a-b165-e8ac4c929e32",
   "metadata": {
    "tags": []
   },
   "outputs": [],
   "source": [
    "U_od = []\n",
    "\n",
    "for d in D_od : \n",
    "    x, u = chaleur(nx, d)\n",
    "    U_od.append(u)\n",
    "    \n",
    "U_od = np.stack(U_od)"
   ]
  },
  {
   "cell_type": "code",
   "execution_count": 30,
   "id": "2965986b-a920-427c-a5a9-496be1637320",
   "metadata": {
    "tags": []
   },
   "outputs": [],
   "source": [
    "U_od_pred = model(torch.Tensor(D_od).to(device)).detach().cpu()"
   ]
  },
  {
   "cell_type": "code",
   "execution_count": 31,
   "id": "7cb73b07-dfb5-4548-a9d4-6a08c4a257bc",
   "metadata": {
    "tags": []
   },
   "outputs": [],
   "source": [
    "U_od_pred_norm = np.linalg.norm(U_od_pred, 2, axis = 1)\n",
    "U_od_norm = np.linalg.norm(U_od, 2, axis = 1)"
   ]
  },
  {
   "cell_type": "code",
   "execution_count": 32,
   "id": "1104e30a-dab6-4b6c-8533-15d9cd6a7cbe",
   "metadata": {
    "tags": []
   },
   "outputs": [
    {
     "data": {
      "image/png": "[encoded data removed]",
      "text/plain": [
       "<Figure size 432x288 with 1 Axes>"
      ]
     },
     "metadata": {
      "needs_background": "light"
     },
     "output_type": "display_data"
    }
   ],
   "source": [
    "plt.scatter(U_od_norm, U_od_pred_norm, s = 10)\n",
    "plt.plot(U_od_norm, U_od_norm, 'r--', alpha = .5)\n",
    "\n",
    "plt.ylabel('$\\|\\widehat{\\mathbf{u}}_D\\|_2$', fontsize = 12, labelpad=15)\n",
    "plt.xlabel('$\\|\\mathbf{u}_D\\|_2$', fontsize = 12, labelpad=15)\n",
    "\n",
    "#plt.legend()\n",
    "plt.savefig('parityplot_OD.pdf', bbox_inches ='tight')\n",
    "plt.show()"
   ]
  },
  {
   "cell_type": "code",
   "execution_count": 33,
   "id": "d70f44c7-7afe-4f3f-ad11-8e15b7ab21a1",
   "metadata": {
    "tags": []
   },
   "outputs": [
    {
     "data": {
      "image/png": "[encoded data removed]",
      "text/plain": [
       "<Figure size 432x288 with 1 Axes>"
      ]
     },
     "metadata": {
      "needs_background": "light"
     },
     "output_type": "display_data"
    }
   ],
   "source": [
    "i = 2\n",
    "\n",
    "plt.plot(x, U_od[i], lw = 2, label = 'Ground Truth')\n",
    "plt.plot(x, U_od_pred[i], 'r-.', lw = 3, alpha = .5, label = 'Prediction')\n",
    "\n",
    "\n",
    "plt.legend()\n",
    "plt.savefig('exemple_OOD.pdf', bbox_inches ='tight')\n",
    "plt.show()"
   ]
  },
  {
   "cell_type": "code",
   "execution_count": null,
   "id": "f3a282f3-3181-4e16-aeed-7836abc7a6fd",
   "metadata": {},
   "outputs": [],
   "source": []
  }
 ],
 "metadata": {
  "kernelspec": {
   "display_name": "cemracs",
   "language": "python",
   "name": "cemracs"
  },
  "language_info": {
   "codemirror_mode": {
    "name": "ipython",
    "version": 3
   },
   "file_extension": ".py",
   "mimetype": "text/x-python",
   "name": "python",
   "nbconvert_exporter": "python",
   "pygments_lexer": "ipython3",
   "version": "3.11.4"
  }
 },
 "nbformat": 4,
 "nbformat_minor": 5
}
