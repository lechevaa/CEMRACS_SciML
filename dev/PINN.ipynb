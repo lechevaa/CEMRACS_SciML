{
 "cells": [
  {
   "cell_type": "code",
   "execution_count": 1,
   "id": "b7a36767-c3fb-4f64-8789-e8d27863bc0a",
   "metadata": {
    "tags": []
   },
   "outputs": [],
   "source": [
    "import numpy as np\n",
    "import scipy\n",
    "import matplotlib.pyplot as plt\n",
    "import torch"
   ]
  },
  {
   "cell_type": "code",
   "execution_count": 2,
   "id": "2f87965d-976a-43a7-a834-32b5089b0cb8",
   "metadata": {
    "tags": []
   },
   "outputs": [],
   "source": [
    "from sklearn.model_selection import train_test_split\n",
    "from tqdm import tqdm"
   ]
  },
  {
   "cell_type": "code",
   "execution_count": 3,
   "id": "6bdc8e0f-81ad-4c64-b1a9-c99a0d67b80d",
   "metadata": {
    "tags": []
   },
   "outputs": [],
   "source": [
    "from neural_networks import feedforward"
   ]
  },
  {
   "cell_type": "code",
   "execution_count": 4,
   "id": "c35aaaa7-32f8-447f-95ca-e24a6f1d2e89",
   "metadata": {
    "tags": []
   },
   "outputs": [],
   "source": [
    "from matplotlib import rc\n",
    "rc('text', usetex=True)\n",
    "rc('font', **{'family': 'serif', 'size' : 12})\n",
    "rc('figure', **{'figsize' : (5, 3)})"
   ]
  },
  {
   "cell_type": "code",
   "execution_count": 5,
   "id": "8885d934-d772-4a6b-931d-0c3ba7a44e80",
   "metadata": {
    "tags": []
   },
   "outputs": [
    {
     "data": {
      "text/plain": [
       "device(type='cuda')"
      ]
     },
     "execution_count": 5,
     "metadata": {},
     "output_type": "execute_result"
    }
   ],
   "source": [
    "device = torch.device('cuda' if torch.cuda.is_available() else 'cpu')\n",
    "device"
   ]
  },
  {
   "cell_type": "code",
   "execution_count": 6,
   "id": "c354e615-1053-46d8-8099-dcf6378af697",
   "metadata": {
    "tags": []
   },
   "outputs": [],
   "source": [
    "Dmin = 0.1\n",
    "Dmax = 2\n",
    "\n",
    "num_D = 1000\n",
    "nx = 100"
   ]
  },
  {
   "cell_type": "raw",
   "id": "34d8811b-22d2-4898-bf47-6110fac79d01",
   "metadata": {
    "tags": []
   },
   "source": [
    "D = (Dmax - Dmin)* torch.rand((num_D, 1), device = device) + Dmin\n",
    "x = torch.linspace(0, 1, nx, device = device)"
   ]
  },
  {
   "cell_type": "code",
   "execution_count": null,
   "id": "b7fd125b-98d5-4e46-ac30-4f7bc0b3b268",
   "metadata": {
    "tags": []
   },
   "outputs": [],
   "source": [
    "D_nn = D.repeat(1, nx).reshape(-1, 1)\n",
    "x_nn = x.repeat(num_D, 1).reshape(-1, 1)\n",
    "\n",
    "x_nn.requires_grad = True"
   ]
  },
  {
   "cell_type": "code",
   "execution_count": null,
   "id": "f7d664c9-5444-43f6-ae23-c918a4c59b66",
   "metadata": {
    "tags": []
   },
   "outputs": [],
   "source": [
    "print(D_nn.shape)\n",
    "print(x_nn.shape)"
   ]
  },
  {
   "cell_type": "markdown",
   "id": "f16c08e5-821f-495c-bfa3-f3850854c3c0",
   "metadata": {},
   "source": [
    "# Model"
   ]
  },
  {
   "cell_type": "code",
   "execution_count": 8,
   "id": "87df792c-6bd1-4adf-aa1d-a212e8087e73",
   "metadata": {
    "tags": []
   },
   "outputs": [],
   "source": [
    "layers = [2] + 4*[20] + [1]\n",
    "activations = 'tanh'"
   ]
  },
  {
   "cell_type": "raw",
   "id": "a6587738-a384-4a2e-aad5-fc181067a4e7",
   "metadata": {
    "tags": []
   },
   "source": [
    "pinn = feedforward(layers, activations)"
   ]
  },
  {
   "cell_type": "code",
   "execution_count": 12,
   "id": "b2b6bfe8-b29e-4c72-991c-0eba3c10d9eb",
   "metadata": {
    "tags": []
   },
   "outputs": [],
   "source": [
    "lr = 1e-3\n",
    "optimizer = torch.optim.Adam(pinn.parameters(), lr = lr)"
   ]
  },
  {
   "cell_type": "code",
   "execution_count": 13,
   "id": "e62338a6-45c6-4af1-a932-a078c659a6ed",
   "metadata": {
    "tags": []
   },
   "outputs": [],
   "source": [
    "def MSE(x, y = 0):\n",
    "    return torch.square(y - x).mean()"
   ]
  },
  {
   "cell_type": "code",
   "execution_count": 14,
   "id": "e1c4f007-f512-4593-8afe-ae5711b2bdc5",
   "metadata": {
    "tags": []
   },
   "outputs": [],
   "source": [
    "def pinn_losses(D, x) :\n",
    "    \n",
    "    Dx = torch.cat([D, x], dim = 1)\n",
    "    u  = pinn(Dx)\n",
    "    \n",
    "    u_x = torch.autograd.grad(u, x, torch.ones_like(u), \n",
    "                              create_graph=True, retain_graph=True, allow_unused=True)[0]\n",
    "    \n",
    "    u_xx = torch.autograd.grad(u_x, x, torch.ones_like(u_x), \n",
    "                               create_graph=True, retain_graph=True, allow_unused=True)[0]\n",
    "    \n",
    "    res = D* u_xx + 1\n",
    "    \n",
    "    x0 = torch.zeros_like(D)\n",
    "    x1 = torch.ones_like(D)\n",
    "    u0 = pinn(torch.cat([D, x0], dim = 1))\n",
    "    u1 = pinn(torch.cat([D, x1], dim = 1))\n",
    "    \n",
    "    return MSE(u0) + MSE(u1), MSE(res)"
   ]
  },
  {
   "cell_type": "code",
   "execution_count": 15,
   "id": "2af524d8-8b76-46d4-af00-25a7222c1cd5",
   "metadata": {
    "tags": []
   },
   "outputs": [],
   "source": [
    "log = []\n",
    "log_res = []\n",
    "log_b = []"
   ]
  },
  {
   "cell_type": "code",
   "execution_count": 16,
   "id": "cbe9b3b8-dfe1-43dc-9581-8417c784bfd8",
   "metadata": {
    "tags": []
   },
   "outputs": [
    {
     "name": "stderr",
     "output_type": "stream",
     "text": [
      "loss : 4.46e-06: 100%|\u001b[34m████████████████████\u001b[0m| 10001/10001 [03:54<00:00, 42.66it/s]\u001b[0m"
     ]
    },
    {
     "name": "stdout",
     "output_type": "stream",
     "text": [
      "CPU times: user 3min 52s, sys: 1.6 s, total: 3min 54s\n",
      "Wall time: 3min 54s\n"
     ]
    },
    {
     "name": "stderr",
     "output_type": "stream",
     "text": [
      "\n"
     ]
    }
   ],
   "source": [
    "%%time\n",
    "\n",
    "num_epochs = 10000\n",
    "loading_bar = tqdm(range(num_epochs + 1), colour = 'blue')\n",
    "\n",
    "for ep in loading_bar :\n",
    "    \n",
    "    L_b, L_res = pinn_losses(D_nn, x_nn)\n",
    "    \n",
    "    loss = L_b + L_res  \n",
    "    \n",
    "    loss.backward()\n",
    "    \n",
    "    optimizer.step()\n",
    "    \n",
    "    optimizer.zero_grad()\n",
    "    \n",
    "    log.append(loss.item())\n",
    "    log_res.append(L_res.item())\n",
    "    log_b.append(L_b.item())\n",
    "    \n",
    "    loading_bar.set_description('loss : %.2e'%(log[-1]))"
   ]
  },
  {
   "cell_type": "code",
   "execution_count": 17,
   "id": "e93f928b-9e9b-47bb-9dd7-bc85473d7041",
   "metadata": {
    "tags": []
   },
   "outputs": [
    {
     "data": {
      "image/png": "[encoded data removed]",
      "text/plain": [
       "<Figure size 432x288 with 1 Axes>"
      ]
     },
     "metadata": {
      "needs_background": "light"
     },
     "output_type": "display_data"
    }
   ],
   "source": [
    "plt.yscale('log')\n",
    "plt.plot(log, label = 'total loss')\n",
    "plt.plot(log_b, label = 'boundary loss')\n",
    "plt.plot(log_res, label = 'residual loss')\n",
    "\n",
    "plt.legend()\n",
    "plt.show()"
   ]
  },
  {
   "cell_type": "markdown",
   "id": "fe1c077e-c1c5-4a4d-921a-ebba3256a945",
   "metadata": {},
   "source": [
    "# Exact solution"
   ]
  },
  {
   "cell_type": "code",
   "execution_count": null,
   "id": "8abec41d-48b4-484b-9d45-f1886d1eee83",
   "metadata": {
    "tags": []
   },
   "outputs": [],
   "source": [
    "def chaleur(nx, D) :\n",
    "    \n",
    "    x = np.linspace(0, 1, nx)\n",
    "    dx = 1/(nx - 1)\n",
    "    A = -2 * np.eye(nx - 2) + np.eye(nx - 2, k = -1) + np.eye(nx - 2, k = 1)\n",
    "    b = - (dx**2 / D)* np.ones(nx - 2)\n",
    "    u = np.linalg.solve(A, b)\n",
    "    \n",
    "    return x, np.hstack([0., u, 0.])"
   ]
  },
  {
   "cell_type": "code",
   "execution_count": 19,
   "id": "f48d573d-db34-4974-ad93-87db27ca1057",
   "metadata": {
    "tags": []
   },
   "outputs": [
    {
     "name": "stdout",
     "output_type": "stream",
     "text": [
      "CPU times: user 130 ms, sys: 8 ms, total: 138 ms\n",
      "Wall time: 137 ms\n"
     ]
    }
   ],
   "source": [
    "%%time\n",
    "\n",
    "U = []\n",
    "\n",
    "for d in D.detach().cpu() : \n",
    "    x, u = chaleur(nx, d)\n",
    "    U.append(u)\n",
    "    \n",
    "U = np.stack(U)"
   ]
  },
  {
   "cell_type": "code",
   "execution_count": 20,
   "id": "b871ee34-b9c2-403f-a862-8eed73527d28",
   "metadata": {
    "tags": []
   },
   "outputs": [],
   "source": [
    "U_nn  = pinn(torch.cat([D_nn, x_nn], dim = 1)).detach().cpu()\n",
    "U_nn = U_nn.reshape(-1, nx)"
   ]
  },
  {
   "cell_type": "code",
   "execution_count": 45,
   "id": "8db0c03c-54c3-4617-98b4-c0b8bcc4c784",
   "metadata": {
    "tags": []
   },
   "outputs": [
    {
     "data": {
      "text/plain": [
       "array([0.06889669])"
      ]
     },
     "execution_count": 45,
     "metadata": {},
     "output_type": "execute_result"
    }
   ],
   "source": [
    "d = np.random.rand(1)\n",
    "d"
   ]
  },
  {
   "cell_type": "code",
   "execution_count": 24,
   "id": "787f5e2c-451c-41e2-a8f0-89b63244e080",
   "metadata": {
    "tags": []
   },
   "outputs": [
    {
     "data": {
      "image/png": "[encoded data removed]",
      "text/plain": [
       "<Figure size 432x288 with 1 Axes>"
      ]
     },
     "metadata": {
      "needs_background": "light"
     },
     "output_type": "display_data"
    }
   ],
   "source": [
    "i = 5\n",
    "\n",
    "plt.plot(x, U[i, :], lw = 2, label = 'true')\n",
    "plt.plot(x, U_nn[i, :], 'r-.', label = 'pinn')\n",
    "\n",
    "plt.legend()\n",
    "plt.show()"
   ]
  },
  {
   "cell_type": "markdown",
   "id": "b2aac033-2d25-4b9b-9899-faa5e7cac300",
   "metadata": {},
   "source": [
    "# Solveur 2"
   ]
  },
  {
   "cell_type": "code",
   "execution_count": 58,
   "id": "b82f2e09-a4fc-4e6c-8beb-d4548f6f890a",
   "metadata": {
    "tags": []
   },
   "outputs": [],
   "source": [
    "def chaleur(nx, D) :\n",
    "    \n",
    "    dx = 1/(nx - 1)\n",
    "    \n",
    "    # FD matrix\n",
    "    I = np.ones(nx - 2)\n",
    "    d = np.hstack([1, -2* I, 1])\n",
    "    ds = np.hstack([0, I])\n",
    "    di = np.hstack([I, 0])\n",
    "    \n",
    "    A = scipy.sparse.diags([di, d, ds], [-1, 0, 1])\n",
    "    \n",
    "    # Source term\n",
    "    b = - (dx**2 / D)* np.ones(nx)\n",
    "    \n",
    "    # Solve\n",
    "    u = scipy.sparse.linalg.spsolve(A, b)\n",
    "    \n",
    "    x = np.linspace(0, 1, nx)\n",
    "    return x, u"
   ]
  },
  {
   "cell_type": "code",
   "execution_count": 59,
   "id": "4152ed10-43ff-4401-a070-3d5f947976b9",
   "metadata": {
    "tags": []
   },
   "outputs": [],
   "source": [
    "nx = 100000"
   ]
  },
  {
   "cell_type": "code",
   "execution_count": 60,
   "id": "a9d60da3-ad5e-435e-9b9e-ca5ba9588cae",
   "metadata": {
    "tags": []
   },
   "outputs": [],
   "source": [
    "x, u = chaleur(nx, d)"
   ]
  },
  {
   "cell_type": "code",
   "execution_count": 61,
   "id": "2217c4ed-5bae-44b0-b0ce-c69840b36281",
   "metadata": {
    "tags": []
   },
   "outputs": [
    {
     "data": {
      "text/plain": [
       "[<matplotlib.lines.Line2D at 0x7fb8e2179b10>]"
      ]
     },
     "execution_count": 61,
     "metadata": {},
     "output_type": "execute_result"
    },
    {
     "data": {
      "image/png": "[encoded data removed]",
      "text/plain": [
       "<Figure size 432x288 with 1 Axes>"
      ]
     },
     "metadata": {
      "needs_background": "light"
     },
     "output_type": "display_data"
    }
   ],
   "source": [
    "plt.plot(x, u)"
   ]
  },
  {
   "cell_type": "code",
   "execution_count": 62,
   "id": "5291ab1d-3c27-4a12-9ad0-62e91219b182",
   "metadata": {
    "tags": []
   },
   "outputs": [
    {
     "data": {
      "text/plain": [
       "-1.4514776588508161e-09"
      ]
     },
     "execution_count": 62,
     "metadata": {},
     "output_type": "execute_result"
    }
   ],
   "source": [
    "u[0]"
   ]
  },
  {
   "cell_type": "code",
   "execution_count": 63,
   "id": "bab788bf-667f-4a18-96e6-00e76fc02caf",
   "metadata": {
    "tags": []
   },
   "outputs": [
    {
     "data": {
      "text/plain": [
       "-1.4514776588508161e-09"
      ]
     },
     "execution_count": 63,
     "metadata": {},
     "output_type": "execute_result"
    }
   ],
   "source": [
    "u[-1]"
   ]
  },
  {
   "cell_type": "code",
   "execution_count": null,
   "id": "3b207f2f-188f-4dd6-8518-9969b7249f01",
   "metadata": {},
   "outputs": [],
   "source": []
  }
 ],
 "metadata": {
  "kernelspec": {
   "display_name": "cemracs",
   "language": "python",
   "name": "cemracs"
  },
  "language_info": {
   "codemirror_mode": {
    "name": "ipython",
    "version": 3
   },
   "file_extension": ".py",
   "mimetype": "text/x-python",
   "name": "python",
   "nbconvert_exporter": "python",
   "pygments_lexer": "ipython3",
   "version": "3.11.4"
  }
 },
 "nbformat": 4,
 "nbformat_minor": 5
}
